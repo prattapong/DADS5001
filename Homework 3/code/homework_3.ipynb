{
 "cells": [
  {
   "cell_type": "markdown",
   "metadata": {},
   "source": [
    "# 1. Import Libraries"
   ]
  },
  {
   "cell_type": "code",
   "execution_count": 2,
   "metadata": {},
   "outputs": [],
   "source": [
    "import warnings\n",
    "import pandas as pd\n",
    "import plotly.express as px\n",
    "\n",
    "warnings.filterwarnings('ignore')"
   ]
  },
  {
   "cell_type": "markdown",
   "metadata": {},
   "source": [
    "# 2. Load Data"
   ]
  },
  {
   "cell_type": "code",
   "execution_count": 16,
   "metadata": {},
   "outputs": [],
   "source": [
    "# Specify file paths\n",
    "location_file = 'https://raw.githubusercontent.com/prattapong/DADS5001/main/Homework%203/data/tambon.csv'\n",
    "population_file = 'https://raw.githubusercontent.com/prattapong/DADS5001/main/Homework%203/data/bangkok_population.csv'\n",
    "\n",
    "# Load as DataFrame\n",
    "df_location = pd.read_csv(location_file)\n",
    "df_population = pd.read_csv(population_file)"
   ]
  },
  {
   "cell_type": "code",
   "execution_count": 15,
   "metadata": {},
   "outputs": [
    {
     "name": "stdout",
     "output_type": "stream",
     "text": [
      "Location DataFrame Shape: (7769, 12)\n"
     ]
    },
    {
     "data": {
      "text/html": [
       "<div>\n",
       "<style scoped>\n",
       "    .dataframe tbody tr th:only-of-type {\n",
       "        vertical-align: middle;\n",
       "    }\n",
       "\n",
       "    .dataframe tbody tr th {\n",
       "        vertical-align: top;\n",
       "    }\n",
       "\n",
       "    .dataframe thead th {\n",
       "        text-align: right;\n",
       "    }\n",
       "</style>\n",
       "<table border=\"1\" class=\"dataframe\">\n",
       "  <thead>\n",
       "    <tr style=\"text-align: right;\">\n",
       "      <th></th>\n",
       "      <th>AD_LEVEL</th>\n",
       "      <th>TA_ID</th>\n",
       "      <th>TAMBON_T</th>\n",
       "      <th>TAMBON_E</th>\n",
       "      <th>AM_ID</th>\n",
       "      <th>AMPHOE_T</th>\n",
       "      <th>AMPHOE_E</th>\n",
       "      <th>CH_ID</th>\n",
       "      <th>CHANGWAT_T</th>\n",
       "      <th>CHANGWAT_E</th>\n",
       "      <th>LAT</th>\n",
       "      <th>LONG</th>\n",
       "    </tr>\n",
       "  </thead>\n",
       "  <tbody>\n",
       "    <tr>\n",
       "      <th>0</th>\n",
       "      <td>4.0</td>\n",
       "      <td>910106.0</td>\n",
       "      <td>ต. เกาะสาหร่าย</td>\n",
       "      <td>Ko Sarai</td>\n",
       "      <td>9101.0</td>\n",
       "      <td>NaN</td>\n",
       "      <td>Mueang Satun</td>\n",
       "      <td>91.0</td>\n",
       "      <td>จ. สตูล</td>\n",
       "      <td>Satun</td>\n",
       "      <td>6.546</td>\n",
       "      <td>99.706</td>\n",
       "    </tr>\n",
       "    <tr>\n",
       "      <th>1</th>\n",
       "      <td>4.0</td>\n",
       "      <td>210114.0</td>\n",
       "      <td>ต. มาบตาพุด</td>\n",
       "      <td>Maptaphut</td>\n",
       "      <td>2101.0</td>\n",
       "      <td>อ. เมืองระยอง</td>\n",
       "      <td>Mueang Rayong</td>\n",
       "      <td>21.0</td>\n",
       "      <td>จ. ระยอง</td>\n",
       "      <td>Rayong</td>\n",
       "      <td>12.646</td>\n",
       "      <td>101.171</td>\n",
       "    </tr>\n",
       "    <tr>\n",
       "      <th>2</th>\n",
       "      <td>4.0</td>\n",
       "      <td>210114.0</td>\n",
       "      <td>ต. มาบตาพุด</td>\n",
       "      <td>Maptaphut</td>\n",
       "      <td>2101.0</td>\n",
       "      <td>อ. เมืองระยอง</td>\n",
       "      <td>Mueang Rayong</td>\n",
       "      <td>21.0</td>\n",
       "      <td>จ. ระยอง</td>\n",
       "      <td>Rayong</td>\n",
       "      <td>12.645</td>\n",
       "      <td>101.170</td>\n",
       "    </tr>\n",
       "    <tr>\n",
       "      <th>3</th>\n",
       "      <td>4.0</td>\n",
       "      <td>210114.0</td>\n",
       "      <td>ต. มาบตาพุด</td>\n",
       "      <td>Maptaphut</td>\n",
       "      <td>2101.0</td>\n",
       "      <td>อ. เมืองระยอง</td>\n",
       "      <td>Mueang Rayong</td>\n",
       "      <td>21.0</td>\n",
       "      <td>จ. ระยอง</td>\n",
       "      <td>Rayong</td>\n",
       "      <td>12.649</td>\n",
       "      <td>101.174</td>\n",
       "    </tr>\n",
       "    <tr>\n",
       "      <th>4</th>\n",
       "      <td>4.0</td>\n",
       "      <td>210114.0</td>\n",
       "      <td>ต. มาบตาพุด</td>\n",
       "      <td>Maptaphut</td>\n",
       "      <td>2101.0</td>\n",
       "      <td>อ. เมืองระยอง</td>\n",
       "      <td>Mueang Rayong</td>\n",
       "      <td>21.0</td>\n",
       "      <td>จ. ระยอง</td>\n",
       "      <td>Rayong</td>\n",
       "      <td>12.644</td>\n",
       "      <td>101.169</td>\n",
       "    </tr>\n",
       "  </tbody>\n",
       "</table>\n",
       "</div>"
      ],
      "text/plain": [
       "   AD_LEVEL     TA_ID        TAMBON_T   TAMBON_E   AM_ID       AMPHOE_T  \\\n",
       "0       4.0  910106.0  ต. เกาะสาหร่าย   Ko Sarai  9101.0            NaN   \n",
       "1       4.0  210114.0     ต. มาบตาพุด  Maptaphut  2101.0  อ. เมืองระยอง   \n",
       "2       4.0  210114.0     ต. มาบตาพุด  Maptaphut  2101.0  อ. เมืองระยอง   \n",
       "3       4.0  210114.0     ต. มาบตาพุด  Maptaphut  2101.0  อ. เมืองระยอง   \n",
       "4       4.0  210114.0     ต. มาบตาพุด  Maptaphut  2101.0  อ. เมืองระยอง   \n",
       "\n",
       "        AMPHOE_E  CH_ID CHANGWAT_T CHANGWAT_E     LAT     LONG  \n",
       "0   Mueang Satun   91.0    จ. สตูล      Satun   6.546   99.706  \n",
       "1  Mueang Rayong   21.0   จ. ระยอง     Rayong  12.646  101.171  \n",
       "2  Mueang Rayong   21.0   จ. ระยอง     Rayong  12.645  101.170  \n",
       "3  Mueang Rayong   21.0   จ. ระยอง     Rayong  12.649  101.174  \n",
       "4  Mueang Rayong   21.0   จ. ระยอง     Rayong  12.644  101.169  "
      ]
     },
     "metadata": {},
     "output_type": "display_data"
    },
    {
     "name": "stdout",
     "output_type": "stream",
     "text": [
      "Bangkok Population DataFrame Shape: (54, 4)\n"
     ]
    },
    {
     "data": {
      "text/html": [
       "<div>\n",
       "<style scoped>\n",
       "    .dataframe tbody tr th:only-of-type {\n",
       "        vertical-align: middle;\n",
       "    }\n",
       "\n",
       "    .dataframe tbody tr th {\n",
       "        vertical-align: top;\n",
       "    }\n",
       "\n",
       "    .dataframe thead th {\n",
       "        text-align: right;\n",
       "    }\n",
       "</style>\n",
       "<table border=\"1\" class=\"dataframe\">\n",
       "  <thead>\n",
       "    <tr style=\"text-align: right;\">\n",
       "      <th></th>\n",
       "      <th>พื้นที่</th>\n",
       "      <th>ชาย</th>\n",
       "      <th>หญิง</th>\n",
       "      <th>รวม</th>\n",
       "    </tr>\n",
       "  </thead>\n",
       "  <tbody>\n",
       "    <tr>\n",
       "      <th>0</th>\n",
       "      <td>ยอดรวมทั้งหมด</td>\n",
       "      <td>2,554,230</td>\n",
       "      <td>2,915,202</td>\n",
       "      <td>5,469,432</td>\n",
       "    </tr>\n",
       "    <tr>\n",
       "      <th>1</th>\n",
       "      <td>ท้องถิ่นเขตพระนคร</td>\n",
       "      <td>19,381</td>\n",
       "      <td>20,754</td>\n",
       "      <td>40,135</td>\n",
       "    </tr>\n",
       "    <tr>\n",
       "      <th>2</th>\n",
       "      <td>ท้องถิ่นเขตดุสิต</td>\n",
       "      <td>40,325</td>\n",
       "      <td>35,510</td>\n",
       "      <td>75,835</td>\n",
       "    </tr>\n",
       "    <tr>\n",
       "      <th>3</th>\n",
       "      <td>ท้องถิ่นเขตหนองจอก</td>\n",
       "      <td>89,451</td>\n",
       "      <td>94,899</td>\n",
       "      <td>184,350</td>\n",
       "    </tr>\n",
       "    <tr>\n",
       "      <th>4</th>\n",
       "      <td>ท้องถิ่นเขตบางรัก</td>\n",
       "      <td>20,064</td>\n",
       "      <td>22,759</td>\n",
       "      <td>42,823</td>\n",
       "    </tr>\n",
       "  </tbody>\n",
       "</table>\n",
       "</div>"
      ],
      "text/plain": [
       "              พื้นที่        ชาย       หญิง        รวม\n",
       "0       ยอดรวมทั้งหมด  2,554,230  2,915,202  5,469,432\n",
       "1   ท้องถิ่นเขตพระนคร     19,381     20,754     40,135\n",
       "2    ท้องถิ่นเขตดุสิต     40,325     35,510     75,835\n",
       "3  ท้องถิ่นเขตหนองจอก     89,451     94,899    184,350\n",
       "4   ท้องถิ่นเขตบางรัก     20,064     22,759     42,823"
      ]
     },
     "metadata": {},
     "output_type": "display_data"
    }
   ],
   "source": [
    "# Print shape and display first 5 rows\n",
    "print(f'Location DataFrame Shape: {df_location.shape}')\n",
    "display(df_location.head())\n",
    "print(f'Bangkok Population DataFrame Shape: {df_population.shape}')\n",
    "display(df_population.head())"
   ]
  },
  {
   "cell_type": "markdown",
   "metadata": {},
   "source": [
    "# 3. Data Cleansing"
   ]
  },
  {
   "cell_type": "markdown",
   "metadata": {},
   "source": [
    "## 3.1 Clean Location Data"
   ]
  },
  {
   "cell_type": "code",
   "execution_count": 13,
   "metadata": {},
   "outputs": [
    {
     "data": {
      "text/plain": [
       "array(['Satun', 'Rayong', 'Chumphon', 'Maha Sarakham', 'Surat Thani',\n",
       "       'Chon Buri', 'Trang', 'Chanthaburi', 'Phang-nga', 'Trat', 'Ranong',\n",
       "       'Phuket', 'Krabi', 'Bangkok', 'Nakhon Si Thammarat',\n",
       "       'Samut Sakhon', 'Phra Nakhon Si Ayutthaya', 'Lop Buri',\n",
       "       'Samut Prakarn', 'Ang Thong', 'Pattani', 'Chiang Mai', 'Chai Nat',\n",
       "       'Nonthaburi', 'Uttaradit', 'Khon Kaen', 'Nakhon Sawan',\n",
       "       'Phetchaburi', 'Sing Buri', 'Samut Songkhram', 'Ratchaburi',\n",
       "       'Nakhon Nayok', 'Saraburi', 'Nakhon Pathom', 'Kanchanaburi',\n",
       "       'Pathum Thani', 'Phitsanulok', 'Chachoengsao', 'Chiang Rai',\n",
       "       'Songkhla', 'Lamphun', 'Nong Khai', 'Ubon Ratchathani',\n",
       "       'Sukhothai', 'Phayao', 'Uthai Thani', 'Phrae', 'Phetchabun',\n",
       "       'Mae Hong Son', 'Buri Ram', 'Phichit', 'Nan', 'Yala',\n",
       "       'Suphan Buri', 'Nakhon Ratchasima', 'Prachin Buri', 'Tak',\n",
       "       'Roi Et', 'Nakhon Phanom', 'Mukdahan', 'Sa kaeo', 'Udon Thani',\n",
       "       'Lampang', 'Si Sa Ket', 'Yasothon', 'Phatthalung', 'Narathiwat',\n",
       "       'Loei', 'Kalasin', 'Surin', 'Prachuap Khiri Khan', 'Chaiyaphum',\n",
       "       'Sakon Nakhon', 'Kamphaeng Phet', 'Amnat Charoen',\n",
       "       'Nong Bua Lam Phu', 'Bueng Kan', nan], dtype=object)"
      ]
     },
     "execution_count": 13,
     "metadata": {},
     "output_type": "execute_result"
    }
   ],
   "source": [
    "# Check unique CHANGWAT_E\n",
    "df_location['CHANGWAT_E'].unique()"
   ]
  },
  {
   "cell_type": "code",
   "execution_count": 14,
   "metadata": {},
   "outputs": [
    {
     "data": {
      "text/html": [
       "<div>\n",
       "<style scoped>\n",
       "    .dataframe tbody tr th:only-of-type {\n",
       "        vertical-align: middle;\n",
       "    }\n",
       "\n",
       "    .dataframe tbody tr th {\n",
       "        vertical-align: top;\n",
       "    }\n",
       "\n",
       "    .dataframe thead th {\n",
       "        text-align: right;\n",
       "    }\n",
       "</style>\n",
       "<table border=\"1\" class=\"dataframe\">\n",
       "  <thead>\n",
       "    <tr style=\"text-align: right;\">\n",
       "      <th></th>\n",
       "      <th>AD_LEVEL</th>\n",
       "      <th>TA_ID</th>\n",
       "      <th>TAMBON_T</th>\n",
       "      <th>TAMBON_E</th>\n",
       "      <th>AM_ID</th>\n",
       "      <th>AMPHOE_T</th>\n",
       "      <th>AMPHOE_E</th>\n",
       "      <th>CH_ID</th>\n",
       "      <th>CHANGWAT_T</th>\n",
       "      <th>CHANGWAT_E</th>\n",
       "      <th>LAT</th>\n",
       "      <th>LONG</th>\n",
       "    </tr>\n",
       "  </thead>\n",
       "  <tbody>\n",
       "    <tr>\n",
       "      <th>7768</th>\n",
       "      <td>NaN</td>\n",
       "      <td>NaN</td>\n",
       "      <td>NaN</td>\n",
       "      <td>NaN</td>\n",
       "      <td>NaN</td>\n",
       "      <td>NaN</td>\n",
       "      <td>NaN</td>\n",
       "      <td>NaN</td>\n",
       "      <td>NaN</td>\n",
       "      <td>NaN</td>\n",
       "      <td>NaN</td>\n",
       "      <td>NaN</td>\n",
       "    </tr>\n",
       "  </tbody>\n",
       "</table>\n",
       "</div>"
      ],
      "text/plain": [
       "      AD_LEVEL  TA_ID TAMBON_T TAMBON_E  AM_ID AMPHOE_T AMPHOE_E  CH_ID  \\\n",
       "7768       NaN    NaN      NaN      NaN    NaN      NaN      NaN    NaN   \n",
       "\n",
       "     CHANGWAT_T CHANGWAT_E  LAT  LONG  \n",
       "7768        NaN        NaN  NaN   NaN  "
      ]
     },
     "execution_count": 14,
     "metadata": {},
     "output_type": "execute_result"
    }
   ],
   "source": [
    "# There is nan in the list, therefore, we will check for these rows\n",
    "df_location[df_location['CHANGWAT_E'].isna()]"
   ]
  },
  {
   "cell_type": "code",
   "execution_count": 18,
   "metadata": {},
   "outputs": [
    {
     "name": "stdout",
     "output_type": "stream",
     "text": [
      "(7768, 12)\n"
     ]
    }
   ],
   "source": [
    "# Since it has NaN in the entire row, we will drop this row\n",
    "df_location.dropna(subset = ['CHANGWAT_E'],\n",
    "                   axis = 0,\n",
    "                   inplace = True)\n",
    "print(df_location.shape)"
   ]
  },
  {
   "cell_type": "code",
   "execution_count": 20,
   "metadata": {},
   "outputs": [
    {
     "name": "stdout",
     "output_type": "stream",
     "text": [
      "['Amnat Charoen', 'Ang Thong', 'Bangkok', 'Bueng Kan', 'Buri Ram', 'Chachoengsao', 'Chai Nat', 'Chaiyaphum', 'Chanthaburi', 'Chiang Mai', 'Chiang Rai', 'Chon Buri', 'Chumphon', 'Kalasin', 'Kamphaeng Phet', 'Kanchanaburi', 'Khon Kaen', 'Krabi', 'Lampang', 'Lamphun', 'Loei', 'Lop Buri', 'Mae Hong Son', 'Maha Sarakham', 'Mukdahan', 'Nakhon Nayok', 'Nakhon Pathom', 'Nakhon Phanom', 'Nakhon Ratchasima', 'Nakhon Sawan', 'Nakhon Si Thammarat', 'Nan', 'Narathiwat', 'Nong Bua Lam Phu', 'Nong Khai', 'Nonthaburi', 'Pathum Thani', 'Pattani', 'Phang-nga', 'Phatthalung', 'Phayao', 'Phetchabun', 'Phetchaburi', 'Phichit', 'Phitsanulok', 'Phra Nakhon Si Ayutthaya', 'Phrae', 'Phuket', 'Prachin Buri', 'Prachuap Khiri Khan', 'Ranong', 'Ratchaburi', 'Rayong', 'Roi Et', 'Sa kaeo', 'Sakon Nakhon', 'Samut Prakarn', 'Samut Sakhon', 'Samut Songkhram', 'Saraburi', 'Satun', 'Si Sa Ket', 'Sing Buri', 'Songkhla', 'Sukhothai', 'Suphan Buri', 'Surat Thani', 'Surin', 'Tak', 'Trang', 'Trat', 'Ubon Ratchathani', 'Udon Thani', 'Uthai Thani', 'Uttaradit', 'Yala', 'Yasothon']\n",
      "77\n"
     ]
    }
   ],
   "source": [
    "# Print CHANGWAT_E and its total number\n",
    "print(sorted(df_location['CHANGWAT_E'].unique()))\n",
    "print(len(df_location['CHANGWAT_E'].unique()))"
   ]
  },
  {
   "cell_type": "code",
   "execution_count": 22,
   "metadata": {},
   "outputs": [
    {
     "name": "stdout",
     "output_type": "stream",
     "text": [
      "Bangkok Location DataFrame Shape: (154, 12)\n"
     ]
    },
    {
     "data": {
      "text/html": [
       "<div>\n",
       "<style scoped>\n",
       "    .dataframe tbody tr th:only-of-type {\n",
       "        vertical-align: middle;\n",
       "    }\n",
       "\n",
       "    .dataframe tbody tr th {\n",
       "        vertical-align: top;\n",
       "    }\n",
       "\n",
       "    .dataframe thead th {\n",
       "        text-align: right;\n",
       "    }\n",
       "</style>\n",
       "<table border=\"1\" class=\"dataframe\">\n",
       "  <thead>\n",
       "    <tr style=\"text-align: right;\">\n",
       "      <th></th>\n",
       "      <th>AD_LEVEL</th>\n",
       "      <th>TA_ID</th>\n",
       "      <th>TAMBON_T</th>\n",
       "      <th>TAMBON_E</th>\n",
       "      <th>AM_ID</th>\n",
       "      <th>AMPHOE_T</th>\n",
       "      <th>AMPHOE_E</th>\n",
       "      <th>CH_ID</th>\n",
       "      <th>CHANGWAT_T</th>\n",
       "      <th>CHANGWAT_E</th>\n",
       "      <th>LAT</th>\n",
       "      <th>LONG</th>\n",
       "    </tr>\n",
       "  </thead>\n",
       "  <tbody>\n",
       "    <tr>\n",
       "      <th>199</th>\n",
       "      <td>4.0</td>\n",
       "      <td>100106.0</td>\n",
       "      <td>แขวง เสาชิงช้า</td>\n",
       "      <td>Sao Chingcha</td>\n",
       "      <td>1001.0</td>\n",
       "      <td>เขต พระนคร</td>\n",
       "      <td>Phra Nakhon</td>\n",
       "      <td>10.0</td>\n",
       "      <td>กรุงเทพมหานคร</td>\n",
       "      <td>Bangkok</td>\n",
       "      <td>13.753</td>\n",
       "      <td>100.500</td>\n",
       "    </tr>\n",
       "    <tr>\n",
       "      <th>202</th>\n",
       "      <td>4.0</td>\n",
       "      <td>100105.0</td>\n",
       "      <td>แขวง ศาลเจ้าพ่อเสือ</td>\n",
       "      <td>San Chaopho Suea</td>\n",
       "      <td>1001.0</td>\n",
       "      <td>เขต พระนคร</td>\n",
       "      <td>Phra Nakhon</td>\n",
       "      <td>10.0</td>\n",
       "      <td>กรุงเทพมหานคร</td>\n",
       "      <td>Bangkok</td>\n",
       "      <td>13.754</td>\n",
       "      <td>100.497</td>\n",
       "    </tr>\n",
       "    <tr>\n",
       "      <th>214</th>\n",
       "      <td>4.0</td>\n",
       "      <td>100108.0</td>\n",
       "      <td>แขวง ตลาดยอด</td>\n",
       "      <td>Talat Yot</td>\n",
       "      <td>1001.0</td>\n",
       "      <td>เขต พระนคร</td>\n",
       "      <td>Phra Nakhon</td>\n",
       "      <td>10.0</td>\n",
       "      <td>กรุงเทพมหานคร</td>\n",
       "      <td>Bangkok</td>\n",
       "      <td>13.760</td>\n",
       "      <td>100.498</td>\n",
       "    </tr>\n",
       "    <tr>\n",
       "      <th>224</th>\n",
       "      <td>4.0</td>\n",
       "      <td>100103.0</td>\n",
       "      <td>แขวง วัดราชบพิธ</td>\n",
       "      <td>Wat Ratchabophit</td>\n",
       "      <td>1001.0</td>\n",
       "      <td>เขต พระนคร</td>\n",
       "      <td>Phra Nakhon</td>\n",
       "      <td>10.0</td>\n",
       "      <td>กรุงเทพมหานคร</td>\n",
       "      <td>Bangkok</td>\n",
       "      <td>13.750</td>\n",
       "      <td>100.499</td>\n",
       "    </tr>\n",
       "    <tr>\n",
       "      <th>243</th>\n",
       "      <td>4.0</td>\n",
       "      <td>100104.0</td>\n",
       "      <td>แขวง สำราญราษฎร์</td>\n",
       "      <td>Samran Rat</td>\n",
       "      <td>1001.0</td>\n",
       "      <td>เขต พระนคร</td>\n",
       "      <td>Phra Nakhon</td>\n",
       "      <td>10.0</td>\n",
       "      <td>กรุงเทพมหานคร</td>\n",
       "      <td>Bangkok</td>\n",
       "      <td>13.751</td>\n",
       "      <td>100.503</td>\n",
       "    </tr>\n",
       "  </tbody>\n",
       "</table>\n",
       "</div>"
      ],
      "text/plain": [
       "     AD_LEVEL     TA_ID             TAMBON_T          TAMBON_E   AM_ID  \\\n",
       "199       4.0  100106.0       แขวง เสาชิงช้า      Sao Chingcha  1001.0   \n",
       "202       4.0  100105.0  แขวง ศาลเจ้าพ่อเสือ  San Chaopho Suea  1001.0   \n",
       "214       4.0  100108.0         แขวง ตลาดยอด         Talat Yot  1001.0   \n",
       "224       4.0  100103.0      แขวง วัดราชบพิธ  Wat Ratchabophit  1001.0   \n",
       "243       4.0  100104.0     แขวง สำราญราษฎร์        Samran Rat  1001.0   \n",
       "\n",
       "       AMPHOE_T     AMPHOE_E  CH_ID     CHANGWAT_T CHANGWAT_E     LAT     LONG  \n",
       "199  เขต พระนคร  Phra Nakhon   10.0  กรุงเทพมหานคร    Bangkok  13.753  100.500  \n",
       "202  เขต พระนคร  Phra Nakhon   10.0  กรุงเทพมหานคร    Bangkok  13.754  100.497  \n",
       "214  เขต พระนคร  Phra Nakhon   10.0  กรุงเทพมหานคร    Bangkok  13.760  100.498  \n",
       "224  เขต พระนคร  Phra Nakhon   10.0  กรุงเทพมหานคร    Bangkok  13.750  100.499  \n",
       "243  เขต พระนคร  Phra Nakhon   10.0  กรุงเทพมหานคร    Bangkok  13.751  100.503  "
      ]
     },
     "metadata": {},
     "output_type": "display_data"
    }
   ],
   "source": [
    "# Slice DataFrame to only Bangkok\n",
    "df_bangkok = df_location[df_location['CHANGWAT_E'] == 'Bangkok']\n",
    "print(f'Bangkok Location DataFrame Shape: {df_bangkok.shape}')\n",
    "display(df_bangkok.head())"
   ]
  },
  {
   "cell_type": "code",
   "execution_count": 27,
   "metadata": {},
   "outputs": [
    {
     "data": {
      "text/html": [
       "<div>\n",
       "<style scoped>\n",
       "    .dataframe tbody tr th:only-of-type {\n",
       "        vertical-align: middle;\n",
       "    }\n",
       "\n",
       "    .dataframe tbody tr th {\n",
       "        vertical-align: top;\n",
       "    }\n",
       "\n",
       "    .dataframe thead th {\n",
       "        text-align: right;\n",
       "    }\n",
       "</style>\n",
       "<table border=\"1\" class=\"dataframe\">\n",
       "  <thead>\n",
       "    <tr style=\"text-align: right;\">\n",
       "      <th></th>\n",
       "      <th>District</th>\n",
       "      <th>lat</th>\n",
       "      <th>long</th>\n",
       "    </tr>\n",
       "  </thead>\n",
       "  <tbody>\n",
       "    <tr>\n",
       "      <th>0</th>\n",
       "      <td>คลองสาน</td>\n",
       "      <td>13.726500</td>\n",
       "      <td>100.502500</td>\n",
       "    </tr>\n",
       "    <tr>\n",
       "      <th>1</th>\n",
       "      <td>คลองสามวา</td>\n",
       "      <td>13.867800</td>\n",
       "      <td>100.739800</td>\n",
       "    </tr>\n",
       "    <tr>\n",
       "      <th>2</th>\n",
       "      <td>คลองเตย</td>\n",
       "      <td>13.713333</td>\n",
       "      <td>100.578667</td>\n",
       "    </tr>\n",
       "    <tr>\n",
       "      <th>3</th>\n",
       "      <td>คันนายาว</td>\n",
       "      <td>13.821000</td>\n",
       "      <td>100.677000</td>\n",
       "    </tr>\n",
       "    <tr>\n",
       "      <th>4</th>\n",
       "      <td>จตุจักร</td>\n",
       "      <td>13.826000</td>\n",
       "      <td>100.565000</td>\n",
       "    </tr>\n",
       "  </tbody>\n",
       "</table>\n",
       "</div>"
      ],
      "text/plain": [
       "    District        lat        long\n",
       "0    คลองสาน  13.726500  100.502500\n",
       "1  คลองสามวา  13.867800  100.739800\n",
       "2    คลองเตย  13.713333  100.578667\n",
       "3   คันนายาว  13.821000  100.677000\n",
       "4    จตุจักร  13.826000  100.565000"
      ]
     },
     "execution_count": 27,
     "metadata": {},
     "output_type": "execute_result"
    }
   ],
   "source": [
    "# Get mean latitude and longitude of each district\n",
    "df_latlong = df_bangkok.groupby('AMPHOE_T', as_index = False)[['LAT','LONG']].mean()\n",
    "\n",
    "# Replace the word \"เขต\" in the column AMPHOE_T and trim\n",
    "df_latlong['AMPHOE_T'] = df_latlong['AMPHOE_T'].str.replace('เขต', '').str.strip()\n",
    "\n",
    "# Rename columns\n",
    "df_latlong.columns = ['District', 'lat', 'long']\n",
    "df_latlong.head()"
   ]
  },
  {
   "cell_type": "code",
   "execution_count": 53,
   "metadata": {},
   "outputs": [
    {
     "data": {
      "text/plain": [
       "District     object\n",
       "lat         float64\n",
       "long        float64\n",
       "dtype: object"
      ]
     },
     "execution_count": 53,
     "metadata": {},
     "output_type": "execute_result"
    }
   ],
   "source": [
    "# Check Dtypes\n",
    "df_latlong.dtypes"
   ]
  },
  {
   "cell_type": "markdown",
   "metadata": {},
   "source": [
    "## 3.2 Clean Population Data"
   ]
  },
  {
   "cell_type": "code",
   "execution_count": 32,
   "metadata": {},
   "outputs": [],
   "source": [
    "# Since column names of df_population are in Thai, we will rename the column names first\n",
    "df_population.columns = ['District', 'Male', 'Female', 'Total']"
   ]
  },
  {
   "cell_type": "code",
   "execution_count": 40,
   "metadata": {},
   "outputs": [
    {
     "name": "stdout",
     "output_type": "stream",
     "text": [
      "District    3\n",
      "Male        3\n",
      "Female      3\n",
      "Total       3\n",
      "dtype: int64\n"
     ]
    },
    {
     "data": {
      "text/html": [
       "<div>\n",
       "<style scoped>\n",
       "    .dataframe tbody tr th:only-of-type {\n",
       "        vertical-align: middle;\n",
       "    }\n",
       "\n",
       "    .dataframe tbody tr th {\n",
       "        vertical-align: top;\n",
       "    }\n",
       "\n",
       "    .dataframe thead th {\n",
       "        text-align: right;\n",
       "    }\n",
       "</style>\n",
       "<table border=\"1\" class=\"dataframe\">\n",
       "  <thead>\n",
       "    <tr style=\"text-align: right;\">\n",
       "      <th></th>\n",
       "      <th>District</th>\n",
       "      <th>Male</th>\n",
       "      <th>Female</th>\n",
       "      <th>Total</th>\n",
       "    </tr>\n",
       "  </thead>\n",
       "  <tbody>\n",
       "    <tr>\n",
       "      <th>51</th>\n",
       "      <td>NaN</td>\n",
       "      <td>NaN</td>\n",
       "      <td>NaN</td>\n",
       "      <td>NaN</td>\n",
       "    </tr>\n",
       "    <tr>\n",
       "      <th>52</th>\n",
       "      <td>NaN</td>\n",
       "      <td>NaN</td>\n",
       "      <td>NaN</td>\n",
       "      <td>NaN</td>\n",
       "    </tr>\n",
       "    <tr>\n",
       "      <th>53</th>\n",
       "      <td>NaN</td>\n",
       "      <td>NaN</td>\n",
       "      <td>NaN</td>\n",
       "      <td>NaN</td>\n",
       "    </tr>\n",
       "  </tbody>\n",
       "</table>\n",
       "</div>"
      ],
      "text/plain": [
       "   District Male Female Total\n",
       "51      NaN  NaN    NaN   NaN\n",
       "52      NaN  NaN    NaN   NaN\n",
       "53      NaN  NaN    NaN   NaN"
      ]
     },
     "metadata": {},
     "output_type": "display_data"
    }
   ],
   "source": [
    "# Check missing values\n",
    "print(df_population.isna().sum())\n",
    "display(df_population[df_population.isna().any(axis = 1)])"
   ]
  },
  {
   "cell_type": "code",
   "execution_count": 41,
   "metadata": {},
   "outputs": [],
   "source": [
    "# Drop NaN\n",
    "df_population.dropna(axis = 0, inplace = True)"
   ]
  },
  {
   "cell_type": "code",
   "execution_count": 44,
   "metadata": {},
   "outputs": [],
   "source": [
    "# Get only district and total column\n",
    "df_population = df_population[['District', 'Total']]"
   ]
  },
  {
   "cell_type": "code",
   "execution_count": 45,
   "metadata": {},
   "outputs": [],
   "source": [
    "# Remove the word \"ท้องถิ่นเขต\" from District column and trim\n",
    "df_population['District'] = df_population['District'].str.replace('ท้องถิ่นเขต', '').str.strip()"
   ]
  },
  {
   "cell_type": "code",
   "execution_count": 51,
   "metadata": {},
   "outputs": [],
   "source": [
    "# Remove total row\n",
    "df_population = df_population[~df_population['District'].str.contains('ยอดรวม')]"
   ]
  },
  {
   "cell_type": "code",
   "execution_count": 54,
   "metadata": {},
   "outputs": [
    {
     "data": {
      "text/plain": [
       "District    object\n",
       "Total       object\n",
       "dtype: object"
      ]
     },
     "execution_count": 54,
     "metadata": {},
     "output_type": "execute_result"
    }
   ],
   "source": [
    "# Check Dtypes\n",
    "df_population.dtypes"
   ]
  },
  {
   "cell_type": "code",
   "execution_count": 56,
   "metadata": {},
   "outputs": [
    {
     "data": {
      "text/plain": [
       "District    object\n",
       "Total        int32\n",
       "dtype: object"
      ]
     },
     "execution_count": 56,
     "metadata": {},
     "output_type": "execute_result"
    }
   ],
   "source": [
    "# Cast Total column as integer\n",
    "df_population['Total'] = df_population['Total'].str.replace(',', '').astype('int')\n",
    "df_population.dtypes"
   ]
  },
  {
   "cell_type": "markdown",
   "metadata": {},
   "source": [
    "## 3.3 Merge DataFrames"
   ]
  },
  {
   "cell_type": "code",
   "execution_count": 61,
   "metadata": {},
   "outputs": [
    {
     "data": {
      "text/html": [
       "<div>\n",
       "<style scoped>\n",
       "    .dataframe tbody tr th:only-of-type {\n",
       "        vertical-align: middle;\n",
       "    }\n",
       "\n",
       "    .dataframe tbody tr th {\n",
       "        vertical-align: top;\n",
       "    }\n",
       "\n",
       "    .dataframe thead th {\n",
       "        text-align: right;\n",
       "    }\n",
       "</style>\n",
       "<table border=\"1\" class=\"dataframe\">\n",
       "  <thead>\n",
       "    <tr style=\"text-align: right;\">\n",
       "      <th></th>\n",
       "      <th>District</th>\n",
       "      <th>Total</th>\n",
       "    </tr>\n",
       "  </thead>\n",
       "  <tbody>\n",
       "    <tr>\n",
       "      <th>18</th>\n",
       "      <td>คลองสาน</td>\n",
       "      <td>64805</td>\n",
       "    </tr>\n",
       "    <tr>\n",
       "      <th>46</th>\n",
       "      <td>คลองสามวา</td>\n",
       "      <td>212131</td>\n",
       "    </tr>\n",
       "    <tr>\n",
       "      <th>33</th>\n",
       "      <td>คลองเตย</td>\n",
       "      <td>89398</td>\n",
       "    </tr>\n",
       "    <tr>\n",
       "      <th>43</th>\n",
       "      <td>คันนายาว</td>\n",
       "      <td>95069</td>\n",
       "    </tr>\n",
       "    <tr>\n",
       "      <th>30</th>\n",
       "      <td>จตุจักร</td>\n",
       "      <td>153969</td>\n",
       "    </tr>\n",
       "  </tbody>\n",
       "</table>\n",
       "</div>"
      ],
      "text/plain": [
       "     District   Total\n",
       "18    คลองสาน   64805\n",
       "46  คลองสามวา  212131\n",
       "33    คลองเตย   89398\n",
       "43   คันนายาว   95069\n",
       "30    จตุจักร  153969"
      ]
     },
     "metadata": {},
     "output_type": "display_data"
    },
    {
     "data": {
      "text/html": [
       "<div>\n",
       "<style scoped>\n",
       "    .dataframe tbody tr th:only-of-type {\n",
       "        vertical-align: middle;\n",
       "    }\n",
       "\n",
       "    .dataframe tbody tr th {\n",
       "        vertical-align: top;\n",
       "    }\n",
       "\n",
       "    .dataframe thead th {\n",
       "        text-align: right;\n",
       "    }\n",
       "</style>\n",
       "<table border=\"1\" class=\"dataframe\">\n",
       "  <thead>\n",
       "    <tr style=\"text-align: right;\">\n",
       "      <th></th>\n",
       "      <th>District</th>\n",
       "      <th>lat</th>\n",
       "      <th>long</th>\n",
       "    </tr>\n",
       "  </thead>\n",
       "  <tbody>\n",
       "    <tr>\n",
       "      <th>0</th>\n",
       "      <td>คลองสาน</td>\n",
       "      <td>13.726500</td>\n",
       "      <td>100.502500</td>\n",
       "    </tr>\n",
       "    <tr>\n",
       "      <th>1</th>\n",
       "      <td>คลองสามวา</td>\n",
       "      <td>13.867800</td>\n",
       "      <td>100.739800</td>\n",
       "    </tr>\n",
       "    <tr>\n",
       "      <th>2</th>\n",
       "      <td>คลองเตย</td>\n",
       "      <td>13.713333</td>\n",
       "      <td>100.578667</td>\n",
       "    </tr>\n",
       "    <tr>\n",
       "      <th>3</th>\n",
       "      <td>คันนายาว</td>\n",
       "      <td>13.821000</td>\n",
       "      <td>100.677000</td>\n",
       "    </tr>\n",
       "    <tr>\n",
       "      <th>4</th>\n",
       "      <td>จตุจักร</td>\n",
       "      <td>13.826000</td>\n",
       "      <td>100.565000</td>\n",
       "    </tr>\n",
       "  </tbody>\n",
       "</table>\n",
       "</div>"
      ],
      "text/plain": [
       "    District        lat        long\n",
       "0    คลองสาน  13.726500  100.502500\n",
       "1  คลองสามวา  13.867800  100.739800\n",
       "2    คลองเตย  13.713333  100.578667\n",
       "3   คันนายาว  13.821000  100.677000\n",
       "4    จตุจักร  13.826000  100.565000"
      ]
     },
     "metadata": {},
     "output_type": "display_data"
    }
   ],
   "source": [
    "# Check the format of both DataFrame wheter they match to merge or not\n",
    "display(df_population.sort_values(by = 'District').head())\n",
    "display(df_latlong.sort_values(by = 'District').head())"
   ]
  },
  {
   "cell_type": "code",
   "execution_count": 60,
   "metadata": {},
   "outputs": [
    {
     "name": "stdout",
     "output_type": "stream",
     "text": [
      "District    0\n",
      "Total       0\n",
      "lat         0\n",
      "long        0\n",
      "dtype: int64\n"
     ]
    },
    {
     "data": {
      "text/html": [
       "<div>\n",
       "<style scoped>\n",
       "    .dataframe tbody tr th:only-of-type {\n",
       "        vertical-align: middle;\n",
       "    }\n",
       "\n",
       "    .dataframe tbody tr th {\n",
       "        vertical-align: top;\n",
       "    }\n",
       "\n",
       "    .dataframe thead th {\n",
       "        text-align: right;\n",
       "    }\n",
       "</style>\n",
       "<table border=\"1\" class=\"dataframe\">\n",
       "  <thead>\n",
       "    <tr style=\"text-align: right;\">\n",
       "      <th></th>\n",
       "      <th>District</th>\n",
       "      <th>Total</th>\n",
       "      <th>lat</th>\n",
       "      <th>long</th>\n",
       "    </tr>\n",
       "  </thead>\n",
       "  <tbody>\n",
       "    <tr>\n",
       "      <th>0</th>\n",
       "      <td>พระนคร</td>\n",
       "      <td>40135</td>\n",
       "      <td>13.756417</td>\n",
       "      <td>100.499250</td>\n",
       "    </tr>\n",
       "    <tr>\n",
       "      <th>1</th>\n",
       "      <td>ดุสิต</td>\n",
       "      <td>75835</td>\n",
       "      <td>13.772800</td>\n",
       "      <td>100.515400</td>\n",
       "    </tr>\n",
       "    <tr>\n",
       "      <th>2</th>\n",
       "      <td>หนองจอก</td>\n",
       "      <td>184350</td>\n",
       "      <td>13.851250</td>\n",
       "      <td>100.856125</td>\n",
       "    </tr>\n",
       "    <tr>\n",
       "      <th>3</th>\n",
       "      <td>บางรัก</td>\n",
       "      <td>42823</td>\n",
       "      <td>13.728000</td>\n",
       "      <td>100.523200</td>\n",
       "    </tr>\n",
       "    <tr>\n",
       "      <th>4</th>\n",
       "      <td>บางเขน</td>\n",
       "      <td>184496</td>\n",
       "      <td>13.867000</td>\n",
       "      <td>100.628000</td>\n",
       "    </tr>\n",
       "  </tbody>\n",
       "</table>\n",
       "</div>"
      ],
      "text/plain": [
       "  District   Total        lat        long\n",
       "0   พระนคร   40135  13.756417  100.499250\n",
       "1    ดุสิต   75835  13.772800  100.515400\n",
       "2  หนองจอก  184350  13.851250  100.856125\n",
       "3   บางรัก   42823  13.728000  100.523200\n",
       "4   บางเขน  184496  13.867000  100.628000"
      ]
     },
     "metadata": {},
     "output_type": "display_data"
    }
   ],
   "source": [
    "df_merge = df_population.merge(right = df_latlong,\n",
    "                               how = 'left',\n",
    "                               on = 'District')\n",
    "print(df_merge.isna().sum())\n",
    "display(df_merge.head())"
   ]
  },
  {
   "cell_type": "code",
   "execution_count": 74,
   "metadata": {},
   "outputs": [
    {
     "data": {
      "text/html": [
       "<div>\n",
       "<style scoped>\n",
       "    .dataframe tbody tr th:only-of-type {\n",
       "        vertical-align: middle;\n",
       "    }\n",
       "\n",
       "    .dataframe tbody tr th {\n",
       "        vertical-align: top;\n",
       "    }\n",
       "\n",
       "    .dataframe thead th {\n",
       "        text-align: right;\n",
       "    }\n",
       "</style>\n",
       "<table border=\"1\" class=\"dataframe\">\n",
       "  <thead>\n",
       "    <tr style=\"text-align: right;\">\n",
       "      <th></th>\n",
       "      <th>District</th>\n",
       "      <th>Population</th>\n",
       "      <th>lat</th>\n",
       "      <th>long</th>\n",
       "    </tr>\n",
       "  </thead>\n",
       "  <tbody>\n",
       "    <tr>\n",
       "      <th>0</th>\n",
       "      <td>พระนคร</td>\n",
       "      <td>40135</td>\n",
       "      <td>13.756417</td>\n",
       "      <td>100.499250</td>\n",
       "    </tr>\n",
       "    <tr>\n",
       "      <th>1</th>\n",
       "      <td>ดุสิต</td>\n",
       "      <td>75835</td>\n",
       "      <td>13.772800</td>\n",
       "      <td>100.515400</td>\n",
       "    </tr>\n",
       "    <tr>\n",
       "      <th>2</th>\n",
       "      <td>หนองจอก</td>\n",
       "      <td>184350</td>\n",
       "      <td>13.851250</td>\n",
       "      <td>100.856125</td>\n",
       "    </tr>\n",
       "    <tr>\n",
       "      <th>3</th>\n",
       "      <td>บางรัก</td>\n",
       "      <td>42823</td>\n",
       "      <td>13.728000</td>\n",
       "      <td>100.523200</td>\n",
       "    </tr>\n",
       "    <tr>\n",
       "      <th>4</th>\n",
       "      <td>บางเขน</td>\n",
       "      <td>184496</td>\n",
       "      <td>13.867000</td>\n",
       "      <td>100.628000</td>\n",
       "    </tr>\n",
       "  </tbody>\n",
       "</table>\n",
       "</div>"
      ],
      "text/plain": [
       "  District  Population        lat        long\n",
       "0   พระนคร       40135  13.756417  100.499250\n",
       "1    ดุสิต       75835  13.772800  100.515400\n",
       "2  หนองจอก      184350  13.851250  100.856125\n",
       "3   บางรัก       42823  13.728000  100.523200\n",
       "4   บางเขน      184496  13.867000  100.628000"
      ]
     },
     "execution_count": 74,
     "metadata": {},
     "output_type": "execute_result"
    }
   ],
   "source": [
    "# Rename Total column to Population\n",
    "df_merge.rename(columns = {'Total': 'Population'}, inplace = True)\n",
    "df_merge.head()"
   ]
  },
  {
   "cell_type": "markdown",
   "metadata": {},
   "source": [
    "# 4. Plot in Plotly"
   ]
  },
  {
   "cell_type": "code",
   "execution_count": 67,
   "metadata": {},
   "outputs": [
    {
     "ename": "ValueError",
     "evalue": "Mime type rendering requires nbformat>=4.2.0 but it is not installed",
     "output_type": "error",
     "traceback": [
      "\u001b[1;31m---------------------------------------------------------------------------\u001b[0m",
      "\u001b[1;31mValueError\u001b[0m                                Traceback (most recent call last)",
      "Input \u001b[1;32mIn [67]\u001b[0m, in \u001b[0;36m<cell line: 10>\u001b[1;34m()\u001b[0m\n\u001b[0;32m      1\u001b[0m \u001b[38;5;66;03m# px.set_mapbox_access_token(open(\".mapbox_token\").read())\u001b[39;00m\n\u001b[0;32m      2\u001b[0m fig \u001b[38;5;241m=\u001b[39m px\u001b[38;5;241m.\u001b[39mscatter_mapbox(df_merge,\n\u001b[0;32m      3\u001b[0m                         lat \u001b[38;5;241m=\u001b[39m \u001b[38;5;124m'\u001b[39m\u001b[38;5;124mlat\u001b[39m\u001b[38;5;124m'\u001b[39m, \n\u001b[0;32m      4\u001b[0m                         lon \u001b[38;5;241m=\u001b[39m \u001b[38;5;124m'\u001b[39m\u001b[38;5;124mlong\u001b[39m\u001b[38;5;124m'\u001b[39m,\n\u001b[1;32m   (...)\u001b[0m\n\u001b[0;32m      8\u001b[0m                         size_max \u001b[38;5;241m=\u001b[39m \u001b[38;5;241m15\u001b[39m,\n\u001b[0;32m      9\u001b[0m                         zoom \u001b[38;5;241m=\u001b[39m \u001b[38;5;241m10\u001b[39m)\n\u001b[1;32m---> 10\u001b[0m \u001b[43mfig\u001b[49m\u001b[38;5;241;43m.\u001b[39;49m\u001b[43mshow\u001b[49m\u001b[43m(\u001b[49m\u001b[43m)\u001b[49m\n",
      "File \u001b[1;32mc:\\Users\\Rattapong.Pojpatin\\Anaconda3\\lib\\site-packages\\plotly\\basedatatypes.py:3398\u001b[0m, in \u001b[0;36mBaseFigure.show\u001b[1;34m(self, *args, **kwargs)\u001b[0m\n\u001b[0;32m   3365\u001b[0m \u001b[38;5;250m\u001b[39m\u001b[38;5;124;03m\"\"\"\u001b[39;00m\n\u001b[0;32m   3366\u001b[0m \u001b[38;5;124;03mShow a figure using either the default renderer(s) or the renderer(s)\u001b[39;00m\n\u001b[0;32m   3367\u001b[0m \u001b[38;5;124;03mspecified by the renderer argument\u001b[39;00m\n\u001b[1;32m   (...)\u001b[0m\n\u001b[0;32m   3394\u001b[0m \u001b[38;5;124;03mNone\u001b[39;00m\n\u001b[0;32m   3395\u001b[0m \u001b[38;5;124;03m\"\"\"\u001b[39;00m\n\u001b[0;32m   3396\u001b[0m \u001b[38;5;28;01mimport\u001b[39;00m \u001b[38;5;21;01mplotly\u001b[39;00m\u001b[38;5;21;01m.\u001b[39;00m\u001b[38;5;21;01mio\u001b[39;00m \u001b[38;5;28;01mas\u001b[39;00m \u001b[38;5;21;01mpio\u001b[39;00m\n\u001b[1;32m-> 3398\u001b[0m \u001b[38;5;28;01mreturn\u001b[39;00m pio\u001b[38;5;241m.\u001b[39mshow(\u001b[38;5;28mself\u001b[39m, \u001b[38;5;241m*\u001b[39margs, \u001b[38;5;241m*\u001b[39m\u001b[38;5;241m*\u001b[39mkwargs)\n",
      "File \u001b[1;32mc:\\Users\\Rattapong.Pojpatin\\Anaconda3\\lib\\site-packages\\plotly\\io\\_renderers.py:397\u001b[0m, in \u001b[0;36mshow\u001b[1;34m(fig, renderer, validate, **kwargs)\u001b[0m\n\u001b[0;32m    392\u001b[0m         \u001b[38;5;28;01mraise\u001b[39;00m \u001b[38;5;167;01mValueError\u001b[39;00m(\n\u001b[0;32m    393\u001b[0m             \u001b[38;5;124m\"\u001b[39m\u001b[38;5;124mMime type rendering requires ipython but it is not installed\u001b[39m\u001b[38;5;124m\"\u001b[39m\n\u001b[0;32m    394\u001b[0m         )\n\u001b[0;32m    396\u001b[0m     \u001b[38;5;28;01mif\u001b[39;00m \u001b[38;5;129;01mnot\u001b[39;00m nbformat \u001b[38;5;129;01mor\u001b[39;00m LooseVersion(nbformat\u001b[38;5;241m.\u001b[39m__version__) \u001b[38;5;241m<\u001b[39m LooseVersion(\u001b[38;5;124m\"\u001b[39m\u001b[38;5;124m4.2.0\u001b[39m\u001b[38;5;124m\"\u001b[39m):\n\u001b[1;32m--> 397\u001b[0m         \u001b[38;5;28;01mraise\u001b[39;00m \u001b[38;5;167;01mValueError\u001b[39;00m(\n\u001b[0;32m    398\u001b[0m             \u001b[38;5;124m\"\u001b[39m\u001b[38;5;124mMime type rendering requires nbformat>=4.2.0 but it is not installed\u001b[39m\u001b[38;5;124m\"\u001b[39m\n\u001b[0;32m    399\u001b[0m         )\n\u001b[0;32m    401\u001b[0m     ipython_display\u001b[38;5;241m.\u001b[39mdisplay(bundle, raw\u001b[38;5;241m=\u001b[39m\u001b[38;5;28;01mTrue\u001b[39;00m)\n\u001b[0;32m    403\u001b[0m \u001b[38;5;66;03m# external renderers\u001b[39;00m\n",
      "\u001b[1;31mValueError\u001b[0m: Mime type rendering requires nbformat>=4.2.0 but it is not installed"
     ]
    }
   ],
   "source": [
    "# px.set_mapbox_access_token(open(\".mapbox_token\").read())\n",
    "fig = px.scatter_mapbox(df_merge,\n",
    "                        lat = 'lat', \n",
    "                        lon = 'long',\n",
    "                        color = 'Population',\n",
    "                        size = 'Population',\n",
    "                        color_continuous_scale = px.colors.cyclical.IceFire,\n",
    "                        size_max = 15,\n",
    "                        zoom = 10)\n",
    "fig.show()"
   ]
  },
  {
   "cell_type": "code",
   "execution_count": null,
   "metadata": {},
   "outputs": [],
   "source": []
  }
 ],
 "metadata": {
  "kernelspec": {
   "display_name": "base",
   "language": "python",
   "name": "python3"
  },
  "language_info": {
   "codemirror_mode": {
    "name": "ipython",
    "version": 3
   },
   "file_extension": ".py",
   "mimetype": "text/x-python",
   "name": "python",
   "nbconvert_exporter": "python",
   "pygments_lexer": "ipython3",
   "version": "3.9.12"
  }
 },
 "nbformat": 4,
 "nbformat_minor": 2
}
