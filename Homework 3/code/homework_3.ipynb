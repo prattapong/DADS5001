{
 "cells": [
  {
   "cell_type": "markdown",
   "metadata": {},
   "source": [
    "# 1. Import Libraries"
   ]
  },
  {
   "cell_type": "code",
   "execution_count": 195,
   "metadata": {},
   "outputs": [],
   "source": [
    "import warnings\n",
    "import numpy as np\n",
    "import pandas as pd\n",
    "import requests\n",
    "from bs4 import BeautifulSoup\n",
    "import plotly.express as px\n",
    "import plotly.graph_objects as go\n",
    "\n",
    "warnings.filterwarnings('ignore')"
   ]
  },
  {
   "cell_type": "markdown",
   "metadata": {},
   "source": [
    "# 2. Load Data"
   ]
  },
  {
   "cell_type": "code",
   "execution_count": 72,
   "metadata": {},
   "outputs": [],
   "source": [
    "# Specify file paths\n",
    "location_file = 'https://raw.githubusercontent.com/prattapong/DADS5001/main/Homework%203/data/tambon.csv'\n",
    "population_file = 'https://raw.githubusercontent.com/prattapong/DADS5001/main/Homework%203/data/bangkok_population.csv'\n",
    "\n",
    "# Load as DataFrame\n",
    "df_location = pd.read_csv(location_file)\n",
    "df_population = pd.read_csv(population_file)"
   ]
  },
  {
   "cell_type": "code",
   "execution_count": 116,
   "metadata": {},
   "outputs": [],
   "source": [
    "url = \"https://e-report.energy.go.th/area/Bangkok.htm\"\n",
    "response = requests.get(url)\n",
    "\n",
    "soup = BeautifulSoup(response.text, 'html.parser')\n",
    "table = soup.find('table', class_ = 'MsoNormalTable')\n",
    "\n",
    "# Extract table rows and columns\n",
    "data = []\n",
    "rows = table.find_all('tr')\n",
    "for row in rows:\n",
    "    columns = row.find_all('td')\n",
    "    data.append([column.text.strip().encode('latin1').decode('tis-620') for column in columns])\n",
    "\n",
    "df_area = pd.DataFrame(data)"
   ]
  },
  {
   "cell_type": "code",
   "execution_count": 107,
   "metadata": {},
   "outputs": [
    {
     "name": "stdout",
     "output_type": "stream",
     "text": [
      "Location DataFrame Shape: (7768, 12)\n"
     ]
    },
    {
     "data": {
      "text/html": [
       "<div>\n",
       "<style scoped>\n",
       "    .dataframe tbody tr th:only-of-type {\n",
       "        vertical-align: middle;\n",
       "    }\n",
       "\n",
       "    .dataframe tbody tr th {\n",
       "        vertical-align: top;\n",
       "    }\n",
       "\n",
       "    .dataframe thead th {\n",
       "        text-align: right;\n",
       "    }\n",
       "</style>\n",
       "<table border=\"1\" class=\"dataframe\">\n",
       "  <thead>\n",
       "    <tr style=\"text-align: right;\">\n",
       "      <th></th>\n",
       "      <th>AD_LEVEL</th>\n",
       "      <th>TA_ID</th>\n",
       "      <th>TAMBON_T</th>\n",
       "      <th>TAMBON_E</th>\n",
       "      <th>AM_ID</th>\n",
       "      <th>AMPHOE_T</th>\n",
       "      <th>AMPHOE_E</th>\n",
       "      <th>CH_ID</th>\n",
       "      <th>CHANGWAT_T</th>\n",
       "      <th>CHANGWAT_E</th>\n",
       "      <th>LAT</th>\n",
       "      <th>LONG</th>\n",
       "    </tr>\n",
       "  </thead>\n",
       "  <tbody>\n",
       "    <tr>\n",
       "      <th>0</th>\n",
       "      <td>4.0</td>\n",
       "      <td>910106.0</td>\n",
       "      <td>ต. เกาะสาหร่าย</td>\n",
       "      <td>Ko Sarai</td>\n",
       "      <td>9101.0</td>\n",
       "      <td>NaN</td>\n",
       "      <td>Mueang Satun</td>\n",
       "      <td>91.0</td>\n",
       "      <td>จ. สตูล</td>\n",
       "      <td>Satun</td>\n",
       "      <td>6.546</td>\n",
       "      <td>99.706</td>\n",
       "    </tr>\n",
       "    <tr>\n",
       "      <th>1</th>\n",
       "      <td>4.0</td>\n",
       "      <td>210114.0</td>\n",
       "      <td>ต. มาบตาพุด</td>\n",
       "      <td>Maptaphut</td>\n",
       "      <td>2101.0</td>\n",
       "      <td>อ. เมืองระยอง</td>\n",
       "      <td>Mueang Rayong</td>\n",
       "      <td>21.0</td>\n",
       "      <td>จ. ระยอง</td>\n",
       "      <td>Rayong</td>\n",
       "      <td>12.646</td>\n",
       "      <td>101.171</td>\n",
       "    </tr>\n",
       "    <tr>\n",
       "      <th>2</th>\n",
       "      <td>4.0</td>\n",
       "      <td>210114.0</td>\n",
       "      <td>ต. มาบตาพุด</td>\n",
       "      <td>Maptaphut</td>\n",
       "      <td>2101.0</td>\n",
       "      <td>อ. เมืองระยอง</td>\n",
       "      <td>Mueang Rayong</td>\n",
       "      <td>21.0</td>\n",
       "      <td>จ. ระยอง</td>\n",
       "      <td>Rayong</td>\n",
       "      <td>12.645</td>\n",
       "      <td>101.170</td>\n",
       "    </tr>\n",
       "    <tr>\n",
       "      <th>3</th>\n",
       "      <td>4.0</td>\n",
       "      <td>210114.0</td>\n",
       "      <td>ต. มาบตาพุด</td>\n",
       "      <td>Maptaphut</td>\n",
       "      <td>2101.0</td>\n",
       "      <td>อ. เมืองระยอง</td>\n",
       "      <td>Mueang Rayong</td>\n",
       "      <td>21.0</td>\n",
       "      <td>จ. ระยอง</td>\n",
       "      <td>Rayong</td>\n",
       "      <td>12.649</td>\n",
       "      <td>101.174</td>\n",
       "    </tr>\n",
       "    <tr>\n",
       "      <th>4</th>\n",
       "      <td>4.0</td>\n",
       "      <td>210114.0</td>\n",
       "      <td>ต. มาบตาพุด</td>\n",
       "      <td>Maptaphut</td>\n",
       "      <td>2101.0</td>\n",
       "      <td>อ. เมืองระยอง</td>\n",
       "      <td>Mueang Rayong</td>\n",
       "      <td>21.0</td>\n",
       "      <td>จ. ระยอง</td>\n",
       "      <td>Rayong</td>\n",
       "      <td>12.644</td>\n",
       "      <td>101.169</td>\n",
       "    </tr>\n",
       "  </tbody>\n",
       "</table>\n",
       "</div>"
      ],
      "text/plain": [
       "   AD_LEVEL     TA_ID        TAMBON_T   TAMBON_E   AM_ID       AMPHOE_T  \\\n",
       "0       4.0  910106.0  ต. เกาะสาหร่าย   Ko Sarai  9101.0            NaN   \n",
       "1       4.0  210114.0     ต. มาบตาพุด  Maptaphut  2101.0  อ. เมืองระยอง   \n",
       "2       4.0  210114.0     ต. มาบตาพุด  Maptaphut  2101.0  อ. เมืองระยอง   \n",
       "3       4.0  210114.0     ต. มาบตาพุด  Maptaphut  2101.0  อ. เมืองระยอง   \n",
       "4       4.0  210114.0     ต. มาบตาพุด  Maptaphut  2101.0  อ. เมืองระยอง   \n",
       "\n",
       "        AMPHOE_E  CH_ID CHANGWAT_T CHANGWAT_E     LAT     LONG  \n",
       "0   Mueang Satun   91.0    จ. สตูล      Satun   6.546   99.706  \n",
       "1  Mueang Rayong   21.0   จ. ระยอง     Rayong  12.646  101.171  \n",
       "2  Mueang Rayong   21.0   จ. ระยอง     Rayong  12.645  101.170  \n",
       "3  Mueang Rayong   21.0   จ. ระยอง     Rayong  12.649  101.174  \n",
       "4  Mueang Rayong   21.0   จ. ระยอง     Rayong  12.644  101.169  "
      ]
     },
     "metadata": {},
     "output_type": "display_data"
    },
    {
     "name": "stdout",
     "output_type": "stream",
     "text": [
      "Bangkok Population DataFrame Shape: (50, 4)\n"
     ]
    },
    {
     "data": {
      "text/html": [
       "<div>\n",
       "<style scoped>\n",
       "    .dataframe tbody tr th:only-of-type {\n",
       "        vertical-align: middle;\n",
       "    }\n",
       "\n",
       "    .dataframe tbody tr th {\n",
       "        vertical-align: top;\n",
       "    }\n",
       "\n",
       "    .dataframe thead th {\n",
       "        text-align: right;\n",
       "    }\n",
       "</style>\n",
       "<table border=\"1\" class=\"dataframe\">\n",
       "  <thead>\n",
       "    <tr style=\"text-align: right;\">\n",
       "      <th></th>\n",
       "      <th>District</th>\n",
       "      <th>Male</th>\n",
       "      <th>Female</th>\n",
       "      <th>Total</th>\n",
       "    </tr>\n",
       "  </thead>\n",
       "  <tbody>\n",
       "    <tr>\n",
       "      <th>1</th>\n",
       "      <td>พระนคร</td>\n",
       "      <td>19381</td>\n",
       "      <td>20754</td>\n",
       "      <td>40135</td>\n",
       "    </tr>\n",
       "    <tr>\n",
       "      <th>2</th>\n",
       "      <td>ดุสิต</td>\n",
       "      <td>40325</td>\n",
       "      <td>35510</td>\n",
       "      <td>75835</td>\n",
       "    </tr>\n",
       "    <tr>\n",
       "      <th>3</th>\n",
       "      <td>หนองจอก</td>\n",
       "      <td>89451</td>\n",
       "      <td>94899</td>\n",
       "      <td>184350</td>\n",
       "    </tr>\n",
       "    <tr>\n",
       "      <th>4</th>\n",
       "      <td>บางรัก</td>\n",
       "      <td>20064</td>\n",
       "      <td>22759</td>\n",
       "      <td>42823</td>\n",
       "    </tr>\n",
       "    <tr>\n",
       "      <th>5</th>\n",
       "      <td>บางเขน</td>\n",
       "      <td>85943</td>\n",
       "      <td>98553</td>\n",
       "      <td>184496</td>\n",
       "    </tr>\n",
       "  </tbody>\n",
       "</table>\n",
       "</div>"
      ],
      "text/plain": [
       "  District   Male  Female   Total\n",
       "1   พระนคร  19381   20754   40135\n",
       "2    ดุสิต  40325   35510   75835\n",
       "3  หนองจอก  89451   94899  184350\n",
       "4   บางรัก  20064   22759   42823\n",
       "5   บางเขน  85943   98553  184496"
      ]
     },
     "metadata": {},
     "output_type": "display_data"
    },
    {
     "name": "stdout",
     "output_type": "stream",
     "text": [
      "District Area DataFrame Shape: (211, 3)\n"
     ]
    },
    {
     "data": {
      "text/html": [
       "<div>\n",
       "<style scoped>\n",
       "    .dataframe tbody tr th:only-of-type {\n",
       "        vertical-align: middle;\n",
       "    }\n",
       "\n",
       "    .dataframe tbody tr th {\n",
       "        vertical-align: top;\n",
       "    }\n",
       "\n",
       "    .dataframe thead th {\n",
       "        text-align: right;\n",
       "    }\n",
       "</style>\n",
       "<table border=\"1\" class=\"dataframe\">\n",
       "  <thead>\n",
       "    <tr style=\"text-align: right;\">\n",
       "      <th></th>\n",
       "      <th>0</th>\n",
       "      <th>1</th>\n",
       "      <th>2</th>\n",
       "    </tr>\n",
       "  </thead>\n",
       "  <tbody>\n",
       "    <tr>\n",
       "      <th>0</th>\n",
       "      <td>ลำดับ</td>\n",
       "      <td>อำเภอ/กิ่งอำเภอ</td>\n",
       "      <td>เนื้อที่ (ตร.กม.)</td>\n",
       "    </tr>\n",
       "    <tr>\n",
       "      <th>1</th>\n",
       "      <td>1</td>\n",
       "      <td>เขตคลองเตย</td>\n",
       "      <td>12.99</td>\n",
       "    </tr>\n",
       "    <tr>\n",
       "      <th>2</th>\n",
       "      <td></td>\n",
       "      <td>แขวงคลองเตย</td>\n",
       "      <td>7.25</td>\n",
       "    </tr>\n",
       "    <tr>\n",
       "      <th>3</th>\n",
       "      <td></td>\n",
       "      <td>แขวงคลองตัน</td>\n",
       "      <td>1.90</td>\n",
       "    </tr>\n",
       "    <tr>\n",
       "      <th>4</th>\n",
       "      <td></td>\n",
       "      <td>แขวงพระโขนง</td>\n",
       "      <td>3.85</td>\n",
       "    </tr>\n",
       "  </tbody>\n",
       "</table>\n",
       "</div>"
      ],
      "text/plain": [
       "       0                1                  2\n",
       "0  ลำดับ  อำเภอ/กิ่งอำเภอ  เนื้อที่ (ตร.กม.)\n",
       "1      1       เขตคลองเตย              12.99\n",
       "2             แขวงคลองเตย               7.25\n",
       "3             แขวงคลองตัน               1.90\n",
       "4             แขวงพระโขนง               3.85"
      ]
     },
     "metadata": {},
     "output_type": "display_data"
    }
   ],
   "source": [
    "# Print shape and display first 5 rows\n",
    "print(f'Location DataFrame Shape: {df_location.shape}')\n",
    "display(df_location.head())\n",
    "print(f'Bangkok Population DataFrame Shape: {df_population.shape}')\n",
    "display(df_population.head())\n",
    "print(f'District Area DataFrame Shape: {df_area.shape}')\n",
    "display(df_area.head())"
   ]
  },
  {
   "cell_type": "markdown",
   "metadata": {},
   "source": [
    "# 3. Data Cleansing"
   ]
  },
  {
   "cell_type": "markdown",
   "metadata": {},
   "source": [
    "## 3.1 Clean Location Data"
   ]
  },
  {
   "cell_type": "code",
   "execution_count": 74,
   "metadata": {},
   "outputs": [
    {
     "data": {
      "text/plain": [
       "array(['Satun', 'Rayong', 'Chumphon', 'Maha Sarakham', 'Surat Thani',\n",
       "       'Chon Buri', 'Trang', 'Chanthaburi', 'Phang-nga', 'Trat', 'Ranong',\n",
       "       'Phuket', 'Krabi', 'Bangkok', 'Nakhon Si Thammarat',\n",
       "       'Samut Sakhon', 'Phra Nakhon Si Ayutthaya', 'Lop Buri',\n",
       "       'Samut Prakarn', 'Ang Thong', 'Pattani', 'Chiang Mai', 'Chai Nat',\n",
       "       'Nonthaburi', 'Uttaradit', 'Khon Kaen', 'Nakhon Sawan',\n",
       "       'Phetchaburi', 'Sing Buri', 'Samut Songkhram', 'Ratchaburi',\n",
       "       'Nakhon Nayok', 'Saraburi', 'Nakhon Pathom', 'Kanchanaburi',\n",
       "       'Pathum Thani', 'Phitsanulok', 'Chachoengsao', 'Chiang Rai',\n",
       "       'Songkhla', 'Lamphun', 'Nong Khai', 'Ubon Ratchathani',\n",
       "       'Sukhothai', 'Phayao', 'Uthai Thani', 'Phrae', 'Phetchabun',\n",
       "       'Mae Hong Son', 'Buri Ram', 'Phichit', 'Nan', 'Yala',\n",
       "       'Suphan Buri', 'Nakhon Ratchasima', 'Prachin Buri', 'Tak',\n",
       "       'Roi Et', 'Nakhon Phanom', 'Mukdahan', 'Sa kaeo', 'Udon Thani',\n",
       "       'Lampang', 'Si Sa Ket', 'Yasothon', 'Phatthalung', 'Narathiwat',\n",
       "       'Loei', 'Kalasin', 'Surin', 'Prachuap Khiri Khan', 'Chaiyaphum',\n",
       "       'Sakon Nakhon', 'Kamphaeng Phet', 'Amnat Charoen',\n",
       "       'Nong Bua Lam Phu', 'Bueng Kan', nan], dtype=object)"
      ]
     },
     "execution_count": 74,
     "metadata": {},
     "output_type": "execute_result"
    }
   ],
   "source": [
    "# Check unique CHANGWAT_E\n",
    "df_location['CHANGWAT_E'].unique()"
   ]
  },
  {
   "cell_type": "code",
   "execution_count": 75,
   "metadata": {},
   "outputs": [
    {
     "data": {
      "text/html": [
       "<div>\n",
       "<style scoped>\n",
       "    .dataframe tbody tr th:only-of-type {\n",
       "        vertical-align: middle;\n",
       "    }\n",
       "\n",
       "    .dataframe tbody tr th {\n",
       "        vertical-align: top;\n",
       "    }\n",
       "\n",
       "    .dataframe thead th {\n",
       "        text-align: right;\n",
       "    }\n",
       "</style>\n",
       "<table border=\"1\" class=\"dataframe\">\n",
       "  <thead>\n",
       "    <tr style=\"text-align: right;\">\n",
       "      <th></th>\n",
       "      <th>AD_LEVEL</th>\n",
       "      <th>TA_ID</th>\n",
       "      <th>TAMBON_T</th>\n",
       "      <th>TAMBON_E</th>\n",
       "      <th>AM_ID</th>\n",
       "      <th>AMPHOE_T</th>\n",
       "      <th>AMPHOE_E</th>\n",
       "      <th>CH_ID</th>\n",
       "      <th>CHANGWAT_T</th>\n",
       "      <th>CHANGWAT_E</th>\n",
       "      <th>LAT</th>\n",
       "      <th>LONG</th>\n",
       "    </tr>\n",
       "  </thead>\n",
       "  <tbody>\n",
       "    <tr>\n",
       "      <th>7768</th>\n",
       "      <td>NaN</td>\n",
       "      <td>NaN</td>\n",
       "      <td>NaN</td>\n",
       "      <td>NaN</td>\n",
       "      <td>NaN</td>\n",
       "      <td>NaN</td>\n",
       "      <td>NaN</td>\n",
       "      <td>NaN</td>\n",
       "      <td>NaN</td>\n",
       "      <td>NaN</td>\n",
       "      <td>NaN</td>\n",
       "      <td>NaN</td>\n",
       "    </tr>\n",
       "  </tbody>\n",
       "</table>\n",
       "</div>"
      ],
      "text/plain": [
       "      AD_LEVEL  TA_ID TAMBON_T TAMBON_E  AM_ID AMPHOE_T AMPHOE_E  CH_ID  \\\n",
       "7768       NaN    NaN      NaN      NaN    NaN      NaN      NaN    NaN   \n",
       "\n",
       "     CHANGWAT_T CHANGWAT_E  LAT  LONG  \n",
       "7768        NaN        NaN  NaN   NaN  "
      ]
     },
     "execution_count": 75,
     "metadata": {},
     "output_type": "execute_result"
    }
   ],
   "source": [
    "# There is nan in the list, therefore, we will check for these rows\n",
    "df_location[df_location['CHANGWAT_E'].isna()]"
   ]
  },
  {
   "cell_type": "code",
   "execution_count": 76,
   "metadata": {},
   "outputs": [
    {
     "name": "stdout",
     "output_type": "stream",
     "text": [
      "(7768, 12)\n"
     ]
    }
   ],
   "source": [
    "# Since it has NaN in the entire row, we will drop this row\n",
    "df_location.dropna(subset = ['CHANGWAT_E'],\n",
    "                   axis = 0,\n",
    "                   inplace = True)\n",
    "print(df_location.shape)"
   ]
  },
  {
   "cell_type": "code",
   "execution_count": 77,
   "metadata": {},
   "outputs": [
    {
     "name": "stdout",
     "output_type": "stream",
     "text": [
      "['Amnat Charoen', 'Ang Thong', 'Bangkok', 'Bueng Kan', 'Buri Ram', 'Chachoengsao', 'Chai Nat', 'Chaiyaphum', 'Chanthaburi', 'Chiang Mai', 'Chiang Rai', 'Chon Buri', 'Chumphon', 'Kalasin', 'Kamphaeng Phet', 'Kanchanaburi', 'Khon Kaen', 'Krabi', 'Lampang', 'Lamphun', 'Loei', 'Lop Buri', 'Mae Hong Son', 'Maha Sarakham', 'Mukdahan', 'Nakhon Nayok', 'Nakhon Pathom', 'Nakhon Phanom', 'Nakhon Ratchasima', 'Nakhon Sawan', 'Nakhon Si Thammarat', 'Nan', 'Narathiwat', 'Nong Bua Lam Phu', 'Nong Khai', 'Nonthaburi', 'Pathum Thani', 'Pattani', 'Phang-nga', 'Phatthalung', 'Phayao', 'Phetchabun', 'Phetchaburi', 'Phichit', 'Phitsanulok', 'Phra Nakhon Si Ayutthaya', 'Phrae', 'Phuket', 'Prachin Buri', 'Prachuap Khiri Khan', 'Ranong', 'Ratchaburi', 'Rayong', 'Roi Et', 'Sa kaeo', 'Sakon Nakhon', 'Samut Prakarn', 'Samut Sakhon', 'Samut Songkhram', 'Saraburi', 'Satun', 'Si Sa Ket', 'Sing Buri', 'Songkhla', 'Sukhothai', 'Suphan Buri', 'Surat Thani', 'Surin', 'Tak', 'Trang', 'Trat', 'Ubon Ratchathani', 'Udon Thani', 'Uthai Thani', 'Uttaradit', 'Yala', 'Yasothon']\n",
      "77\n"
     ]
    }
   ],
   "source": [
    "# Print CHANGWAT_E and its total number\n",
    "print(sorted(df_location['CHANGWAT_E'].unique()))\n",
    "print(len(df_location['CHANGWAT_E'].unique()))"
   ]
  },
  {
   "cell_type": "code",
   "execution_count": 78,
   "metadata": {},
   "outputs": [
    {
     "name": "stdout",
     "output_type": "stream",
     "text": [
      "Bangkok Location DataFrame Shape: (154, 12)\n"
     ]
    },
    {
     "data": {
      "text/html": [
       "<div>\n",
       "<style scoped>\n",
       "    .dataframe tbody tr th:only-of-type {\n",
       "        vertical-align: middle;\n",
       "    }\n",
       "\n",
       "    .dataframe tbody tr th {\n",
       "        vertical-align: top;\n",
       "    }\n",
       "\n",
       "    .dataframe thead th {\n",
       "        text-align: right;\n",
       "    }\n",
       "</style>\n",
       "<table border=\"1\" class=\"dataframe\">\n",
       "  <thead>\n",
       "    <tr style=\"text-align: right;\">\n",
       "      <th></th>\n",
       "      <th>AD_LEVEL</th>\n",
       "      <th>TA_ID</th>\n",
       "      <th>TAMBON_T</th>\n",
       "      <th>TAMBON_E</th>\n",
       "      <th>AM_ID</th>\n",
       "      <th>AMPHOE_T</th>\n",
       "      <th>AMPHOE_E</th>\n",
       "      <th>CH_ID</th>\n",
       "      <th>CHANGWAT_T</th>\n",
       "      <th>CHANGWAT_E</th>\n",
       "      <th>LAT</th>\n",
       "      <th>LONG</th>\n",
       "    </tr>\n",
       "  </thead>\n",
       "  <tbody>\n",
       "    <tr>\n",
       "      <th>199</th>\n",
       "      <td>4.0</td>\n",
       "      <td>100106.0</td>\n",
       "      <td>แขวง เสาชิงช้า</td>\n",
       "      <td>Sao Chingcha</td>\n",
       "      <td>1001.0</td>\n",
       "      <td>เขต พระนคร</td>\n",
       "      <td>Phra Nakhon</td>\n",
       "      <td>10.0</td>\n",
       "      <td>กรุงเทพมหานคร</td>\n",
       "      <td>Bangkok</td>\n",
       "      <td>13.753</td>\n",
       "      <td>100.500</td>\n",
       "    </tr>\n",
       "    <tr>\n",
       "      <th>202</th>\n",
       "      <td>4.0</td>\n",
       "      <td>100105.0</td>\n",
       "      <td>แขวง ศาลเจ้าพ่อเสือ</td>\n",
       "      <td>San Chaopho Suea</td>\n",
       "      <td>1001.0</td>\n",
       "      <td>เขต พระนคร</td>\n",
       "      <td>Phra Nakhon</td>\n",
       "      <td>10.0</td>\n",
       "      <td>กรุงเทพมหานคร</td>\n",
       "      <td>Bangkok</td>\n",
       "      <td>13.754</td>\n",
       "      <td>100.497</td>\n",
       "    </tr>\n",
       "    <tr>\n",
       "      <th>214</th>\n",
       "      <td>4.0</td>\n",
       "      <td>100108.0</td>\n",
       "      <td>แขวง ตลาดยอด</td>\n",
       "      <td>Talat Yot</td>\n",
       "      <td>1001.0</td>\n",
       "      <td>เขต พระนคร</td>\n",
       "      <td>Phra Nakhon</td>\n",
       "      <td>10.0</td>\n",
       "      <td>กรุงเทพมหานคร</td>\n",
       "      <td>Bangkok</td>\n",
       "      <td>13.760</td>\n",
       "      <td>100.498</td>\n",
       "    </tr>\n",
       "    <tr>\n",
       "      <th>224</th>\n",
       "      <td>4.0</td>\n",
       "      <td>100103.0</td>\n",
       "      <td>แขวง วัดราชบพิธ</td>\n",
       "      <td>Wat Ratchabophit</td>\n",
       "      <td>1001.0</td>\n",
       "      <td>เขต พระนคร</td>\n",
       "      <td>Phra Nakhon</td>\n",
       "      <td>10.0</td>\n",
       "      <td>กรุงเทพมหานคร</td>\n",
       "      <td>Bangkok</td>\n",
       "      <td>13.750</td>\n",
       "      <td>100.499</td>\n",
       "    </tr>\n",
       "    <tr>\n",
       "      <th>243</th>\n",
       "      <td>4.0</td>\n",
       "      <td>100104.0</td>\n",
       "      <td>แขวง สำราญราษฎร์</td>\n",
       "      <td>Samran Rat</td>\n",
       "      <td>1001.0</td>\n",
       "      <td>เขต พระนคร</td>\n",
       "      <td>Phra Nakhon</td>\n",
       "      <td>10.0</td>\n",
       "      <td>กรุงเทพมหานคร</td>\n",
       "      <td>Bangkok</td>\n",
       "      <td>13.751</td>\n",
       "      <td>100.503</td>\n",
       "    </tr>\n",
       "  </tbody>\n",
       "</table>\n",
       "</div>"
      ],
      "text/plain": [
       "     AD_LEVEL     TA_ID             TAMBON_T          TAMBON_E   AM_ID  \\\n",
       "199       4.0  100106.0       แขวง เสาชิงช้า      Sao Chingcha  1001.0   \n",
       "202       4.0  100105.0  แขวง ศาลเจ้าพ่อเสือ  San Chaopho Suea  1001.0   \n",
       "214       4.0  100108.0         แขวง ตลาดยอด         Talat Yot  1001.0   \n",
       "224       4.0  100103.0      แขวง วัดราชบพิธ  Wat Ratchabophit  1001.0   \n",
       "243       4.0  100104.0     แขวง สำราญราษฎร์        Samran Rat  1001.0   \n",
       "\n",
       "       AMPHOE_T     AMPHOE_E  CH_ID     CHANGWAT_T CHANGWAT_E     LAT     LONG  \n",
       "199  เขต พระนคร  Phra Nakhon   10.0  กรุงเทพมหานคร    Bangkok  13.753  100.500  \n",
       "202  เขต พระนคร  Phra Nakhon   10.0  กรุงเทพมหานคร    Bangkok  13.754  100.497  \n",
       "214  เขต พระนคร  Phra Nakhon   10.0  กรุงเทพมหานคร    Bangkok  13.760  100.498  \n",
       "224  เขต พระนคร  Phra Nakhon   10.0  กรุงเทพมหานคร    Bangkok  13.750  100.499  \n",
       "243  เขต พระนคร  Phra Nakhon   10.0  กรุงเทพมหานคร    Bangkok  13.751  100.503  "
      ]
     },
     "metadata": {},
     "output_type": "display_data"
    }
   ],
   "source": [
    "# Slice DataFrame to only Bangkok\n",
    "df_bangkok = df_location[df_location['CHANGWAT_E'] == 'Bangkok']\n",
    "print(f'Bangkok Location DataFrame Shape: {df_bangkok.shape}')\n",
    "display(df_bangkok.head())"
   ]
  },
  {
   "cell_type": "code",
   "execution_count": 79,
   "metadata": {},
   "outputs": [
    {
     "data": {
      "text/html": [
       "<div>\n",
       "<style scoped>\n",
       "    .dataframe tbody tr th:only-of-type {\n",
       "        vertical-align: middle;\n",
       "    }\n",
       "\n",
       "    .dataframe tbody tr th {\n",
       "        vertical-align: top;\n",
       "    }\n",
       "\n",
       "    .dataframe thead th {\n",
       "        text-align: right;\n",
       "    }\n",
       "</style>\n",
       "<table border=\"1\" class=\"dataframe\">\n",
       "  <thead>\n",
       "    <tr style=\"text-align: right;\">\n",
       "      <th></th>\n",
       "      <th>District</th>\n",
       "      <th>lat</th>\n",
       "      <th>long</th>\n",
       "    </tr>\n",
       "  </thead>\n",
       "  <tbody>\n",
       "    <tr>\n",
       "      <th>0</th>\n",
       "      <td>คลองสาน</td>\n",
       "      <td>13.726500</td>\n",
       "      <td>100.502500</td>\n",
       "    </tr>\n",
       "    <tr>\n",
       "      <th>1</th>\n",
       "      <td>คลองสามวา</td>\n",
       "      <td>13.867800</td>\n",
       "      <td>100.739800</td>\n",
       "    </tr>\n",
       "    <tr>\n",
       "      <th>2</th>\n",
       "      <td>คลองเตย</td>\n",
       "      <td>13.713333</td>\n",
       "      <td>100.578667</td>\n",
       "    </tr>\n",
       "    <tr>\n",
       "      <th>3</th>\n",
       "      <td>คันนายาว</td>\n",
       "      <td>13.821000</td>\n",
       "      <td>100.677000</td>\n",
       "    </tr>\n",
       "    <tr>\n",
       "      <th>4</th>\n",
       "      <td>จตุจักร</td>\n",
       "      <td>13.826000</td>\n",
       "      <td>100.565000</td>\n",
       "    </tr>\n",
       "  </tbody>\n",
       "</table>\n",
       "</div>"
      ],
      "text/plain": [
       "    District        lat        long\n",
       "0    คลองสาน  13.726500  100.502500\n",
       "1  คลองสามวา  13.867800  100.739800\n",
       "2    คลองเตย  13.713333  100.578667\n",
       "3   คันนายาว  13.821000  100.677000\n",
       "4    จตุจักร  13.826000  100.565000"
      ]
     },
     "execution_count": 79,
     "metadata": {},
     "output_type": "execute_result"
    }
   ],
   "source": [
    "# Get mean latitude and longitude of each district\n",
    "df_latlong = df_bangkok.groupby('AMPHOE_T', as_index = False)[['LAT','LONG']].mean()\n",
    "\n",
    "# Replace the word \"เขต\" in the column AMPHOE_T and trim\n",
    "df_latlong['AMPHOE_T'] = df_latlong['AMPHOE_T'].str.replace('เขต', '').str.strip()\n",
    "\n",
    "# Rename columns\n",
    "df_latlong.columns = ['District', 'lat', 'long']\n",
    "df_latlong.head()"
   ]
  },
  {
   "cell_type": "code",
   "execution_count": 80,
   "metadata": {},
   "outputs": [
    {
     "data": {
      "text/plain": [
       "District     object\n",
       "lat         float64\n",
       "long        float64\n",
       "dtype: object"
      ]
     },
     "execution_count": 80,
     "metadata": {},
     "output_type": "execute_result"
    }
   ],
   "source": [
    "# Check Dtypes\n",
    "df_latlong.dtypes"
   ]
  },
  {
   "cell_type": "markdown",
   "metadata": {},
   "source": [
    "## 3.2 Clean Population Data"
   ]
  },
  {
   "cell_type": "code",
   "execution_count": 82,
   "metadata": {},
   "outputs": [],
   "source": [
    "# Since column names of df_population are in Thai, we will rename the column names first\n",
    "df_population.columns = ['District', 'Male', 'Female', 'Total']"
   ]
  },
  {
   "cell_type": "code",
   "execution_count": 83,
   "metadata": {},
   "outputs": [
    {
     "name": "stdout",
     "output_type": "stream",
     "text": [
      "District    3\n",
      "Male        3\n",
      "Female      3\n",
      "Total       3\n",
      "dtype: int64\n"
     ]
    },
    {
     "data": {
      "text/html": [
       "<div>\n",
       "<style scoped>\n",
       "    .dataframe tbody tr th:only-of-type {\n",
       "        vertical-align: middle;\n",
       "    }\n",
       "\n",
       "    .dataframe tbody tr th {\n",
       "        vertical-align: top;\n",
       "    }\n",
       "\n",
       "    .dataframe thead th {\n",
       "        text-align: right;\n",
       "    }\n",
       "</style>\n",
       "<table border=\"1\" class=\"dataframe\">\n",
       "  <thead>\n",
       "    <tr style=\"text-align: right;\">\n",
       "      <th></th>\n",
       "      <th>District</th>\n",
       "      <th>Male</th>\n",
       "      <th>Female</th>\n",
       "      <th>Total</th>\n",
       "    </tr>\n",
       "  </thead>\n",
       "  <tbody>\n",
       "    <tr>\n",
       "      <th>51</th>\n",
       "      <td>NaN</td>\n",
       "      <td>NaN</td>\n",
       "      <td>NaN</td>\n",
       "      <td>NaN</td>\n",
       "    </tr>\n",
       "    <tr>\n",
       "      <th>52</th>\n",
       "      <td>NaN</td>\n",
       "      <td>NaN</td>\n",
       "      <td>NaN</td>\n",
       "      <td>NaN</td>\n",
       "    </tr>\n",
       "    <tr>\n",
       "      <th>53</th>\n",
       "      <td>NaN</td>\n",
       "      <td>NaN</td>\n",
       "      <td>NaN</td>\n",
       "      <td>NaN</td>\n",
       "    </tr>\n",
       "  </tbody>\n",
       "</table>\n",
       "</div>"
      ],
      "text/plain": [
       "   District Male Female Total\n",
       "51      NaN  NaN    NaN   NaN\n",
       "52      NaN  NaN    NaN   NaN\n",
       "53      NaN  NaN    NaN   NaN"
      ]
     },
     "metadata": {},
     "output_type": "display_data"
    }
   ],
   "source": [
    "# Check missing values\n",
    "print(df_population.isna().sum())\n",
    "display(df_population[df_population.isna().any(axis = 1)])"
   ]
  },
  {
   "cell_type": "code",
   "execution_count": 84,
   "metadata": {},
   "outputs": [],
   "source": [
    "# Drop NaN\n",
    "df_population.dropna(axis = 0, inplace = True)"
   ]
  },
  {
   "cell_type": "code",
   "execution_count": 85,
   "metadata": {},
   "outputs": [],
   "source": [
    "# Remove the word \"ท้องถิ่นเขต\" from District column and trim\n",
    "df_population['District'] = df_population['District'].str.replace('ท้องถิ่นเขต', '').str.strip()"
   ]
  },
  {
   "cell_type": "code",
   "execution_count": 86,
   "metadata": {},
   "outputs": [],
   "source": [
    "# Remove total row\n",
    "df_population = df_population[~df_population['District'].str.contains('ยอดรวม')]"
   ]
  },
  {
   "cell_type": "code",
   "execution_count": 87,
   "metadata": {},
   "outputs": [
    {
     "data": {
      "text/plain": [
       "District    object\n",
       "Male        object\n",
       "Female      object\n",
       "Total       object\n",
       "dtype: object"
      ]
     },
     "execution_count": 87,
     "metadata": {},
     "output_type": "execute_result"
    }
   ],
   "source": [
    "# Check Dtypes\n",
    "df_population.dtypes"
   ]
  },
  {
   "cell_type": "code",
   "execution_count": 88,
   "metadata": {},
   "outputs": [
    {
     "data": {
      "text/plain": [
       "District    object\n",
       "Male         int32\n",
       "Female       int32\n",
       "Total        int32\n",
       "dtype: object"
      ]
     },
     "execution_count": 88,
     "metadata": {},
     "output_type": "execute_result"
    }
   ],
   "source": [
    "# Cast numerical column as integer\n",
    "for col in df_population.columns:\n",
    "    if col != 'District':\n",
    "        df_population[col] = df_population[col].str.replace(',', '').astype('int')\n",
    "df_population.dtypes"
   ]
  },
  {
   "cell_type": "markdown",
   "metadata": {},
   "source": [
    "## 3.3 Clean District Area Data"
   ]
  },
  {
   "cell_type": "code",
   "execution_count": 131,
   "metadata": {},
   "outputs": [
    {
     "data": {
      "text/html": [
       "<div>\n",
       "<style scoped>\n",
       "    .dataframe tbody tr th:only-of-type {\n",
       "        vertical-align: middle;\n",
       "    }\n",
       "\n",
       "    .dataframe tbody tr th {\n",
       "        vertical-align: top;\n",
       "    }\n",
       "\n",
       "    .dataframe thead th {\n",
       "        text-align: right;\n",
       "    }\n",
       "</style>\n",
       "<table border=\"1\" class=\"dataframe\">\n",
       "  <thead>\n",
       "    <tr style=\"text-align: right;\">\n",
       "      <th></th>\n",
       "      <th>District</th>\n",
       "      <th>Area (sq. km)</th>\n",
       "    </tr>\n",
       "  </thead>\n",
       "  <tbody>\n",
       "    <tr>\n",
       "      <th>1</th>\n",
       "      <td>คลองเตย</td>\n",
       "      <td>12.99</td>\n",
       "    </tr>\n",
       "    <tr>\n",
       "      <th>5</th>\n",
       "      <td>คลองสาน</td>\n",
       "      <td>6.05</td>\n",
       "    </tr>\n",
       "    <tr>\n",
       "      <th>10</th>\n",
       "      <td>คลองสามวา</td>\n",
       "      <td>110.69</td>\n",
       "    </tr>\n",
       "    <tr>\n",
       "      <th>16</th>\n",
       "      <td>คันนายาว</td>\n",
       "      <td>25.98</td>\n",
       "    </tr>\n",
       "    <tr>\n",
       "      <th>18</th>\n",
       "      <td>จตุจักร</td>\n",
       "      <td>32.91</td>\n",
       "    </tr>\n",
       "  </tbody>\n",
       "</table>\n",
       "</div>"
      ],
      "text/plain": [
       "     District Area (sq. km)\n",
       "1     คลองเตย         12.99\n",
       "5     คลองสาน          6.05\n",
       "10  คลองสามวา        110.69\n",
       "16   คันนายาว         25.98\n",
       "18    จตุจักร         32.91"
      ]
     },
     "execution_count": 131,
     "metadata": {},
     "output_type": "execute_result"
    }
   ],
   "source": [
    "# Remove row of column name and column ลำดับ\n",
    "if df_area.iloc[0,0] == 'ลำดับ':\n",
    "    df_area = df_area.iloc[1:,1:]\n",
    "\n",
    "# Set column name\n",
    "df_area.columns = ['District', 'Area (sq. km)']\n",
    "\n",
    "# Slice only rows with the word เขต\n",
    "df_area = df_area[df_area['District'].apply(lambda x: 'เขต' in x)]\n",
    "\n",
    "# Remove the word เขต\n",
    "df_area['District'] = df_area['District'].str.replace('เขต', '')\n",
    "\n",
    "df_area.head()"
   ]
  },
  {
   "cell_type": "code",
   "execution_count": 139,
   "metadata": {},
   "outputs": [
    {
     "data": {
      "text/plain": [
       "District         object\n",
       "Area (sq. km)    object\n",
       "dtype: object"
      ]
     },
     "execution_count": 139,
     "metadata": {},
     "output_type": "execute_result"
    }
   ],
   "source": [
    "# Check Dtypes\n",
    "df_area.dtypes"
   ]
  },
  {
   "cell_type": "code",
   "execution_count": 140,
   "metadata": {},
   "outputs": [
    {
     "data": {
      "text/plain": [
       "District          object\n",
       "Area (sq. km)    float64\n",
       "dtype: object"
      ]
     },
     "execution_count": 140,
     "metadata": {},
     "output_type": "execute_result"
    }
   ],
   "source": [
    "# Cast Area column as float\n",
    "df_area['Area (sq. km)'] = df_area['Area (sq. km)'].str.replace(',', '').astype('float')\n",
    "df_area.dtypes"
   ]
  },
  {
   "cell_type": "markdown",
   "metadata": {},
   "source": [
    "## 3.4 Merge DataFrames"
   ]
  },
  {
   "cell_type": "code",
   "execution_count": 141,
   "metadata": {},
   "outputs": [
    {
     "data": {
      "text/html": [
       "<div>\n",
       "<style scoped>\n",
       "    .dataframe tbody tr th:only-of-type {\n",
       "        vertical-align: middle;\n",
       "    }\n",
       "\n",
       "    .dataframe tbody tr th {\n",
       "        vertical-align: top;\n",
       "    }\n",
       "\n",
       "    .dataframe thead th {\n",
       "        text-align: right;\n",
       "    }\n",
       "</style>\n",
       "<table border=\"1\" class=\"dataframe\">\n",
       "  <thead>\n",
       "    <tr style=\"text-align: right;\">\n",
       "      <th></th>\n",
       "      <th>District</th>\n",
       "      <th>Male</th>\n",
       "      <th>Female</th>\n",
       "      <th>Total</th>\n",
       "    </tr>\n",
       "  </thead>\n",
       "  <tbody>\n",
       "    <tr>\n",
       "      <th>18</th>\n",
       "      <td>คลองสาน</td>\n",
       "      <td>29795</td>\n",
       "      <td>35010</td>\n",
       "      <td>64805</td>\n",
       "    </tr>\n",
       "    <tr>\n",
       "      <th>46</th>\n",
       "      <td>คลองสามวา</td>\n",
       "      <td>99482</td>\n",
       "      <td>112649</td>\n",
       "      <td>212131</td>\n",
       "    </tr>\n",
       "    <tr>\n",
       "      <th>33</th>\n",
       "      <td>คลองเตย</td>\n",
       "      <td>42190</td>\n",
       "      <td>47208</td>\n",
       "      <td>89398</td>\n",
       "    </tr>\n",
       "    <tr>\n",
       "      <th>43</th>\n",
       "      <td>คันนายาว</td>\n",
       "      <td>44193</td>\n",
       "      <td>50876</td>\n",
       "      <td>95069</td>\n",
       "    </tr>\n",
       "    <tr>\n",
       "      <th>30</th>\n",
       "      <td>จตุจักร</td>\n",
       "      <td>70422</td>\n",
       "      <td>83547</td>\n",
       "      <td>153969</td>\n",
       "    </tr>\n",
       "  </tbody>\n",
       "</table>\n",
       "</div>"
      ],
      "text/plain": [
       "     District   Male  Female   Total\n",
       "18    คลองสาน  29795   35010   64805\n",
       "46  คลองสามวา  99482  112649  212131\n",
       "33    คลองเตย  42190   47208   89398\n",
       "43   คันนายาว  44193   50876   95069\n",
       "30    จตุจักร  70422   83547  153969"
      ]
     },
     "metadata": {},
     "output_type": "display_data"
    },
    {
     "data": {
      "text/html": [
       "<div>\n",
       "<style scoped>\n",
       "    .dataframe tbody tr th:only-of-type {\n",
       "        vertical-align: middle;\n",
       "    }\n",
       "\n",
       "    .dataframe tbody tr th {\n",
       "        vertical-align: top;\n",
       "    }\n",
       "\n",
       "    .dataframe thead th {\n",
       "        text-align: right;\n",
       "    }\n",
       "</style>\n",
       "<table border=\"1\" class=\"dataframe\">\n",
       "  <thead>\n",
       "    <tr style=\"text-align: right;\">\n",
       "      <th></th>\n",
       "      <th>District</th>\n",
       "      <th>lat</th>\n",
       "      <th>long</th>\n",
       "    </tr>\n",
       "  </thead>\n",
       "  <tbody>\n",
       "    <tr>\n",
       "      <th>0</th>\n",
       "      <td>คลองสาน</td>\n",
       "      <td>13.726500</td>\n",
       "      <td>100.502500</td>\n",
       "    </tr>\n",
       "    <tr>\n",
       "      <th>1</th>\n",
       "      <td>คลองสามวา</td>\n",
       "      <td>13.867800</td>\n",
       "      <td>100.739800</td>\n",
       "    </tr>\n",
       "    <tr>\n",
       "      <th>2</th>\n",
       "      <td>คลองเตย</td>\n",
       "      <td>13.713333</td>\n",
       "      <td>100.578667</td>\n",
       "    </tr>\n",
       "    <tr>\n",
       "      <th>3</th>\n",
       "      <td>คันนายาว</td>\n",
       "      <td>13.821000</td>\n",
       "      <td>100.677000</td>\n",
       "    </tr>\n",
       "    <tr>\n",
       "      <th>4</th>\n",
       "      <td>จตุจักร</td>\n",
       "      <td>13.826000</td>\n",
       "      <td>100.565000</td>\n",
       "    </tr>\n",
       "  </tbody>\n",
       "</table>\n",
       "</div>"
      ],
      "text/plain": [
       "    District        lat        long\n",
       "0    คลองสาน  13.726500  100.502500\n",
       "1  คลองสามวา  13.867800  100.739800\n",
       "2    คลองเตย  13.713333  100.578667\n",
       "3   คันนายาว  13.821000  100.677000\n",
       "4    จตุจักร  13.826000  100.565000"
      ]
     },
     "metadata": {},
     "output_type": "display_data"
    },
    {
     "data": {
      "text/html": [
       "<div>\n",
       "<style scoped>\n",
       "    .dataframe tbody tr th:only-of-type {\n",
       "        vertical-align: middle;\n",
       "    }\n",
       "\n",
       "    .dataframe tbody tr th {\n",
       "        vertical-align: top;\n",
       "    }\n",
       "\n",
       "    .dataframe thead th {\n",
       "        text-align: right;\n",
       "    }\n",
       "</style>\n",
       "<table border=\"1\" class=\"dataframe\">\n",
       "  <thead>\n",
       "    <tr style=\"text-align: right;\">\n",
       "      <th></th>\n",
       "      <th>District</th>\n",
       "      <th>Area (sq. km)</th>\n",
       "    </tr>\n",
       "  </thead>\n",
       "  <tbody>\n",
       "    <tr>\n",
       "      <th>5</th>\n",
       "      <td>คลองสาน</td>\n",
       "      <td>6.05</td>\n",
       "    </tr>\n",
       "    <tr>\n",
       "      <th>10</th>\n",
       "      <td>คลองสามวา</td>\n",
       "      <td>110.69</td>\n",
       "    </tr>\n",
       "    <tr>\n",
       "      <th>1</th>\n",
       "      <td>คลองเตย</td>\n",
       "      <td>12.99</td>\n",
       "    </tr>\n",
       "    <tr>\n",
       "      <th>16</th>\n",
       "      <td>คันนายาว</td>\n",
       "      <td>25.98</td>\n",
       "    </tr>\n",
       "    <tr>\n",
       "      <th>18</th>\n",
       "      <td>จตุจักร</td>\n",
       "      <td>32.91</td>\n",
       "    </tr>\n",
       "  </tbody>\n",
       "</table>\n",
       "</div>"
      ],
      "text/plain": [
       "     District  Area (sq. km)\n",
       "5     คลองสาน           6.05\n",
       "10  คลองสามวา         110.69\n",
       "1     คลองเตย          12.99\n",
       "16   คันนายาว          25.98\n",
       "18    จตุจักร          32.91"
      ]
     },
     "metadata": {},
     "output_type": "display_data"
    }
   ],
   "source": [
    "# Check the format of both DataFrame wheter they match to merge or not\n",
    "display(df_population.sort_values(by = 'District').head())\n",
    "display(df_latlong.sort_values(by = 'District').head())\n",
    "display(df_area.sort_values(by = 'District').head())"
   ]
  },
  {
   "cell_type": "code",
   "execution_count": 142,
   "metadata": {},
   "outputs": [
    {
     "name": "stdout",
     "output_type": "stream",
     "text": [
      "District         0\n",
      "Male             0\n",
      "Female           0\n",
      "Total            0\n",
      "Area (sq. km)    0\n",
      "lat              0\n",
      "long             0\n",
      "dtype: int64\n"
     ]
    },
    {
     "data": {
      "text/html": [
       "<div>\n",
       "<style scoped>\n",
       "    .dataframe tbody tr th:only-of-type {\n",
       "        vertical-align: middle;\n",
       "    }\n",
       "\n",
       "    .dataframe tbody tr th {\n",
       "        vertical-align: top;\n",
       "    }\n",
       "\n",
       "    .dataframe thead th {\n",
       "        text-align: right;\n",
       "    }\n",
       "</style>\n",
       "<table border=\"1\" class=\"dataframe\">\n",
       "  <thead>\n",
       "    <tr style=\"text-align: right;\">\n",
       "      <th></th>\n",
       "      <th>District</th>\n",
       "      <th>Male</th>\n",
       "      <th>Female</th>\n",
       "      <th>Total</th>\n",
       "      <th>Area (sq. km)</th>\n",
       "      <th>lat</th>\n",
       "      <th>long</th>\n",
       "    </tr>\n",
       "  </thead>\n",
       "  <tbody>\n",
       "    <tr>\n",
       "      <th>0</th>\n",
       "      <td>พระนคร</td>\n",
       "      <td>19381</td>\n",
       "      <td>20754</td>\n",
       "      <td>40135</td>\n",
       "      <td>5.54</td>\n",
       "      <td>13.756417</td>\n",
       "      <td>100.499250</td>\n",
       "    </tr>\n",
       "    <tr>\n",
       "      <th>1</th>\n",
       "      <td>ดุสิต</td>\n",
       "      <td>40325</td>\n",
       "      <td>35510</td>\n",
       "      <td>75835</td>\n",
       "      <td>10.67</td>\n",
       "      <td>13.772800</td>\n",
       "      <td>100.515400</td>\n",
       "    </tr>\n",
       "    <tr>\n",
       "      <th>2</th>\n",
       "      <td>หนองจอก</td>\n",
       "      <td>89451</td>\n",
       "      <td>94899</td>\n",
       "      <td>184350</td>\n",
       "      <td>236.26</td>\n",
       "      <td>13.851250</td>\n",
       "      <td>100.856125</td>\n",
       "    </tr>\n",
       "    <tr>\n",
       "      <th>3</th>\n",
       "      <td>บางรัก</td>\n",
       "      <td>20064</td>\n",
       "      <td>22759</td>\n",
       "      <td>42823</td>\n",
       "      <td>5.54</td>\n",
       "      <td>13.728000</td>\n",
       "      <td>100.523200</td>\n",
       "    </tr>\n",
       "    <tr>\n",
       "      <th>4</th>\n",
       "      <td>บางเขน</td>\n",
       "      <td>85943</td>\n",
       "      <td>98553</td>\n",
       "      <td>184496</td>\n",
       "      <td>42.12</td>\n",
       "      <td>13.867000</td>\n",
       "      <td>100.628000</td>\n",
       "    </tr>\n",
       "  </tbody>\n",
       "</table>\n",
       "</div>"
      ],
      "text/plain": [
       "  District   Male  Female   Total  Area (sq. km)        lat        long\n",
       "0   พระนคร  19381   20754   40135           5.54  13.756417  100.499250\n",
       "1    ดุสิต  40325   35510   75835          10.67  13.772800  100.515400\n",
       "2  หนองจอก  89451   94899  184350         236.26  13.851250  100.856125\n",
       "3   บางรัก  20064   22759   42823           5.54  13.728000  100.523200\n",
       "4   บางเขน  85943   98553  184496          42.12  13.867000  100.628000"
      ]
     },
     "metadata": {},
     "output_type": "display_data"
    }
   ],
   "source": [
    "df_merge = df_population.merge(right = df_area,\n",
    "                               how = 'left',\n",
    "                               on = 'District').merge(right = df_latlong,\n",
    "                                                      how = 'left',\n",
    "                                                      on = 'District')\n",
    "print(df_merge.isna().sum())\n",
    "display(df_merge.head())"
   ]
  },
  {
   "cell_type": "code",
   "execution_count": 143,
   "metadata": {},
   "outputs": [],
   "source": [
    "# Rename Total column to Population\n",
    "df_merge.rename(columns = {'Total': 'Population'}, inplace = True)"
   ]
  },
  {
   "cell_type": "code",
   "execution_count": 145,
   "metadata": {},
   "outputs": [
    {
     "data": {
      "text/html": [
       "<div>\n",
       "<style scoped>\n",
       "    .dataframe tbody tr th:only-of-type {\n",
       "        vertical-align: middle;\n",
       "    }\n",
       "\n",
       "    .dataframe tbody tr th {\n",
       "        vertical-align: top;\n",
       "    }\n",
       "\n",
       "    .dataframe thead th {\n",
       "        text-align: right;\n",
       "    }\n",
       "</style>\n",
       "<table border=\"1\" class=\"dataframe\">\n",
       "  <thead>\n",
       "    <tr style=\"text-align: right;\">\n",
       "      <th></th>\n",
       "      <th>District</th>\n",
       "      <th>Male</th>\n",
       "      <th>Female</th>\n",
       "      <th>Population</th>\n",
       "      <th>Area (sq. km)</th>\n",
       "      <th>lat</th>\n",
       "      <th>long</th>\n",
       "      <th>Male Ratio</th>\n",
       "      <th>People per sq. km</th>\n",
       "    </tr>\n",
       "  </thead>\n",
       "  <tbody>\n",
       "    <tr>\n",
       "      <th>0</th>\n",
       "      <td>พระนคร</td>\n",
       "      <td>19381</td>\n",
       "      <td>20754</td>\n",
       "      <td>40135</td>\n",
       "      <td>5.54</td>\n",
       "      <td>13.756417</td>\n",
       "      <td>100.499250</td>\n",
       "      <td>0.482895</td>\n",
       "      <td>7244.584838</td>\n",
       "    </tr>\n",
       "    <tr>\n",
       "      <th>1</th>\n",
       "      <td>ดุสิต</td>\n",
       "      <td>40325</td>\n",
       "      <td>35510</td>\n",
       "      <td>75835</td>\n",
       "      <td>10.67</td>\n",
       "      <td>13.772800</td>\n",
       "      <td>100.515400</td>\n",
       "      <td>0.531747</td>\n",
       "      <td>7107.310216</td>\n",
       "    </tr>\n",
       "    <tr>\n",
       "      <th>2</th>\n",
       "      <td>หนองจอก</td>\n",
       "      <td>89451</td>\n",
       "      <td>94899</td>\n",
       "      <td>184350</td>\n",
       "      <td>236.26</td>\n",
       "      <td>13.851250</td>\n",
       "      <td>100.856125</td>\n",
       "      <td>0.485224</td>\n",
       "      <td>780.284432</td>\n",
       "    </tr>\n",
       "    <tr>\n",
       "      <th>3</th>\n",
       "      <td>บางรัก</td>\n",
       "      <td>20064</td>\n",
       "      <td>22759</td>\n",
       "      <td>42823</td>\n",
       "      <td>5.54</td>\n",
       "      <td>13.728000</td>\n",
       "      <td>100.523200</td>\n",
       "      <td>0.468533</td>\n",
       "      <td>7729.783394</td>\n",
       "    </tr>\n",
       "    <tr>\n",
       "      <th>4</th>\n",
       "      <td>บางเขน</td>\n",
       "      <td>85943</td>\n",
       "      <td>98553</td>\n",
       "      <td>184496</td>\n",
       "      <td>42.12</td>\n",
       "      <td>13.867000</td>\n",
       "      <td>100.628000</td>\n",
       "      <td>0.465826</td>\n",
       "      <td>4380.246914</td>\n",
       "    </tr>\n",
       "  </tbody>\n",
       "</table>\n",
       "</div>"
      ],
      "text/plain": [
       "  District   Male  Female  Population  Area (sq. km)        lat        long  \\\n",
       "0   พระนคร  19381   20754       40135           5.54  13.756417  100.499250   \n",
       "1    ดุสิต  40325   35510       75835          10.67  13.772800  100.515400   \n",
       "2  หนองจอก  89451   94899      184350         236.26  13.851250  100.856125   \n",
       "3   บางรัก  20064   22759       42823           5.54  13.728000  100.523200   \n",
       "4   บางเขน  85943   98553      184496          42.12  13.867000  100.628000   \n",
       "\n",
       "   Male Ratio  People per sq. km  \n",
       "0    0.482895        7244.584838  \n",
       "1    0.531747        7107.310216  \n",
       "2    0.485224         780.284432  \n",
       "3    0.468533        7729.783394  \n",
       "4    0.465826        4380.246914  "
      ]
     },
     "execution_count": 145,
     "metadata": {},
     "output_type": "execute_result"
    }
   ],
   "source": [
    "df_merge['Male Ratio'] = df_merge.apply(lambda x: x['Male'] / x['Population'], axis = 1)\n",
    "df_merge['People per sq. km'] = df_merge.apply(lambda x: x['Population'] / x['Area (sq. km)'], axis = 1)\n",
    "df_merge.head()"
   ]
  },
  {
   "cell_type": "markdown",
   "metadata": {},
   "source": [
    "# 4. Analyze and Plot with Plotly"
   ]
  },
  {
   "cell_type": "code",
   "execution_count": 147,
   "metadata": {},
   "outputs": [
    {
     "data": {
      "text/html": [
       "<div>\n",
       "<style scoped>\n",
       "    .dataframe tbody tr th:only-of-type {\n",
       "        vertical-align: middle;\n",
       "    }\n",
       "\n",
       "    .dataframe tbody tr th {\n",
       "        vertical-align: top;\n",
       "    }\n",
       "\n",
       "    .dataframe thead th {\n",
       "        text-align: right;\n",
       "    }\n",
       "</style>\n",
       "<table border=\"1\" class=\"dataframe\">\n",
       "  <thead>\n",
       "    <tr style=\"text-align: right;\">\n",
       "      <th></th>\n",
       "      <th>Male</th>\n",
       "      <th>Female</th>\n",
       "      <th>Population</th>\n",
       "      <th>Area (sq. km)</th>\n",
       "      <th>lat</th>\n",
       "      <th>long</th>\n",
       "      <th>Male Ratio</th>\n",
       "      <th>People per sq. km</th>\n",
       "    </tr>\n",
       "  </thead>\n",
       "  <tbody>\n",
       "    <tr>\n",
       "      <th>count</th>\n",
       "      <td>50.000000</td>\n",
       "      <td>50.000000</td>\n",
       "      <td>50.00000</td>\n",
       "      <td>50.000000</td>\n",
       "      <td>50.000000</td>\n",
       "      <td>50.000000</td>\n",
       "      <td>50.000000</td>\n",
       "      <td>50.000000</td>\n",
       "    </tr>\n",
       "    <tr>\n",
       "      <th>mean</th>\n",
       "      <td>51084.600000</td>\n",
       "      <td>58304.040000</td>\n",
       "      <td>109388.64000</td>\n",
       "      <td>31.375800</td>\n",
       "      <td>13.755893</td>\n",
       "      <td>100.556705</td>\n",
       "      <td>0.467703</td>\n",
       "      <td>6015.412268</td>\n",
       "    </tr>\n",
       "    <tr>\n",
       "      <th>std</th>\n",
       "      <td>22659.778115</td>\n",
       "      <td>25692.077219</td>\n",
       "      <td>48271.63979</td>\n",
       "      <td>40.214137</td>\n",
       "      <td>0.069119</td>\n",
       "      <td>0.105864</td>\n",
       "      <td>0.013946</td>\n",
       "      <td>3485.523207</td>\n",
       "    </tr>\n",
       "    <tr>\n",
       "      <th>min</th>\n",
       "      <td>9440.000000</td>\n",
       "      <td>10011.000000</td>\n",
       "      <td>19451.00000</td>\n",
       "      <td>1.420000</td>\n",
       "      <td>13.580000</td>\n",
       "      <td>100.354500</td>\n",
       "      <td>0.445918</td>\n",
       "      <td>780.284432</td>\n",
       "    </tr>\n",
       "    <tr>\n",
       "      <th>25%</th>\n",
       "      <td>36512.500000</td>\n",
       "      <td>40010.500000</td>\n",
       "      <td>76258.25000</td>\n",
       "      <td>10.732500</td>\n",
       "      <td>13.713500</td>\n",
       "      <td>100.499562</td>\n",
       "      <td>0.460406</td>\n",
       "      <td>4306.917629</td>\n",
       "    </tr>\n",
       "    <tr>\n",
       "      <th>50%</th>\n",
       "      <td>46002.000000</td>\n",
       "      <td>52489.000000</td>\n",
       "      <td>98206.00000</td>\n",
       "      <td>19.180000</td>\n",
       "      <td>13.753600</td>\n",
       "      <td>100.538625</td>\n",
       "      <td>0.465898</td>\n",
       "      <td>5184.659172</td>\n",
       "    </tr>\n",
       "    <tr>\n",
       "      <th>75%</th>\n",
       "      <td>65784.250000</td>\n",
       "      <td>74741.500000</td>\n",
       "      <td>140958.25000</td>\n",
       "      <td>34.290000</td>\n",
       "      <td>13.785750</td>\n",
       "      <td>100.623500</td>\n",
       "      <td>0.471469</td>\n",
       "      <td>7210.266182</td>\n",
       "    </tr>\n",
       "    <tr>\n",
       "      <th>max</th>\n",
       "      <td>99482.000000</td>\n",
       "      <td>112649.000000</td>\n",
       "      <td>212131.00000</td>\n",
       "      <td>236.260000</td>\n",
       "      <td>13.925000</td>\n",
       "      <td>100.856125</td>\n",
       "      <td>0.531747</td>\n",
       "      <td>19678.756477</td>\n",
       "    </tr>\n",
       "  </tbody>\n",
       "</table>\n",
       "</div>"
      ],
      "text/plain": [
       "               Male         Female    Population  Area (sq. km)        lat  \\\n",
       "count     50.000000      50.000000      50.00000      50.000000  50.000000   \n",
       "mean   51084.600000   58304.040000  109388.64000      31.375800  13.755893   \n",
       "std    22659.778115   25692.077219   48271.63979      40.214137   0.069119   \n",
       "min     9440.000000   10011.000000   19451.00000       1.420000  13.580000   \n",
       "25%    36512.500000   40010.500000   76258.25000      10.732500  13.713500   \n",
       "50%    46002.000000   52489.000000   98206.00000      19.180000  13.753600   \n",
       "75%    65784.250000   74741.500000  140958.25000      34.290000  13.785750   \n",
       "max    99482.000000  112649.000000  212131.00000     236.260000  13.925000   \n",
       "\n",
       "             long  Male Ratio  People per sq. km  \n",
       "count   50.000000   50.000000          50.000000  \n",
       "mean   100.556705    0.467703        6015.412268  \n",
       "std      0.105864    0.013946        3485.523207  \n",
       "min    100.354500    0.445918         780.284432  \n",
       "25%    100.499562    0.460406        4306.917629  \n",
       "50%    100.538625    0.465898        5184.659172  \n",
       "75%    100.623500    0.471469        7210.266182  \n",
       "max    100.856125    0.531747       19678.756477  "
      ]
     },
     "execution_count": 147,
     "metadata": {},
     "output_type": "execute_result"
    }
   ],
   "source": [
    "df_merge.describe()"
   ]
  },
  {
   "cell_type": "markdown",
   "metadata": {},
   "source": [
    "## 4.1 Understanding Population in each district"
   ]
  },
  {
   "cell_type": "code",
   "execution_count": 188,
   "metadata": {},
   "outputs": [
    {
     "data": {
      "application/vnd.plotly.v1+json": {
       "config": {
        "plotlyServerURL": "https://plot.ly"
       },
       "data": [
        {
         "customdata": [
          [
           40135
          ],
          [
           75835
          ],
          [
           184350
          ],
          [
           42823
          ],
          [
           184496
          ],
          [
           141388
          ],
          [
           39993
          ],
          [
           37980
          ],
          [
           85618
          ],
          [
           140968
          ],
          [
           179974
          ],
          [
           73326
          ],
          [
           19451
          ],
          [
           63992
          ],
          [
           98164
          ],
          [
           60603
          ],
          [
           83688
          ],
          [
           64805
          ],
          [
           101268
          ],
          [
           97871
          ],
          [
           185130
          ],
          [
           121788
          ],
          [
           155037
          ],
          [
           75476
          ],
          [
           87182
          ],
          [
           109708
          ],
          [
           137061
          ],
          [
           71192
          ],
          [
           118543
          ],
          [
           153969
          ],
          [
           77528
          ],
          [
           183874
          ],
          [
           89398
          ],
          [
           123002
          ],
          [
           140929
          ],
          [
           166487
          ],
          [
           64247
          ],
          [
           113125
          ],
          [
           80398
          ],
          [
           192198
          ],
          [
           98248
          ],
          [
           211253
          ],
          [
           95069
          ],
          [
           97091
          ],
          [
           103397
          ],
          [
           212131
          ],
          [
           85242
          ],
          [
           79786
          ],
          [
           124121
          ],
          [
           100094
          ]
         ],
         "hovertemplate": "<b>%{hovertext}</b><br><br>Population=%{marker.color}<br>lat=%{lat}<br>long=%{lon}<extra></extra>",
         "hovertext": [
          "พระนคร",
          "ดุสิต",
          "หนองจอก",
          "บางรัก",
          "บางเขน",
          "บางกะปิ",
          "ปทุมวัน",
          "ป้อมปราบศัตรูพ่าย",
          "พระโขนง",
          "มีนบุรี",
          "ลาดกระบัง",
          "ยานนาวา",
          "สัมพันธวงศ์",
          "พญาไท",
          "ธนบุรี",
          "บางกอกใหญ่",
          "ห้วยขวาง",
          "คลองสาน",
          "ตลิ่งชัน",
          "บางกอกน้อย",
          "บางขุนเทียน",
          "ภาษีเจริญ",
          "หนองแขม",
          "ราษฎร์บูรณะ",
          "บางพลัด",
          "ดินแดง",
          "บึงกุ่ม",
          "สาทร",
          "บางซื่อ",
          "จตุจักร",
          "บางคอแหลม",
          "ประเวศ",
          "คลองเตย",
          "สวนหลวง",
          "จอมทอง",
          "ดอนเมือง",
          "ราชเทวี",
          "ลาดพร้าว",
          "วัฒนา",
          "บางแค",
          "หลักสี่",
          "สายไหม",
          "คันนายาว",
          "สะพานสูง",
          "วังทองหลาง",
          "คลองสามวา",
          "บางนา",
          "ทวีวัฒนา",
          "ทุ่งครุ",
          "บางบอน"
         ],
         "lat": [
          13.756416666666667,
          13.7728,
          13.85125,
          13.728,
          13.867,
          13.771,
          13.7405,
          13.7512,
          13.692,
          13.808,
          13.743,
          13.689499999999999,
          13.738,
          13.782,
          13.722,
          13.738,
          13.772333333333334,
          13.7265,
          13.7675,
          13.7634,
          13.58,
          13.726714285714285,
          13.697,
          13.6725,
          13.786999999999999,
          13.778,
          13.808,
          13.714,
          13.82,
          13.826,
          13.698666666666668,
          13.695333333333332,
          13.713333333333333,
          13.726,
          13.69025,
          13.925,
          13.756,
          13.8255,
          13.732666666666667,
          13.7105,
          13.876999999999999,
          13.905000000000001,
          13.821,
          13.761,
          13.779,
          13.867799999999999,
          13.672,
          13.770499999999998,
          13.6325,
          13.646
         ],
         "legendgroup": "",
         "lon": [
          100.49925,
          100.5154,
          100.85612499999999,
          100.5232,
          100.628,
          100.64750000000001,
          100.53175,
          100.51140000000001,
          100.626,
          100.7485,
          100.78916666666667,
          100.5385,
          100.50933333333334,
          100.545,
          100.48479999999999,
          100.4805,
          100.58066666666666,
          100.5025,
          100.43983333333334,
          100.47279999999999,
          100.4145,
          100.44557142857143,
          100.3545,
          100.5005,
          100.49325,
          100.567,
          100.65,
          100.529,
          100.529,
          100.565,
          100.50600000000001,
          100.66966666666667,
          100.57866666666666,
          100.628,
          100.4655,
          100.593,
          100.53875,
          100.606,
          100.57733333333333,
          100.39750000000001,
          100.572,
          100.652,
          100.677,
          100.688,
          100.609,
          100.7398,
          100.616,
          100.369,
          100.5035,
          100.37
         ],
         "marker": {
          "color": [
           40135,
           75835,
           184350,
           42823,
           184496,
           141388,
           39993,
           37980,
           85618,
           140968,
           179974,
           73326,
           19451,
           63992,
           98164,
           60603,
           83688,
           64805,
           101268,
           97871,
           185130,
           121788,
           155037,
           75476,
           87182,
           109708,
           137061,
           71192,
           118543,
           153969,
           77528,
           183874,
           89398,
           123002,
           140929,
           166487,
           64247,
           113125,
           80398,
           192198,
           98248,
           211253,
           95069,
           97091,
           103397,
           212131,
           85242,
           79786,
           124121,
           100094
          ],
          "coloraxis": "coloraxis",
          "size": [
           40135,
           75835,
           184350,
           42823,
           184496,
           141388,
           39993,
           37980,
           85618,
           140968,
           179974,
           73326,
           19451,
           63992,
           98164,
           60603,
           83688,
           64805,
           101268,
           97871,
           185130,
           121788,
           155037,
           75476,
           87182,
           109708,
           137061,
           71192,
           118543,
           153969,
           77528,
           183874,
           89398,
           123002,
           140929,
           166487,
           64247,
           113125,
           80398,
           192198,
           98248,
           211253,
           95069,
           97091,
           103397,
           212131,
           85242,
           79786,
           124121,
           100094
          ],
          "sizemode": "area",
          "sizeref": 235.70111111111112
         },
         "mode": "markers",
         "name": "",
         "showlegend": false,
         "subplot": "mapbox",
         "type": "scattermapbox"
        }
       ],
       "layout": {
        "coloraxis": {
         "colorbar": {
          "title": {
           "text": "Population"
          }
         },
         "colorscale": [
          [
           0,
           "rgb(60, 9, 17)"
          ],
          [
           0.09090909090909091,
           "rgb(120, 14, 40)"
          ],
          [
           0.18181818181818182,
           "rgb(172, 43, 36)"
          ],
          [
           0.2727272727272727,
           "rgb(196, 101, 72)"
          ],
          [
           0.36363636363636365,
           "rgb(213, 157, 137)"
          ],
          [
           0.45454545454545453,
           "rgb(230, 210, 204)"
          ],
          [
           0.5454545454545454,
           "rgb(210, 216, 219)"
          ],
          [
           0.6363636363636364,
           "rgb(142, 181, 194)"
          ],
          [
           0.7272727272727273,
           "rgb(69, 144, 185)"
          ],
          [
           0.8181818181818182,
           "rgb(11, 102, 189)"
          ],
          [
           0.9090909090909091,
           "rgb(41, 58, 143)"
          ],
          [
           1,
           "rgb(23, 28, 66)"
          ]
         ]
        },
        "height": 500,
        "legend": {
         "itemsizing": "constant",
         "tracegroupgap": 0
        },
        "mapbox": {
         "center": {
          "lat": 13.755893285714285,
          "lon": 100.55670526190475
         },
         "domain": {
          "x": [
           0,
           1
          ],
          "y": [
           0,
           1
          ]
         },
         "style": "open-street-map",
         "zoom": 8
        },
        "margin": {
         "b": 20,
         "l": 20,
         "r": 20,
         "t": 40
        },
        "template": {
         "data": {
          "bar": [
           {
            "error_x": {
             "color": "#2a3f5f"
            },
            "error_y": {
             "color": "#2a3f5f"
            },
            "marker": {
             "line": {
              "color": "#E5ECF6",
              "width": 0.5
             },
             "pattern": {
              "fillmode": "overlay",
              "size": 10,
              "solidity": 0.2
             }
            },
            "type": "bar"
           }
          ],
          "barpolar": [
           {
            "marker": {
             "line": {
              "color": "#E5ECF6",
              "width": 0.5
             },
             "pattern": {
              "fillmode": "overlay",
              "size": 10,
              "solidity": 0.2
             }
            },
            "type": "barpolar"
           }
          ],
          "carpet": [
           {
            "aaxis": {
             "endlinecolor": "#2a3f5f",
             "gridcolor": "white",
             "linecolor": "white",
             "minorgridcolor": "white",
             "startlinecolor": "#2a3f5f"
            },
            "baxis": {
             "endlinecolor": "#2a3f5f",
             "gridcolor": "white",
             "linecolor": "white",
             "minorgridcolor": "white",
             "startlinecolor": "#2a3f5f"
            },
            "type": "carpet"
           }
          ],
          "choropleth": [
           {
            "colorbar": {
             "outlinewidth": 0,
             "ticks": ""
            },
            "type": "choropleth"
           }
          ],
          "contour": [
           {
            "colorbar": {
             "outlinewidth": 0,
             "ticks": ""
            },
            "colorscale": [
             [
              0,
              "#0d0887"
             ],
             [
              0.1111111111111111,
              "#46039f"
             ],
             [
              0.2222222222222222,
              "#7201a8"
             ],
             [
              0.3333333333333333,
              "#9c179e"
             ],
             [
              0.4444444444444444,
              "#bd3786"
             ],
             [
              0.5555555555555556,
              "#d8576b"
             ],
             [
              0.6666666666666666,
              "#ed7953"
             ],
             [
              0.7777777777777778,
              "#fb9f3a"
             ],
             [
              0.8888888888888888,
              "#fdca26"
             ],
             [
              1,
              "#f0f921"
             ]
            ],
            "type": "contour"
           }
          ],
          "contourcarpet": [
           {
            "colorbar": {
             "outlinewidth": 0,
             "ticks": ""
            },
            "type": "contourcarpet"
           }
          ],
          "heatmap": [
           {
            "colorbar": {
             "outlinewidth": 0,
             "ticks": ""
            },
            "colorscale": [
             [
              0,
              "#0d0887"
             ],
             [
              0.1111111111111111,
              "#46039f"
             ],
             [
              0.2222222222222222,
              "#7201a8"
             ],
             [
              0.3333333333333333,
              "#9c179e"
             ],
             [
              0.4444444444444444,
              "#bd3786"
             ],
             [
              0.5555555555555556,
              "#d8576b"
             ],
             [
              0.6666666666666666,
              "#ed7953"
             ],
             [
              0.7777777777777778,
              "#fb9f3a"
             ],
             [
              0.8888888888888888,
              "#fdca26"
             ],
             [
              1,
              "#f0f921"
             ]
            ],
            "type": "heatmap"
           }
          ],
          "heatmapgl": [
           {
            "colorbar": {
             "outlinewidth": 0,
             "ticks": ""
            },
            "colorscale": [
             [
              0,
              "#0d0887"
             ],
             [
              0.1111111111111111,
              "#46039f"
             ],
             [
              0.2222222222222222,
              "#7201a8"
             ],
             [
              0.3333333333333333,
              "#9c179e"
             ],
             [
              0.4444444444444444,
              "#bd3786"
             ],
             [
              0.5555555555555556,
              "#d8576b"
             ],
             [
              0.6666666666666666,
              "#ed7953"
             ],
             [
              0.7777777777777778,
              "#fb9f3a"
             ],
             [
              0.8888888888888888,
              "#fdca26"
             ],
             [
              1,
              "#f0f921"
             ]
            ],
            "type": "heatmapgl"
           }
          ],
          "histogram": [
           {
            "marker": {
             "pattern": {
              "fillmode": "overlay",
              "size": 10,
              "solidity": 0.2
             }
            },
            "type": "histogram"
           }
          ],
          "histogram2d": [
           {
            "colorbar": {
             "outlinewidth": 0,
             "ticks": ""
            },
            "colorscale": [
             [
              0,
              "#0d0887"
             ],
             [
              0.1111111111111111,
              "#46039f"
             ],
             [
              0.2222222222222222,
              "#7201a8"
             ],
             [
              0.3333333333333333,
              "#9c179e"
             ],
             [
              0.4444444444444444,
              "#bd3786"
             ],
             [
              0.5555555555555556,
              "#d8576b"
             ],
             [
              0.6666666666666666,
              "#ed7953"
             ],
             [
              0.7777777777777778,
              "#fb9f3a"
             ],
             [
              0.8888888888888888,
              "#fdca26"
             ],
             [
              1,
              "#f0f921"
             ]
            ],
            "type": "histogram2d"
           }
          ],
          "histogram2dcontour": [
           {
            "colorbar": {
             "outlinewidth": 0,
             "ticks": ""
            },
            "colorscale": [
             [
              0,
              "#0d0887"
             ],
             [
              0.1111111111111111,
              "#46039f"
             ],
             [
              0.2222222222222222,
              "#7201a8"
             ],
             [
              0.3333333333333333,
              "#9c179e"
             ],
             [
              0.4444444444444444,
              "#bd3786"
             ],
             [
              0.5555555555555556,
              "#d8576b"
             ],
             [
              0.6666666666666666,
              "#ed7953"
             ],
             [
              0.7777777777777778,
              "#fb9f3a"
             ],
             [
              0.8888888888888888,
              "#fdca26"
             ],
             [
              1,
              "#f0f921"
             ]
            ],
            "type": "histogram2dcontour"
           }
          ],
          "mesh3d": [
           {
            "colorbar": {
             "outlinewidth": 0,
             "ticks": ""
            },
            "type": "mesh3d"
           }
          ],
          "parcoords": [
           {
            "line": {
             "colorbar": {
              "outlinewidth": 0,
              "ticks": ""
             }
            },
            "type": "parcoords"
           }
          ],
          "pie": [
           {
            "automargin": true,
            "type": "pie"
           }
          ],
          "scatter": [
           {
            "marker": {
             "colorbar": {
              "outlinewidth": 0,
              "ticks": ""
             }
            },
            "type": "scatter"
           }
          ],
          "scatter3d": [
           {
            "line": {
             "colorbar": {
              "outlinewidth": 0,
              "ticks": ""
             }
            },
            "marker": {
             "colorbar": {
              "outlinewidth": 0,
              "ticks": ""
             }
            },
            "type": "scatter3d"
           }
          ],
          "scattercarpet": [
           {
            "marker": {
             "colorbar": {
              "outlinewidth": 0,
              "ticks": ""
             }
            },
            "type": "scattercarpet"
           }
          ],
          "scattergeo": [
           {
            "marker": {
             "colorbar": {
              "outlinewidth": 0,
              "ticks": ""
             }
            },
            "type": "scattergeo"
           }
          ],
          "scattergl": [
           {
            "marker": {
             "colorbar": {
              "outlinewidth": 0,
              "ticks": ""
             }
            },
            "type": "scattergl"
           }
          ],
          "scattermapbox": [
           {
            "marker": {
             "colorbar": {
              "outlinewidth": 0,
              "ticks": ""
             }
            },
            "type": "scattermapbox"
           }
          ],
          "scatterpolar": [
           {
            "marker": {
             "colorbar": {
              "outlinewidth": 0,
              "ticks": ""
             }
            },
            "type": "scatterpolar"
           }
          ],
          "scatterpolargl": [
           {
            "marker": {
             "colorbar": {
              "outlinewidth": 0,
              "ticks": ""
             }
            },
            "type": "scatterpolargl"
           }
          ],
          "scatterternary": [
           {
            "marker": {
             "colorbar": {
              "outlinewidth": 0,
              "ticks": ""
             }
            },
            "type": "scatterternary"
           }
          ],
          "surface": [
           {
            "colorbar": {
             "outlinewidth": 0,
             "ticks": ""
            },
            "colorscale": [
             [
              0,
              "#0d0887"
             ],
             [
              0.1111111111111111,
              "#46039f"
             ],
             [
              0.2222222222222222,
              "#7201a8"
             ],
             [
              0.3333333333333333,
              "#9c179e"
             ],
             [
              0.4444444444444444,
              "#bd3786"
             ],
             [
              0.5555555555555556,
              "#d8576b"
             ],
             [
              0.6666666666666666,
              "#ed7953"
             ],
             [
              0.7777777777777778,
              "#fb9f3a"
             ],
             [
              0.8888888888888888,
              "#fdca26"
             ],
             [
              1,
              "#f0f921"
             ]
            ],
            "type": "surface"
           }
          ],
          "table": [
           {
            "cells": {
             "fill": {
              "color": "#EBF0F8"
             },
             "line": {
              "color": "white"
             }
            },
            "header": {
             "fill": {
              "color": "#C8D4E3"
             },
             "line": {
              "color": "white"
             }
            },
            "type": "table"
           }
          ]
         },
         "layout": {
          "annotationdefaults": {
           "arrowcolor": "#2a3f5f",
           "arrowhead": 0,
           "arrowwidth": 1
          },
          "autotypenumbers": "strict",
          "coloraxis": {
           "colorbar": {
            "outlinewidth": 0,
            "ticks": ""
           }
          },
          "colorscale": {
           "diverging": [
            [
             0,
             "#8e0152"
            ],
            [
             0.1,
             "#c51b7d"
            ],
            [
             0.2,
             "#de77ae"
            ],
            [
             0.3,
             "#f1b6da"
            ],
            [
             0.4,
             "#fde0ef"
            ],
            [
             0.5,
             "#f7f7f7"
            ],
            [
             0.6,
             "#e6f5d0"
            ],
            [
             0.7,
             "#b8e186"
            ],
            [
             0.8,
             "#7fbc41"
            ],
            [
             0.9,
             "#4d9221"
            ],
            [
             1,
             "#276419"
            ]
           ],
           "sequential": [
            [
             0,
             "#0d0887"
            ],
            [
             0.1111111111111111,
             "#46039f"
            ],
            [
             0.2222222222222222,
             "#7201a8"
            ],
            [
             0.3333333333333333,
             "#9c179e"
            ],
            [
             0.4444444444444444,
             "#bd3786"
            ],
            [
             0.5555555555555556,
             "#d8576b"
            ],
            [
             0.6666666666666666,
             "#ed7953"
            ],
            [
             0.7777777777777778,
             "#fb9f3a"
            ],
            [
             0.8888888888888888,
             "#fdca26"
            ],
            [
             1,
             "#f0f921"
            ]
           ],
           "sequentialminus": [
            [
             0,
             "#0d0887"
            ],
            [
             0.1111111111111111,
             "#46039f"
            ],
            [
             0.2222222222222222,
             "#7201a8"
            ],
            [
             0.3333333333333333,
             "#9c179e"
            ],
            [
             0.4444444444444444,
             "#bd3786"
            ],
            [
             0.5555555555555556,
             "#d8576b"
            ],
            [
             0.6666666666666666,
             "#ed7953"
            ],
            [
             0.7777777777777778,
             "#fb9f3a"
            ],
            [
             0.8888888888888888,
             "#fdca26"
            ],
            [
             1,
             "#f0f921"
            ]
           ]
          },
          "colorway": [
           "#636efa",
           "#EF553B",
           "#00cc96",
           "#ab63fa",
           "#FFA15A",
           "#19d3f3",
           "#FF6692",
           "#B6E880",
           "#FF97FF",
           "#FECB52"
          ],
          "font": {
           "color": "#2a3f5f"
          },
          "geo": {
           "bgcolor": "white",
           "lakecolor": "white",
           "landcolor": "#E5ECF6",
           "showlakes": true,
           "showland": true,
           "subunitcolor": "white"
          },
          "hoverlabel": {
           "align": "left"
          },
          "hovermode": "closest",
          "mapbox": {
           "style": "light"
          },
          "paper_bgcolor": "white",
          "plot_bgcolor": "#E5ECF6",
          "polar": {
           "angularaxis": {
            "gridcolor": "white",
            "linecolor": "white",
            "ticks": ""
           },
           "bgcolor": "#E5ECF6",
           "radialaxis": {
            "gridcolor": "white",
            "linecolor": "white",
            "ticks": ""
           }
          },
          "scene": {
           "xaxis": {
            "backgroundcolor": "#E5ECF6",
            "gridcolor": "white",
            "gridwidth": 2,
            "linecolor": "white",
            "showbackground": true,
            "ticks": "",
            "zerolinecolor": "white"
           },
           "yaxis": {
            "backgroundcolor": "#E5ECF6",
            "gridcolor": "white",
            "gridwidth": 2,
            "linecolor": "white",
            "showbackground": true,
            "ticks": "",
            "zerolinecolor": "white"
           },
           "zaxis": {
            "backgroundcolor": "#E5ECF6",
            "gridcolor": "white",
            "gridwidth": 2,
            "linecolor": "white",
            "showbackground": true,
            "ticks": "",
            "zerolinecolor": "white"
           }
          },
          "shapedefaults": {
           "line": {
            "color": "#2a3f5f"
           }
          },
          "ternary": {
           "aaxis": {
            "gridcolor": "white",
            "linecolor": "white",
            "ticks": ""
           },
           "baxis": {
            "gridcolor": "white",
            "linecolor": "white",
            "ticks": ""
           },
           "bgcolor": "#E5ECF6",
           "caxis": {
            "gridcolor": "white",
            "linecolor": "white",
            "ticks": ""
           }
          },
          "title": {
           "x": 0.05
          },
          "xaxis": {
           "automargin": true,
           "gridcolor": "white",
           "linecolor": "white",
           "ticks": "",
           "title": {
            "standoff": 15
           },
           "zerolinecolor": "white",
           "zerolinewidth": 2
          },
          "yaxis": {
           "automargin": true,
           "gridcolor": "white",
           "linecolor": "white",
           "ticks": "",
           "title": {
            "standoff": 15
           },
           "zerolinecolor": "white",
           "zerolinewidth": 2
          }
         }
        },
        "title": {
         "font": {
          "size": 20
         },
         "text": "Number of Population in Bangkok by District",
         "x": 0.025,
         "y": 0.9675
        },
        "width": 800
       }
      }
     },
     "metadata": {},
     "output_type": "display_data"
    }
   ],
   "source": [
    "fig = px.scatter_mapbox(df_merge,\n",
    "                        lat = 'lat',\n",
    "                        lon = 'long',\n",
    "                        color = 'Population',\n",
    "                        size = 'Population',\n",
    "                        hover_name = 'District',\n",
    "                        hover_data = ['Population'],\n",
    "                        color_continuous_scale = px.colors.diverging.balance_r,\n",
    "                        size_max = 30,\n",
    "                        width = 800,\n",
    "                        height = 500)\n",
    "fig.update_layout(mapbox_style = 'open-street-map',\n",
    "                  margin = dict(l = 20, r = 20, t = 40, b = 20),\n",
    "                  title = {'text':'Number of Population in Bangkok by District',\n",
    "                           'font': {'size': 20},\n",
    "                           'x': 0.025,\n",
    "                           'y': 0.9675})\n",
    "fig.show()"
   ]
  },
  {
   "cell_type": "markdown",
   "metadata": {},
   "source": [
    "In the scatter map visualization above, it is obvious that population density in central districts is notably lower compared to their surrounding districts. However, some districts, such as Bangbon and Taweewattana, exhibit a relatively small number of population."
   ]
  },
  {
   "cell_type": "code",
   "execution_count": 166,
   "metadata": {},
   "outputs": [
    {
     "data": {
      "application/vnd.plotly.v1+json": {
       "config": {
        "plotlyServerURL": "https://plot.ly"
       },
       "data": [
        {
         "alignmentgroup": "True",
         "hovertemplate": "Population=%{x}<br>District=%{y}<extra></extra>",
         "legendgroup": "",
         "marker": {
          "color": "#636efa",
          "pattern": {
           "shape": ""
          }
         },
         "name": "",
         "offsetgroup": "",
         "orientation": "h",
         "showlegend": false,
         "textposition": "auto",
         "type": "bar",
         "x": [
          184496,
          185130,
          192198,
          211253,
          212131
         ],
         "xaxis": "x",
         "y": [
          "บางเขน",
          "บางขุนเทียน",
          "บางแค",
          "สายไหม",
          "คลองสามวา"
         ],
         "yaxis": "y"
        }
       ],
       "layout": {
        "barmode": "relative",
        "height": 500,
        "legend": {
         "tracegroupgap": 0
        },
        "margin": {
         "b": 20,
         "l": 20,
         "r": 20,
         "t": 40
        },
        "template": {
         "data": {
          "bar": [
           {
            "error_x": {
             "color": "#2a3f5f"
            },
            "error_y": {
             "color": "#2a3f5f"
            },
            "marker": {
             "line": {
              "color": "#E5ECF6",
              "width": 0.5
             },
             "pattern": {
              "fillmode": "overlay",
              "size": 10,
              "solidity": 0.2
             }
            },
            "type": "bar"
           }
          ],
          "barpolar": [
           {
            "marker": {
             "line": {
              "color": "#E5ECF6",
              "width": 0.5
             },
             "pattern": {
              "fillmode": "overlay",
              "size": 10,
              "solidity": 0.2
             }
            },
            "type": "barpolar"
           }
          ],
          "carpet": [
           {
            "aaxis": {
             "endlinecolor": "#2a3f5f",
             "gridcolor": "white",
             "linecolor": "white",
             "minorgridcolor": "white",
             "startlinecolor": "#2a3f5f"
            },
            "baxis": {
             "endlinecolor": "#2a3f5f",
             "gridcolor": "white",
             "linecolor": "white",
             "minorgridcolor": "white",
             "startlinecolor": "#2a3f5f"
            },
            "type": "carpet"
           }
          ],
          "choropleth": [
           {
            "colorbar": {
             "outlinewidth": 0,
             "ticks": ""
            },
            "type": "choropleth"
           }
          ],
          "contour": [
           {
            "colorbar": {
             "outlinewidth": 0,
             "ticks": ""
            },
            "colorscale": [
             [
              0,
              "#0d0887"
             ],
             [
              0.1111111111111111,
              "#46039f"
             ],
             [
              0.2222222222222222,
              "#7201a8"
             ],
             [
              0.3333333333333333,
              "#9c179e"
             ],
             [
              0.4444444444444444,
              "#bd3786"
             ],
             [
              0.5555555555555556,
              "#d8576b"
             ],
             [
              0.6666666666666666,
              "#ed7953"
             ],
             [
              0.7777777777777778,
              "#fb9f3a"
             ],
             [
              0.8888888888888888,
              "#fdca26"
             ],
             [
              1,
              "#f0f921"
             ]
            ],
            "type": "contour"
           }
          ],
          "contourcarpet": [
           {
            "colorbar": {
             "outlinewidth": 0,
             "ticks": ""
            },
            "type": "contourcarpet"
           }
          ],
          "heatmap": [
           {
            "colorbar": {
             "outlinewidth": 0,
             "ticks": ""
            },
            "colorscale": [
             [
              0,
              "#0d0887"
             ],
             [
              0.1111111111111111,
              "#46039f"
             ],
             [
              0.2222222222222222,
              "#7201a8"
             ],
             [
              0.3333333333333333,
              "#9c179e"
             ],
             [
              0.4444444444444444,
              "#bd3786"
             ],
             [
              0.5555555555555556,
              "#d8576b"
             ],
             [
              0.6666666666666666,
              "#ed7953"
             ],
             [
              0.7777777777777778,
              "#fb9f3a"
             ],
             [
              0.8888888888888888,
              "#fdca26"
             ],
             [
              1,
              "#f0f921"
             ]
            ],
            "type": "heatmap"
           }
          ],
          "heatmapgl": [
           {
            "colorbar": {
             "outlinewidth": 0,
             "ticks": ""
            },
            "colorscale": [
             [
              0,
              "#0d0887"
             ],
             [
              0.1111111111111111,
              "#46039f"
             ],
             [
              0.2222222222222222,
              "#7201a8"
             ],
             [
              0.3333333333333333,
              "#9c179e"
             ],
             [
              0.4444444444444444,
              "#bd3786"
             ],
             [
              0.5555555555555556,
              "#d8576b"
             ],
             [
              0.6666666666666666,
              "#ed7953"
             ],
             [
              0.7777777777777778,
              "#fb9f3a"
             ],
             [
              0.8888888888888888,
              "#fdca26"
             ],
             [
              1,
              "#f0f921"
             ]
            ],
            "type": "heatmapgl"
           }
          ],
          "histogram": [
           {
            "marker": {
             "pattern": {
              "fillmode": "overlay",
              "size": 10,
              "solidity": 0.2
             }
            },
            "type": "histogram"
           }
          ],
          "histogram2d": [
           {
            "colorbar": {
             "outlinewidth": 0,
             "ticks": ""
            },
            "colorscale": [
             [
              0,
              "#0d0887"
             ],
             [
              0.1111111111111111,
              "#46039f"
             ],
             [
              0.2222222222222222,
              "#7201a8"
             ],
             [
              0.3333333333333333,
              "#9c179e"
             ],
             [
              0.4444444444444444,
              "#bd3786"
             ],
             [
              0.5555555555555556,
              "#d8576b"
             ],
             [
              0.6666666666666666,
              "#ed7953"
             ],
             [
              0.7777777777777778,
              "#fb9f3a"
             ],
             [
              0.8888888888888888,
              "#fdca26"
             ],
             [
              1,
              "#f0f921"
             ]
            ],
            "type": "histogram2d"
           }
          ],
          "histogram2dcontour": [
           {
            "colorbar": {
             "outlinewidth": 0,
             "ticks": ""
            },
            "colorscale": [
             [
              0,
              "#0d0887"
             ],
             [
              0.1111111111111111,
              "#46039f"
             ],
             [
              0.2222222222222222,
              "#7201a8"
             ],
             [
              0.3333333333333333,
              "#9c179e"
             ],
             [
              0.4444444444444444,
              "#bd3786"
             ],
             [
              0.5555555555555556,
              "#d8576b"
             ],
             [
              0.6666666666666666,
              "#ed7953"
             ],
             [
              0.7777777777777778,
              "#fb9f3a"
             ],
             [
              0.8888888888888888,
              "#fdca26"
             ],
             [
              1,
              "#f0f921"
             ]
            ],
            "type": "histogram2dcontour"
           }
          ],
          "mesh3d": [
           {
            "colorbar": {
             "outlinewidth": 0,
             "ticks": ""
            },
            "type": "mesh3d"
           }
          ],
          "parcoords": [
           {
            "line": {
             "colorbar": {
              "outlinewidth": 0,
              "ticks": ""
             }
            },
            "type": "parcoords"
           }
          ],
          "pie": [
           {
            "automargin": true,
            "type": "pie"
           }
          ],
          "scatter": [
           {
            "marker": {
             "colorbar": {
              "outlinewidth": 0,
              "ticks": ""
             }
            },
            "type": "scatter"
           }
          ],
          "scatter3d": [
           {
            "line": {
             "colorbar": {
              "outlinewidth": 0,
              "ticks": ""
             }
            },
            "marker": {
             "colorbar": {
              "outlinewidth": 0,
              "ticks": ""
             }
            },
            "type": "scatter3d"
           }
          ],
          "scattercarpet": [
           {
            "marker": {
             "colorbar": {
              "outlinewidth": 0,
              "ticks": ""
             }
            },
            "type": "scattercarpet"
           }
          ],
          "scattergeo": [
           {
            "marker": {
             "colorbar": {
              "outlinewidth": 0,
              "ticks": ""
             }
            },
            "type": "scattergeo"
           }
          ],
          "scattergl": [
           {
            "marker": {
             "colorbar": {
              "outlinewidth": 0,
              "ticks": ""
             }
            },
            "type": "scattergl"
           }
          ],
          "scattermapbox": [
           {
            "marker": {
             "colorbar": {
              "outlinewidth": 0,
              "ticks": ""
             }
            },
            "type": "scattermapbox"
           }
          ],
          "scatterpolar": [
           {
            "marker": {
             "colorbar": {
              "outlinewidth": 0,
              "ticks": ""
             }
            },
            "type": "scatterpolar"
           }
          ],
          "scatterpolargl": [
           {
            "marker": {
             "colorbar": {
              "outlinewidth": 0,
              "ticks": ""
             }
            },
            "type": "scatterpolargl"
           }
          ],
          "scatterternary": [
           {
            "marker": {
             "colorbar": {
              "outlinewidth": 0,
              "ticks": ""
             }
            },
            "type": "scatterternary"
           }
          ],
          "surface": [
           {
            "colorbar": {
             "outlinewidth": 0,
             "ticks": ""
            },
            "colorscale": [
             [
              0,
              "#0d0887"
             ],
             [
              0.1111111111111111,
              "#46039f"
             ],
             [
              0.2222222222222222,
              "#7201a8"
             ],
             [
              0.3333333333333333,
              "#9c179e"
             ],
             [
              0.4444444444444444,
              "#bd3786"
             ],
             [
              0.5555555555555556,
              "#d8576b"
             ],
             [
              0.6666666666666666,
              "#ed7953"
             ],
             [
              0.7777777777777778,
              "#fb9f3a"
             ],
             [
              0.8888888888888888,
              "#fdca26"
             ],
             [
              1,
              "#f0f921"
             ]
            ],
            "type": "surface"
           }
          ],
          "table": [
           {
            "cells": {
             "fill": {
              "color": "#EBF0F8"
             },
             "line": {
              "color": "white"
             }
            },
            "header": {
             "fill": {
              "color": "#C8D4E3"
             },
             "line": {
              "color": "white"
             }
            },
            "type": "table"
           }
          ]
         },
         "layout": {
          "annotationdefaults": {
           "arrowcolor": "#2a3f5f",
           "arrowhead": 0,
           "arrowwidth": 1
          },
          "autotypenumbers": "strict",
          "coloraxis": {
           "colorbar": {
            "outlinewidth": 0,
            "ticks": ""
           }
          },
          "colorscale": {
           "diverging": [
            [
             0,
             "#8e0152"
            ],
            [
             0.1,
             "#c51b7d"
            ],
            [
             0.2,
             "#de77ae"
            ],
            [
             0.3,
             "#f1b6da"
            ],
            [
             0.4,
             "#fde0ef"
            ],
            [
             0.5,
             "#f7f7f7"
            ],
            [
             0.6,
             "#e6f5d0"
            ],
            [
             0.7,
             "#b8e186"
            ],
            [
             0.8,
             "#7fbc41"
            ],
            [
             0.9,
             "#4d9221"
            ],
            [
             1,
             "#276419"
            ]
           ],
           "sequential": [
            [
             0,
             "#0d0887"
            ],
            [
             0.1111111111111111,
             "#46039f"
            ],
            [
             0.2222222222222222,
             "#7201a8"
            ],
            [
             0.3333333333333333,
             "#9c179e"
            ],
            [
             0.4444444444444444,
             "#bd3786"
            ],
            [
             0.5555555555555556,
             "#d8576b"
            ],
            [
             0.6666666666666666,
             "#ed7953"
            ],
            [
             0.7777777777777778,
             "#fb9f3a"
            ],
            [
             0.8888888888888888,
             "#fdca26"
            ],
            [
             1,
             "#f0f921"
            ]
           ],
           "sequentialminus": [
            [
             0,
             "#0d0887"
            ],
            [
             0.1111111111111111,
             "#46039f"
            ],
            [
             0.2222222222222222,
             "#7201a8"
            ],
            [
             0.3333333333333333,
             "#9c179e"
            ],
            [
             0.4444444444444444,
             "#bd3786"
            ],
            [
             0.5555555555555556,
             "#d8576b"
            ],
            [
             0.6666666666666666,
             "#ed7953"
            ],
            [
             0.7777777777777778,
             "#fb9f3a"
            ],
            [
             0.8888888888888888,
             "#fdca26"
            ],
            [
             1,
             "#f0f921"
            ]
           ]
          },
          "colorway": [
           "#636efa",
           "#EF553B",
           "#00cc96",
           "#ab63fa",
           "#FFA15A",
           "#19d3f3",
           "#FF6692",
           "#B6E880",
           "#FF97FF",
           "#FECB52"
          ],
          "font": {
           "color": "#2a3f5f"
          },
          "geo": {
           "bgcolor": "white",
           "lakecolor": "white",
           "landcolor": "#E5ECF6",
           "showlakes": true,
           "showland": true,
           "subunitcolor": "white"
          },
          "hoverlabel": {
           "align": "left"
          },
          "hovermode": "closest",
          "mapbox": {
           "style": "light"
          },
          "paper_bgcolor": "white",
          "plot_bgcolor": "#E5ECF6",
          "polar": {
           "angularaxis": {
            "gridcolor": "white",
            "linecolor": "white",
            "ticks": ""
           },
           "bgcolor": "#E5ECF6",
           "radialaxis": {
            "gridcolor": "white",
            "linecolor": "white",
            "ticks": ""
           }
          },
          "scene": {
           "xaxis": {
            "backgroundcolor": "#E5ECF6",
            "gridcolor": "white",
            "gridwidth": 2,
            "linecolor": "white",
            "showbackground": true,
            "ticks": "",
            "zerolinecolor": "white"
           },
           "yaxis": {
            "backgroundcolor": "#E5ECF6",
            "gridcolor": "white",
            "gridwidth": 2,
            "linecolor": "white",
            "showbackground": true,
            "ticks": "",
            "zerolinecolor": "white"
           },
           "zaxis": {
            "backgroundcolor": "#E5ECF6",
            "gridcolor": "white",
            "gridwidth": 2,
            "linecolor": "white",
            "showbackground": true,
            "ticks": "",
            "zerolinecolor": "white"
           }
          },
          "shapedefaults": {
           "line": {
            "color": "#2a3f5f"
           }
          },
          "ternary": {
           "aaxis": {
            "gridcolor": "white",
            "linecolor": "white",
            "ticks": ""
           },
           "baxis": {
            "gridcolor": "white",
            "linecolor": "white",
            "ticks": ""
           },
           "bgcolor": "#E5ECF6",
           "caxis": {
            "gridcolor": "white",
            "linecolor": "white",
            "ticks": ""
           }
          },
          "title": {
           "x": 0.05
          },
          "xaxis": {
           "automargin": true,
           "gridcolor": "white",
           "linecolor": "white",
           "ticks": "",
           "title": {
            "standoff": 15
           },
           "zerolinecolor": "white",
           "zerolinewidth": 2
          },
          "yaxis": {
           "automargin": true,
           "gridcolor": "white",
           "linecolor": "white",
           "ticks": "",
           "title": {
            "standoff": 15
           },
           "zerolinecolor": "white",
           "zerolinewidth": 2
          }
         }
        },
        "title": {
         "font": {
          "size": 20
         },
         "text": "Top 5 Districts by Population",
         "x": 0.025,
         "y": 0.9675
        },
        "width": 800,
        "xaxis": {
         "anchor": "y",
         "domain": [
          0,
          1
         ],
         "title": {
          "text": "Population"
         }
        },
        "yaxis": {
         "anchor": "x",
         "domain": [
          0,
          1
         ],
         "title": {
          "text": "District"
         }
        }
       }
      }
     },
     "metadata": {},
     "output_type": "display_data"
    }
   ],
   "source": [
    "fig = px.bar(df_merge.sort_values(by = 'Population', ascending = False).head(5).sort_values(by = 'Population'), \n",
    "             x = 'Population', \n",
    "             y = 'District', \n",
    "             orientation = 'h',\n",
    "             width = 800,\n",
    "             height = 500)\n",
    "fig.update_layout(margin = dict(l = 20, r = 20, t = 40, b = 20),\n",
    "                  title = {'text':'Top 5 Districts by Population',\n",
    "                           'font': {'size': 20},\n",
    "                           'x': 0.025,\n",
    "                           'y': 0.9675})\n",
    "fig.show()"
   ]
  },
  {
   "cell_type": "markdown",
   "metadata": {},
   "source": [
    "Top 5 districts have more than 180,000 people in each district. Khlongsamwa is the district which has the most people leaving"
   ]
  },
  {
   "cell_type": "code",
   "execution_count": 172,
   "metadata": {},
   "outputs": [
    {
     "data": {
      "application/vnd.plotly.v1+json": {
       "config": {
        "plotlyServerURL": "https://plot.ly"
       },
       "data": [
        {
         "alignmentgroup": "True",
         "hovertemplate": "Population=%{x}<br>District=%{y}<extra></extra>",
         "legendgroup": "",
         "marker": {
          "color": "lightcoral",
          "pattern": {
           "shape": ""
          }
         },
         "name": "",
         "offsetgroup": "",
         "orientation": "h",
         "showlegend": false,
         "textposition": "auto",
         "type": "bar",
         "x": [
          19451,
          37980,
          39993,
          40135,
          42823
         ],
         "xaxis": "x",
         "y": [
          "สัมพันธวงศ์",
          "ป้อมปราบศัตรูพ่าย",
          "ปทุมวัน",
          "พระนคร",
          "บางรัก"
         ],
         "yaxis": "y"
        }
       ],
       "layout": {
        "barmode": "relative",
        "height": 500,
        "legend": {
         "tracegroupgap": 0
        },
        "margin": {
         "b": 20,
         "l": 20,
         "r": 20,
         "t": 40
        },
        "template": {
         "data": {
          "bar": [
           {
            "error_x": {
             "color": "#2a3f5f"
            },
            "error_y": {
             "color": "#2a3f5f"
            },
            "marker": {
             "line": {
              "color": "#E5ECF6",
              "width": 0.5
             },
             "pattern": {
              "fillmode": "overlay",
              "size": 10,
              "solidity": 0.2
             }
            },
            "type": "bar"
           }
          ],
          "barpolar": [
           {
            "marker": {
             "line": {
              "color": "#E5ECF6",
              "width": 0.5
             },
             "pattern": {
              "fillmode": "overlay",
              "size": 10,
              "solidity": 0.2
             }
            },
            "type": "barpolar"
           }
          ],
          "carpet": [
           {
            "aaxis": {
             "endlinecolor": "#2a3f5f",
             "gridcolor": "white",
             "linecolor": "white",
             "minorgridcolor": "white",
             "startlinecolor": "#2a3f5f"
            },
            "baxis": {
             "endlinecolor": "#2a3f5f",
             "gridcolor": "white",
             "linecolor": "white",
             "minorgridcolor": "white",
             "startlinecolor": "#2a3f5f"
            },
            "type": "carpet"
           }
          ],
          "choropleth": [
           {
            "colorbar": {
             "outlinewidth": 0,
             "ticks": ""
            },
            "type": "choropleth"
           }
          ],
          "contour": [
           {
            "colorbar": {
             "outlinewidth": 0,
             "ticks": ""
            },
            "colorscale": [
             [
              0,
              "#0d0887"
             ],
             [
              0.1111111111111111,
              "#46039f"
             ],
             [
              0.2222222222222222,
              "#7201a8"
             ],
             [
              0.3333333333333333,
              "#9c179e"
             ],
             [
              0.4444444444444444,
              "#bd3786"
             ],
             [
              0.5555555555555556,
              "#d8576b"
             ],
             [
              0.6666666666666666,
              "#ed7953"
             ],
             [
              0.7777777777777778,
              "#fb9f3a"
             ],
             [
              0.8888888888888888,
              "#fdca26"
             ],
             [
              1,
              "#f0f921"
             ]
            ],
            "type": "contour"
           }
          ],
          "contourcarpet": [
           {
            "colorbar": {
             "outlinewidth": 0,
             "ticks": ""
            },
            "type": "contourcarpet"
           }
          ],
          "heatmap": [
           {
            "colorbar": {
             "outlinewidth": 0,
             "ticks": ""
            },
            "colorscale": [
             [
              0,
              "#0d0887"
             ],
             [
              0.1111111111111111,
              "#46039f"
             ],
             [
              0.2222222222222222,
              "#7201a8"
             ],
             [
              0.3333333333333333,
              "#9c179e"
             ],
             [
              0.4444444444444444,
              "#bd3786"
             ],
             [
              0.5555555555555556,
              "#d8576b"
             ],
             [
              0.6666666666666666,
              "#ed7953"
             ],
             [
              0.7777777777777778,
              "#fb9f3a"
             ],
             [
              0.8888888888888888,
              "#fdca26"
             ],
             [
              1,
              "#f0f921"
             ]
            ],
            "type": "heatmap"
           }
          ],
          "heatmapgl": [
           {
            "colorbar": {
             "outlinewidth": 0,
             "ticks": ""
            },
            "colorscale": [
             [
              0,
              "#0d0887"
             ],
             [
              0.1111111111111111,
              "#46039f"
             ],
             [
              0.2222222222222222,
              "#7201a8"
             ],
             [
              0.3333333333333333,
              "#9c179e"
             ],
             [
              0.4444444444444444,
              "#bd3786"
             ],
             [
              0.5555555555555556,
              "#d8576b"
             ],
             [
              0.6666666666666666,
              "#ed7953"
             ],
             [
              0.7777777777777778,
              "#fb9f3a"
             ],
             [
              0.8888888888888888,
              "#fdca26"
             ],
             [
              1,
              "#f0f921"
             ]
            ],
            "type": "heatmapgl"
           }
          ],
          "histogram": [
           {
            "marker": {
             "pattern": {
              "fillmode": "overlay",
              "size": 10,
              "solidity": 0.2
             }
            },
            "type": "histogram"
           }
          ],
          "histogram2d": [
           {
            "colorbar": {
             "outlinewidth": 0,
             "ticks": ""
            },
            "colorscale": [
             [
              0,
              "#0d0887"
             ],
             [
              0.1111111111111111,
              "#46039f"
             ],
             [
              0.2222222222222222,
              "#7201a8"
             ],
             [
              0.3333333333333333,
              "#9c179e"
             ],
             [
              0.4444444444444444,
              "#bd3786"
             ],
             [
              0.5555555555555556,
              "#d8576b"
             ],
             [
              0.6666666666666666,
              "#ed7953"
             ],
             [
              0.7777777777777778,
              "#fb9f3a"
             ],
             [
              0.8888888888888888,
              "#fdca26"
             ],
             [
              1,
              "#f0f921"
             ]
            ],
            "type": "histogram2d"
           }
          ],
          "histogram2dcontour": [
           {
            "colorbar": {
             "outlinewidth": 0,
             "ticks": ""
            },
            "colorscale": [
             [
              0,
              "#0d0887"
             ],
             [
              0.1111111111111111,
              "#46039f"
             ],
             [
              0.2222222222222222,
              "#7201a8"
             ],
             [
              0.3333333333333333,
              "#9c179e"
             ],
             [
              0.4444444444444444,
              "#bd3786"
             ],
             [
              0.5555555555555556,
              "#d8576b"
             ],
             [
              0.6666666666666666,
              "#ed7953"
             ],
             [
              0.7777777777777778,
              "#fb9f3a"
             ],
             [
              0.8888888888888888,
              "#fdca26"
             ],
             [
              1,
              "#f0f921"
             ]
            ],
            "type": "histogram2dcontour"
           }
          ],
          "mesh3d": [
           {
            "colorbar": {
             "outlinewidth": 0,
             "ticks": ""
            },
            "type": "mesh3d"
           }
          ],
          "parcoords": [
           {
            "line": {
             "colorbar": {
              "outlinewidth": 0,
              "ticks": ""
             }
            },
            "type": "parcoords"
           }
          ],
          "pie": [
           {
            "automargin": true,
            "type": "pie"
           }
          ],
          "scatter": [
           {
            "marker": {
             "colorbar": {
              "outlinewidth": 0,
              "ticks": ""
             }
            },
            "type": "scatter"
           }
          ],
          "scatter3d": [
           {
            "line": {
             "colorbar": {
              "outlinewidth": 0,
              "ticks": ""
             }
            },
            "marker": {
             "colorbar": {
              "outlinewidth": 0,
              "ticks": ""
             }
            },
            "type": "scatter3d"
           }
          ],
          "scattercarpet": [
           {
            "marker": {
             "colorbar": {
              "outlinewidth": 0,
              "ticks": ""
             }
            },
            "type": "scattercarpet"
           }
          ],
          "scattergeo": [
           {
            "marker": {
             "colorbar": {
              "outlinewidth": 0,
              "ticks": ""
             }
            },
            "type": "scattergeo"
           }
          ],
          "scattergl": [
           {
            "marker": {
             "colorbar": {
              "outlinewidth": 0,
              "ticks": ""
             }
            },
            "type": "scattergl"
           }
          ],
          "scattermapbox": [
           {
            "marker": {
             "colorbar": {
              "outlinewidth": 0,
              "ticks": ""
             }
            },
            "type": "scattermapbox"
           }
          ],
          "scatterpolar": [
           {
            "marker": {
             "colorbar": {
              "outlinewidth": 0,
              "ticks": ""
             }
            },
            "type": "scatterpolar"
           }
          ],
          "scatterpolargl": [
           {
            "marker": {
             "colorbar": {
              "outlinewidth": 0,
              "ticks": ""
             }
            },
            "type": "scatterpolargl"
           }
          ],
          "scatterternary": [
           {
            "marker": {
             "colorbar": {
              "outlinewidth": 0,
              "ticks": ""
             }
            },
            "type": "scatterternary"
           }
          ],
          "surface": [
           {
            "colorbar": {
             "outlinewidth": 0,
             "ticks": ""
            },
            "colorscale": [
             [
              0,
              "#0d0887"
             ],
             [
              0.1111111111111111,
              "#46039f"
             ],
             [
              0.2222222222222222,
              "#7201a8"
             ],
             [
              0.3333333333333333,
              "#9c179e"
             ],
             [
              0.4444444444444444,
              "#bd3786"
             ],
             [
              0.5555555555555556,
              "#d8576b"
             ],
             [
              0.6666666666666666,
              "#ed7953"
             ],
             [
              0.7777777777777778,
              "#fb9f3a"
             ],
             [
              0.8888888888888888,
              "#fdca26"
             ],
             [
              1,
              "#f0f921"
             ]
            ],
            "type": "surface"
           }
          ],
          "table": [
           {
            "cells": {
             "fill": {
              "color": "#EBF0F8"
             },
             "line": {
              "color": "white"
             }
            },
            "header": {
             "fill": {
              "color": "#C8D4E3"
             },
             "line": {
              "color": "white"
             }
            },
            "type": "table"
           }
          ]
         },
         "layout": {
          "annotationdefaults": {
           "arrowcolor": "#2a3f5f",
           "arrowhead": 0,
           "arrowwidth": 1
          },
          "autotypenumbers": "strict",
          "coloraxis": {
           "colorbar": {
            "outlinewidth": 0,
            "ticks": ""
           }
          },
          "colorscale": {
           "diverging": [
            [
             0,
             "#8e0152"
            ],
            [
             0.1,
             "#c51b7d"
            ],
            [
             0.2,
             "#de77ae"
            ],
            [
             0.3,
             "#f1b6da"
            ],
            [
             0.4,
             "#fde0ef"
            ],
            [
             0.5,
             "#f7f7f7"
            ],
            [
             0.6,
             "#e6f5d0"
            ],
            [
             0.7,
             "#b8e186"
            ],
            [
             0.8,
             "#7fbc41"
            ],
            [
             0.9,
             "#4d9221"
            ],
            [
             1,
             "#276419"
            ]
           ],
           "sequential": [
            [
             0,
             "#0d0887"
            ],
            [
             0.1111111111111111,
             "#46039f"
            ],
            [
             0.2222222222222222,
             "#7201a8"
            ],
            [
             0.3333333333333333,
             "#9c179e"
            ],
            [
             0.4444444444444444,
             "#bd3786"
            ],
            [
             0.5555555555555556,
             "#d8576b"
            ],
            [
             0.6666666666666666,
             "#ed7953"
            ],
            [
             0.7777777777777778,
             "#fb9f3a"
            ],
            [
             0.8888888888888888,
             "#fdca26"
            ],
            [
             1,
             "#f0f921"
            ]
           ],
           "sequentialminus": [
            [
             0,
             "#0d0887"
            ],
            [
             0.1111111111111111,
             "#46039f"
            ],
            [
             0.2222222222222222,
             "#7201a8"
            ],
            [
             0.3333333333333333,
             "#9c179e"
            ],
            [
             0.4444444444444444,
             "#bd3786"
            ],
            [
             0.5555555555555556,
             "#d8576b"
            ],
            [
             0.6666666666666666,
             "#ed7953"
            ],
            [
             0.7777777777777778,
             "#fb9f3a"
            ],
            [
             0.8888888888888888,
             "#fdca26"
            ],
            [
             1,
             "#f0f921"
            ]
           ]
          },
          "colorway": [
           "#636efa",
           "#EF553B",
           "#00cc96",
           "#ab63fa",
           "#FFA15A",
           "#19d3f3",
           "#FF6692",
           "#B6E880",
           "#FF97FF",
           "#FECB52"
          ],
          "font": {
           "color": "#2a3f5f"
          },
          "geo": {
           "bgcolor": "white",
           "lakecolor": "white",
           "landcolor": "#E5ECF6",
           "showlakes": true,
           "showland": true,
           "subunitcolor": "white"
          },
          "hoverlabel": {
           "align": "left"
          },
          "hovermode": "closest",
          "mapbox": {
           "style": "light"
          },
          "paper_bgcolor": "white",
          "plot_bgcolor": "#E5ECF6",
          "polar": {
           "angularaxis": {
            "gridcolor": "white",
            "linecolor": "white",
            "ticks": ""
           },
           "bgcolor": "#E5ECF6",
           "radialaxis": {
            "gridcolor": "white",
            "linecolor": "white",
            "ticks": ""
           }
          },
          "scene": {
           "xaxis": {
            "backgroundcolor": "#E5ECF6",
            "gridcolor": "white",
            "gridwidth": 2,
            "linecolor": "white",
            "showbackground": true,
            "ticks": "",
            "zerolinecolor": "white"
           },
           "yaxis": {
            "backgroundcolor": "#E5ECF6",
            "gridcolor": "white",
            "gridwidth": 2,
            "linecolor": "white",
            "showbackground": true,
            "ticks": "",
            "zerolinecolor": "white"
           },
           "zaxis": {
            "backgroundcolor": "#E5ECF6",
            "gridcolor": "white",
            "gridwidth": 2,
            "linecolor": "white",
            "showbackground": true,
            "ticks": "",
            "zerolinecolor": "white"
           }
          },
          "shapedefaults": {
           "line": {
            "color": "#2a3f5f"
           }
          },
          "ternary": {
           "aaxis": {
            "gridcolor": "white",
            "linecolor": "white",
            "ticks": ""
           },
           "baxis": {
            "gridcolor": "white",
            "linecolor": "white",
            "ticks": ""
           },
           "bgcolor": "#E5ECF6",
           "caxis": {
            "gridcolor": "white",
            "linecolor": "white",
            "ticks": ""
           }
          },
          "title": {
           "x": 0.05
          },
          "xaxis": {
           "automargin": true,
           "gridcolor": "white",
           "linecolor": "white",
           "ticks": "",
           "title": {
            "standoff": 15
           },
           "zerolinecolor": "white",
           "zerolinewidth": 2
          },
          "yaxis": {
           "automargin": true,
           "gridcolor": "white",
           "linecolor": "white",
           "ticks": "",
           "title": {
            "standoff": 15
           },
           "zerolinecolor": "white",
           "zerolinewidth": 2
          }
         }
        },
        "title": {
         "font": {
          "size": 20
         },
         "text": "Lowest 5 Districts by Population",
         "x": 0.025,
         "y": 0.9675
        },
        "width": 800,
        "xaxis": {
         "anchor": "y",
         "domain": [
          0,
          1
         ],
         "title": {
          "text": "Population"
         }
        },
        "yaxis": {
         "anchor": "x",
         "domain": [
          0,
          1
         ],
         "title": {
          "text": "District"
         }
        }
       }
      }
     },
     "metadata": {},
     "output_type": "display_data"
    }
   ],
   "source": [
    "fig = px.bar(df_merge.sort_values(by = 'Population').head(5), \n",
    "             x = 'Population', \n",
    "             y = 'District', \n",
    "             orientation = 'h',\n",
    "             color_discrete_sequence = ['lightcoral'],\n",
    "             width = 800,\n",
    "             height = 500)\n",
    "fig.update_layout(margin = dict(l = 20, r = 20, t = 40, b = 20),\n",
    "                  title = {'text':'Lowest 5 Districts by Population',\n",
    "                           'font': {'size': 20},\n",
    "                           'x': 0.025,\n",
    "                           'y': 0.9675})\n",
    "fig.show()"
   ]
  },
  {
   "cell_type": "markdown",
   "metadata": {},
   "source": [
    "Lowest 5 districts have people living less than 45,000 people.\n",
    "Sampanthawong has the least people living with a number of 19,451 which is more than 10 times less than the most people living district (Khlongsamwa) "
   ]
  },
  {
   "cell_type": "markdown",
   "metadata": {},
   "source": [
    "## 4.2 Male proportion in each district "
   ]
  },
  {
   "cell_type": "code",
   "execution_count": 183,
   "metadata": {},
   "outputs": [
    {
     "data": {
      "application/vnd.plotly.v1+json": {
       "config": {
        "plotlyServerURL": "https://plot.ly"
       },
       "data": [
        {
         "customdata": [
          [
           0.4828952286034633
          ],
          [
           0.5317465550207687
          ],
          [
           0.4852237591537836
          ],
          [
           0.468533264834318
          ],
          [
           0.46582581736189405
          ],
          [
           0.45293094180552806
          ],
          [
           0.4704073212812242
          ],
          [
           0.48770405476566614
          ],
          [
           0.446985446985447
          ],
          [
           0.4707876964984961
          ],
          [
           0.472429350906242
          ],
          [
           0.46169162370782535
          ],
          [
           0.48532209140918203
          ],
          [
           0.48431053881735214
          ],
          [
           0.4656493215435394
          ],
          [
           0.4646964671715922
          ],
          [
           0.44591817225886626
          ],
          [
           0.4597639071059332
          ],
          [
           0.4652209977485484
          ],
          [
           0.4659705122048411
          ],
          [
           0.4694484956517042
          ],
          [
           0.4615315137780405
          ],
          [
           0.46386991492353435
          ],
          [
           0.4747469394244528
          ],
          [
           0.45208873391296367
          ],
          [
           0.4562748386626317
          ],
          [
           0.45434514559210865
          ],
          [
           0.4714715136532195
          ],
          [
           0.46086230313050963
          ],
          [
           0.4573777838396041
          ],
          [
           0.46973996491590136
          ],
          [
           0.46720580397446076
          ],
          [
           0.47193449517886304
          ],
          [
           0.45535844945610643
          ],
          [
           0.47148564170610735
          ],
          [
           0.49682557797305493
          ],
          [
           0.47146170249194513
          ],
          [
           0.4532243093922652
          ],
          [
           0.4627727057887012
          ],
          [
           0.46220043913048003
          ],
          [
           0.47119534239882743
          ],
          [
           0.4670560891442962
          ],
          [
           0.46485184444982064
          ],
          [
           0.45752953414837627
          ],
          [
           0.45373656875924834
          ],
          [
           0.468964932046707
          ],
          [
           0.46025433471762744
          ],
          [
           0.46118366630737223
          ],
          [
           0.4669072920778917
          ],
          [
           0.47525326193378226
          ]
         ],
         "hovertemplate": "<b>%{hovertext}</b><br><br>Population=%{marker.size}<br>lat=%{lat}<br>long=%{lon}<br>Male Ratio=%{marker.color}<extra></extra>",
         "hovertext": [
          "พระนคร",
          "ดุสิต",
          "หนองจอก",
          "บางรัก",
          "บางเขน",
          "บางกะปิ",
          "ปทุมวัน",
          "ป้อมปราบศัตรูพ่าย",
          "พระโขนง",
          "มีนบุรี",
          "ลาดกระบัง",
          "ยานนาวา",
          "สัมพันธวงศ์",
          "พญาไท",
          "ธนบุรี",
          "บางกอกใหญ่",
          "ห้วยขวาง",
          "คลองสาน",
          "ตลิ่งชัน",
          "บางกอกน้อย",
          "บางขุนเทียน",
          "ภาษีเจริญ",
          "หนองแขม",
          "ราษฎร์บูรณะ",
          "บางพลัด",
          "ดินแดง",
          "บึงกุ่ม",
          "สาทร",
          "บางซื่อ",
          "จตุจักร",
          "บางคอแหลม",
          "ประเวศ",
          "คลองเตย",
          "สวนหลวง",
          "จอมทอง",
          "ดอนเมือง",
          "ราชเทวี",
          "ลาดพร้าว",
          "วัฒนา",
          "บางแค",
          "หลักสี่",
          "สายไหม",
          "คันนายาว",
          "สะพานสูง",
          "วังทองหลาง",
          "คลองสามวา",
          "บางนา",
          "ทวีวัฒนา",
          "ทุ่งครุ",
          "บางบอน"
         ],
         "lat": [
          13.756416666666667,
          13.7728,
          13.85125,
          13.728,
          13.867,
          13.771,
          13.7405,
          13.7512,
          13.692,
          13.808,
          13.743,
          13.689499999999999,
          13.738,
          13.782,
          13.722,
          13.738,
          13.772333333333334,
          13.7265,
          13.7675,
          13.7634,
          13.58,
          13.726714285714285,
          13.697,
          13.6725,
          13.786999999999999,
          13.778,
          13.808,
          13.714,
          13.82,
          13.826,
          13.698666666666668,
          13.695333333333332,
          13.713333333333333,
          13.726,
          13.69025,
          13.925,
          13.756,
          13.8255,
          13.732666666666667,
          13.7105,
          13.876999999999999,
          13.905000000000001,
          13.821,
          13.761,
          13.779,
          13.867799999999999,
          13.672,
          13.770499999999998,
          13.6325,
          13.646
         ],
         "legendgroup": "",
         "lon": [
          100.49925,
          100.5154,
          100.85612499999999,
          100.5232,
          100.628,
          100.64750000000001,
          100.53175,
          100.51140000000001,
          100.626,
          100.7485,
          100.78916666666667,
          100.5385,
          100.50933333333334,
          100.545,
          100.48479999999999,
          100.4805,
          100.58066666666666,
          100.5025,
          100.43983333333334,
          100.47279999999999,
          100.4145,
          100.44557142857143,
          100.3545,
          100.5005,
          100.49325,
          100.567,
          100.65,
          100.529,
          100.529,
          100.565,
          100.50600000000001,
          100.66966666666667,
          100.57866666666666,
          100.628,
          100.4655,
          100.593,
          100.53875,
          100.606,
          100.57733333333333,
          100.39750000000001,
          100.572,
          100.652,
          100.677,
          100.688,
          100.609,
          100.7398,
          100.616,
          100.369,
          100.5035,
          100.37
         ],
         "marker": {
          "color": [
           0.4828952286034633,
           0.5317465550207687,
           0.4852237591537836,
           0.468533264834318,
           0.46582581736189405,
           0.45293094180552806,
           0.4704073212812242,
           0.48770405476566614,
           0.446985446985447,
           0.4707876964984961,
           0.472429350906242,
           0.46169162370782535,
           0.48532209140918203,
           0.48431053881735214,
           0.4656493215435394,
           0.4646964671715922,
           0.44591817225886626,
           0.4597639071059332,
           0.4652209977485484,
           0.4659705122048411,
           0.4694484956517042,
           0.4615315137780405,
           0.46386991492353435,
           0.4747469394244528,
           0.45208873391296367,
           0.4562748386626317,
           0.45434514559210865,
           0.4714715136532195,
           0.46086230313050963,
           0.4573777838396041,
           0.46973996491590136,
           0.46720580397446076,
           0.47193449517886304,
           0.45535844945610643,
           0.47148564170610735,
           0.49682557797305493,
           0.47146170249194513,
           0.4532243093922652,
           0.4627727057887012,
           0.46220043913048003,
           0.47119534239882743,
           0.4670560891442962,
           0.46485184444982064,
           0.45752953414837627,
           0.45373656875924834,
           0.468964932046707,
           0.46025433471762744,
           0.46118366630737223,
           0.4669072920778917,
           0.47525326193378226
          ],
          "coloraxis": "coloraxis",
          "size": [
           40135,
           75835,
           184350,
           42823,
           184496,
           141388,
           39993,
           37980,
           85618,
           140968,
           179974,
           73326,
           19451,
           63992,
           98164,
           60603,
           83688,
           64805,
           101268,
           97871,
           185130,
           121788,
           155037,
           75476,
           87182,
           109708,
           137061,
           71192,
           118543,
           153969,
           77528,
           183874,
           89398,
           123002,
           140929,
           166487,
           64247,
           113125,
           80398,
           192198,
           98248,
           211253,
           95069,
           97091,
           103397,
           212131,
           85242,
           79786,
           124121,
           100094
          ],
          "sizemode": "area",
          "sizeref": 235.70111111111112
         },
         "mode": "markers",
         "name": "",
         "showlegend": false,
         "subplot": "mapbox",
         "type": "scattermapbox"
        }
       ],
       "layout": {
        "coloraxis": {
         "colorbar": {
          "title": {
           "text": "Male Ratio"
          }
         },
         "colorscale": [
          [
           0,
           "rgb(103,0,31)"
          ],
          [
           0.1,
           "rgb(178,24,43)"
          ],
          [
           0.2,
           "rgb(214,96,77)"
          ],
          [
           0.3,
           "rgb(244,165,130)"
          ],
          [
           0.4,
           "rgb(253,219,199)"
          ],
          [
           0.5,
           "rgb(247,247,247)"
          ],
          [
           0.6,
           "rgb(209,229,240)"
          ],
          [
           0.7,
           "rgb(146,197,222)"
          ],
          [
           0.8,
           "rgb(67,147,195)"
          ],
          [
           0.9,
           "rgb(33,102,172)"
          ],
          [
           1,
           "rgb(5,48,97)"
          ]
         ]
        },
        "height": 500,
        "legend": {
         "itemsizing": "constant",
         "tracegroupgap": 0
        },
        "mapbox": {
         "center": {
          "lat": 13.755893285714285,
          "lon": 100.55670526190475
         },
         "domain": {
          "x": [
           0,
           1
          ],
          "y": [
           0,
           1
          ]
         },
         "style": "open-street-map",
         "zoom": 8
        },
        "margin": {
         "b": 20,
         "l": 20,
         "r": 20,
         "t": 40
        },
        "template": {
         "data": {
          "bar": [
           {
            "error_x": {
             "color": "#2a3f5f"
            },
            "error_y": {
             "color": "#2a3f5f"
            },
            "marker": {
             "line": {
              "color": "#E5ECF6",
              "width": 0.5
             },
             "pattern": {
              "fillmode": "overlay",
              "size": 10,
              "solidity": 0.2
             }
            },
            "type": "bar"
           }
          ],
          "barpolar": [
           {
            "marker": {
             "line": {
              "color": "#E5ECF6",
              "width": 0.5
             },
             "pattern": {
              "fillmode": "overlay",
              "size": 10,
              "solidity": 0.2
             }
            },
            "type": "barpolar"
           }
          ],
          "carpet": [
           {
            "aaxis": {
             "endlinecolor": "#2a3f5f",
             "gridcolor": "white",
             "linecolor": "white",
             "minorgridcolor": "white",
             "startlinecolor": "#2a3f5f"
            },
            "baxis": {
             "endlinecolor": "#2a3f5f",
             "gridcolor": "white",
             "linecolor": "white",
             "minorgridcolor": "white",
             "startlinecolor": "#2a3f5f"
            },
            "type": "carpet"
           }
          ],
          "choropleth": [
           {
            "colorbar": {
             "outlinewidth": 0,
             "ticks": ""
            },
            "type": "choropleth"
           }
          ],
          "contour": [
           {
            "colorbar": {
             "outlinewidth": 0,
             "ticks": ""
            },
            "colorscale": [
             [
              0,
              "#0d0887"
             ],
             [
              0.1111111111111111,
              "#46039f"
             ],
             [
              0.2222222222222222,
              "#7201a8"
             ],
             [
              0.3333333333333333,
              "#9c179e"
             ],
             [
              0.4444444444444444,
              "#bd3786"
             ],
             [
              0.5555555555555556,
              "#d8576b"
             ],
             [
              0.6666666666666666,
              "#ed7953"
             ],
             [
              0.7777777777777778,
              "#fb9f3a"
             ],
             [
              0.8888888888888888,
              "#fdca26"
             ],
             [
              1,
              "#f0f921"
             ]
            ],
            "type": "contour"
           }
          ],
          "contourcarpet": [
           {
            "colorbar": {
             "outlinewidth": 0,
             "ticks": ""
            },
            "type": "contourcarpet"
           }
          ],
          "heatmap": [
           {
            "colorbar": {
             "outlinewidth": 0,
             "ticks": ""
            },
            "colorscale": [
             [
              0,
              "#0d0887"
             ],
             [
              0.1111111111111111,
              "#46039f"
             ],
             [
              0.2222222222222222,
              "#7201a8"
             ],
             [
              0.3333333333333333,
              "#9c179e"
             ],
             [
              0.4444444444444444,
              "#bd3786"
             ],
             [
              0.5555555555555556,
              "#d8576b"
             ],
             [
              0.6666666666666666,
              "#ed7953"
             ],
             [
              0.7777777777777778,
              "#fb9f3a"
             ],
             [
              0.8888888888888888,
              "#fdca26"
             ],
             [
              1,
              "#f0f921"
             ]
            ],
            "type": "heatmap"
           }
          ],
          "heatmapgl": [
           {
            "colorbar": {
             "outlinewidth": 0,
             "ticks": ""
            },
            "colorscale": [
             [
              0,
              "#0d0887"
             ],
             [
              0.1111111111111111,
              "#46039f"
             ],
             [
              0.2222222222222222,
              "#7201a8"
             ],
             [
              0.3333333333333333,
              "#9c179e"
             ],
             [
              0.4444444444444444,
              "#bd3786"
             ],
             [
              0.5555555555555556,
              "#d8576b"
             ],
             [
              0.6666666666666666,
              "#ed7953"
             ],
             [
              0.7777777777777778,
              "#fb9f3a"
             ],
             [
              0.8888888888888888,
              "#fdca26"
             ],
             [
              1,
              "#f0f921"
             ]
            ],
            "type": "heatmapgl"
           }
          ],
          "histogram": [
           {
            "marker": {
             "pattern": {
              "fillmode": "overlay",
              "size": 10,
              "solidity": 0.2
             }
            },
            "type": "histogram"
           }
          ],
          "histogram2d": [
           {
            "colorbar": {
             "outlinewidth": 0,
             "ticks": ""
            },
            "colorscale": [
             [
              0,
              "#0d0887"
             ],
             [
              0.1111111111111111,
              "#46039f"
             ],
             [
              0.2222222222222222,
              "#7201a8"
             ],
             [
              0.3333333333333333,
              "#9c179e"
             ],
             [
              0.4444444444444444,
              "#bd3786"
             ],
             [
              0.5555555555555556,
              "#d8576b"
             ],
             [
              0.6666666666666666,
              "#ed7953"
             ],
             [
              0.7777777777777778,
              "#fb9f3a"
             ],
             [
              0.8888888888888888,
              "#fdca26"
             ],
             [
              1,
              "#f0f921"
             ]
            ],
            "type": "histogram2d"
           }
          ],
          "histogram2dcontour": [
           {
            "colorbar": {
             "outlinewidth": 0,
             "ticks": ""
            },
            "colorscale": [
             [
              0,
              "#0d0887"
             ],
             [
              0.1111111111111111,
              "#46039f"
             ],
             [
              0.2222222222222222,
              "#7201a8"
             ],
             [
              0.3333333333333333,
              "#9c179e"
             ],
             [
              0.4444444444444444,
              "#bd3786"
             ],
             [
              0.5555555555555556,
              "#d8576b"
             ],
             [
              0.6666666666666666,
              "#ed7953"
             ],
             [
              0.7777777777777778,
              "#fb9f3a"
             ],
             [
              0.8888888888888888,
              "#fdca26"
             ],
             [
              1,
              "#f0f921"
             ]
            ],
            "type": "histogram2dcontour"
           }
          ],
          "mesh3d": [
           {
            "colorbar": {
             "outlinewidth": 0,
             "ticks": ""
            },
            "type": "mesh3d"
           }
          ],
          "parcoords": [
           {
            "line": {
             "colorbar": {
              "outlinewidth": 0,
              "ticks": ""
             }
            },
            "type": "parcoords"
           }
          ],
          "pie": [
           {
            "automargin": true,
            "type": "pie"
           }
          ],
          "scatter": [
           {
            "marker": {
             "colorbar": {
              "outlinewidth": 0,
              "ticks": ""
             }
            },
            "type": "scatter"
           }
          ],
          "scatter3d": [
           {
            "line": {
             "colorbar": {
              "outlinewidth": 0,
              "ticks": ""
             }
            },
            "marker": {
             "colorbar": {
              "outlinewidth": 0,
              "ticks": ""
             }
            },
            "type": "scatter3d"
           }
          ],
          "scattercarpet": [
           {
            "marker": {
             "colorbar": {
              "outlinewidth": 0,
              "ticks": ""
             }
            },
            "type": "scattercarpet"
           }
          ],
          "scattergeo": [
           {
            "marker": {
             "colorbar": {
              "outlinewidth": 0,
              "ticks": ""
             }
            },
            "type": "scattergeo"
           }
          ],
          "scattergl": [
           {
            "marker": {
             "colorbar": {
              "outlinewidth": 0,
              "ticks": ""
             }
            },
            "type": "scattergl"
           }
          ],
          "scattermapbox": [
           {
            "marker": {
             "colorbar": {
              "outlinewidth": 0,
              "ticks": ""
             }
            },
            "type": "scattermapbox"
           }
          ],
          "scatterpolar": [
           {
            "marker": {
             "colorbar": {
              "outlinewidth": 0,
              "ticks": ""
             }
            },
            "type": "scatterpolar"
           }
          ],
          "scatterpolargl": [
           {
            "marker": {
             "colorbar": {
              "outlinewidth": 0,
              "ticks": ""
             }
            },
            "type": "scatterpolargl"
           }
          ],
          "scatterternary": [
           {
            "marker": {
             "colorbar": {
              "outlinewidth": 0,
              "ticks": ""
             }
            },
            "type": "scatterternary"
           }
          ],
          "surface": [
           {
            "colorbar": {
             "outlinewidth": 0,
             "ticks": ""
            },
            "colorscale": [
             [
              0,
              "#0d0887"
             ],
             [
              0.1111111111111111,
              "#46039f"
             ],
             [
              0.2222222222222222,
              "#7201a8"
             ],
             [
              0.3333333333333333,
              "#9c179e"
             ],
             [
              0.4444444444444444,
              "#bd3786"
             ],
             [
              0.5555555555555556,
              "#d8576b"
             ],
             [
              0.6666666666666666,
              "#ed7953"
             ],
             [
              0.7777777777777778,
              "#fb9f3a"
             ],
             [
              0.8888888888888888,
              "#fdca26"
             ],
             [
              1,
              "#f0f921"
             ]
            ],
            "type": "surface"
           }
          ],
          "table": [
           {
            "cells": {
             "fill": {
              "color": "#EBF0F8"
             },
             "line": {
              "color": "white"
             }
            },
            "header": {
             "fill": {
              "color": "#C8D4E3"
             },
             "line": {
              "color": "white"
             }
            },
            "type": "table"
           }
          ]
         },
         "layout": {
          "annotationdefaults": {
           "arrowcolor": "#2a3f5f",
           "arrowhead": 0,
           "arrowwidth": 1
          },
          "autotypenumbers": "strict",
          "coloraxis": {
           "colorbar": {
            "outlinewidth": 0,
            "ticks": ""
           }
          },
          "colorscale": {
           "diverging": [
            [
             0,
             "#8e0152"
            ],
            [
             0.1,
             "#c51b7d"
            ],
            [
             0.2,
             "#de77ae"
            ],
            [
             0.3,
             "#f1b6da"
            ],
            [
             0.4,
             "#fde0ef"
            ],
            [
             0.5,
             "#f7f7f7"
            ],
            [
             0.6,
             "#e6f5d0"
            ],
            [
             0.7,
             "#b8e186"
            ],
            [
             0.8,
             "#7fbc41"
            ],
            [
             0.9,
             "#4d9221"
            ],
            [
             1,
             "#276419"
            ]
           ],
           "sequential": [
            [
             0,
             "#0d0887"
            ],
            [
             0.1111111111111111,
             "#46039f"
            ],
            [
             0.2222222222222222,
             "#7201a8"
            ],
            [
             0.3333333333333333,
             "#9c179e"
            ],
            [
             0.4444444444444444,
             "#bd3786"
            ],
            [
             0.5555555555555556,
             "#d8576b"
            ],
            [
             0.6666666666666666,
             "#ed7953"
            ],
            [
             0.7777777777777778,
             "#fb9f3a"
            ],
            [
             0.8888888888888888,
             "#fdca26"
            ],
            [
             1,
             "#f0f921"
            ]
           ],
           "sequentialminus": [
            [
             0,
             "#0d0887"
            ],
            [
             0.1111111111111111,
             "#46039f"
            ],
            [
             0.2222222222222222,
             "#7201a8"
            ],
            [
             0.3333333333333333,
             "#9c179e"
            ],
            [
             0.4444444444444444,
             "#bd3786"
            ],
            [
             0.5555555555555556,
             "#d8576b"
            ],
            [
             0.6666666666666666,
             "#ed7953"
            ],
            [
             0.7777777777777778,
             "#fb9f3a"
            ],
            [
             0.8888888888888888,
             "#fdca26"
            ],
            [
             1,
             "#f0f921"
            ]
           ]
          },
          "colorway": [
           "#636efa",
           "#EF553B",
           "#00cc96",
           "#ab63fa",
           "#FFA15A",
           "#19d3f3",
           "#FF6692",
           "#B6E880",
           "#FF97FF",
           "#FECB52"
          ],
          "font": {
           "color": "#2a3f5f"
          },
          "geo": {
           "bgcolor": "white",
           "lakecolor": "white",
           "landcolor": "#E5ECF6",
           "showlakes": true,
           "showland": true,
           "subunitcolor": "white"
          },
          "hoverlabel": {
           "align": "left"
          },
          "hovermode": "closest",
          "mapbox": {
           "style": "light"
          },
          "paper_bgcolor": "white",
          "plot_bgcolor": "#E5ECF6",
          "polar": {
           "angularaxis": {
            "gridcolor": "white",
            "linecolor": "white",
            "ticks": ""
           },
           "bgcolor": "#E5ECF6",
           "radialaxis": {
            "gridcolor": "white",
            "linecolor": "white",
            "ticks": ""
           }
          },
          "scene": {
           "xaxis": {
            "backgroundcolor": "#E5ECF6",
            "gridcolor": "white",
            "gridwidth": 2,
            "linecolor": "white",
            "showbackground": true,
            "ticks": "",
            "zerolinecolor": "white"
           },
           "yaxis": {
            "backgroundcolor": "#E5ECF6",
            "gridcolor": "white",
            "gridwidth": 2,
            "linecolor": "white",
            "showbackground": true,
            "ticks": "",
            "zerolinecolor": "white"
           },
           "zaxis": {
            "backgroundcolor": "#E5ECF6",
            "gridcolor": "white",
            "gridwidth": 2,
            "linecolor": "white",
            "showbackground": true,
            "ticks": "",
            "zerolinecolor": "white"
           }
          },
          "shapedefaults": {
           "line": {
            "color": "#2a3f5f"
           }
          },
          "ternary": {
           "aaxis": {
            "gridcolor": "white",
            "linecolor": "white",
            "ticks": ""
           },
           "baxis": {
            "gridcolor": "white",
            "linecolor": "white",
            "ticks": ""
           },
           "bgcolor": "#E5ECF6",
           "caxis": {
            "gridcolor": "white",
            "linecolor": "white",
            "ticks": ""
           }
          },
          "title": {
           "x": 0.05
          },
          "xaxis": {
           "automargin": true,
           "gridcolor": "white",
           "linecolor": "white",
           "ticks": "",
           "title": {
            "standoff": 15
           },
           "zerolinecolor": "white",
           "zerolinewidth": 2
          },
          "yaxis": {
           "automargin": true,
           "gridcolor": "white",
           "linecolor": "white",
           "ticks": "",
           "title": {
            "standoff": 15
           },
           "zerolinecolor": "white",
           "zerolinewidth": 2
          }
         }
        },
        "title": {
         "font": {
          "size": 20
         },
         "text": "Male Ratio in each District",
         "x": 0.025,
         "y": 0.9675
        },
        "width": 800
       }
      }
     },
     "metadata": {},
     "output_type": "display_data"
    }
   ],
   "source": [
    "fig = px.scatter_mapbox(df_merge,\n",
    "                        lat = 'lat',\n",
    "                        lon = 'long',\n",
    "                        color = 'Male Ratio',\n",
    "                        size = 'Population',\n",
    "                        hover_name = 'District',\n",
    "                        hover_data = ['Male Ratio'],\n",
    "                        color_continuous_scale = px.colors.diverging.RdBu,\n",
    "                        size_max = 30,\n",
    "                        width = 800,\n",
    "                        height = 500)\n",
    "fig.update_layout(mapbox_style = 'open-street-map',\n",
    "                  margin = dict(l = 20, r = 20, t = 40, b = 20),\n",
    "                  title = {'text':'Male Ratio in each District',\n",
    "                           'font': {'size': 20},\n",
    "                           'x': 0.025,\n",
    "                           'y': 0.9675})\n",
    "fig.show()"
   ]
  },
  {
   "cell_type": "code",
   "execution_count": 194,
   "metadata": {},
   "outputs": [
    {
     "data": {
      "text/html": [
       "<div>\n",
       "<style scoped>\n",
       "    .dataframe tbody tr th:only-of-type {\n",
       "        vertical-align: middle;\n",
       "    }\n",
       "\n",
       "    .dataframe tbody tr th {\n",
       "        vertical-align: top;\n",
       "    }\n",
       "\n",
       "    .dataframe thead th {\n",
       "        text-align: right;\n",
       "    }\n",
       "</style>\n",
       "<table border=\"1\" class=\"dataframe\">\n",
       "  <thead>\n",
       "    <tr style=\"text-align: right;\">\n",
       "      <th></th>\n",
       "      <th>District</th>\n",
       "      <th>Male</th>\n",
       "      <th>Female</th>\n",
       "      <th>Population</th>\n",
       "      <th>Area (sq. km)</th>\n",
       "      <th>lat</th>\n",
       "      <th>long</th>\n",
       "      <th>Male Ratio</th>\n",
       "      <th>People per sq. km</th>\n",
       "    </tr>\n",
       "  </thead>\n",
       "  <tbody>\n",
       "    <tr>\n",
       "      <th>1</th>\n",
       "      <td>ดุสิต</td>\n",
       "      <td>40325</td>\n",
       "      <td>35510</td>\n",
       "      <td>75835</td>\n",
       "      <td>10.67</td>\n",
       "      <td>13.7728</td>\n",
       "      <td>100.5154</td>\n",
       "      <td>0.531747</td>\n",
       "      <td>7107.310216</td>\n",
       "    </tr>\n",
       "  </tbody>\n",
       "</table>\n",
       "</div>"
      ],
      "text/plain": [
       "  District   Male  Female  Population  Area (sq. km)      lat      long  \\\n",
       "1    ดุสิต  40325   35510       75835          10.67  13.7728  100.5154   \n",
       "\n",
       "   Male Ratio  People per sq. km  \n",
       "1    0.531747        7107.310216  "
      ]
     },
     "execution_count": 194,
     "metadata": {},
     "output_type": "execute_result"
    }
   ],
   "source": [
    "df_merge[df_merge['Male Ratio'] > 0.5]"
   ]
  },
  {
   "cell_type": "markdown",
   "metadata": {},
   "source": [
    "There is only one district which is Dusit that has more men than women"
   ]
  },
  {
   "cell_type": "markdown",
   "metadata": {},
   "source": [
    "## 4.3 Understanding the density of population per area of each district"
   ]
  },
  {
   "cell_type": "code",
   "execution_count": 193,
   "metadata": {},
   "outputs": [
    {
     "data": {
      "application/vnd.plotly.v1+json": {
       "config": {
        "plotlyServerURL": "https://plot.ly"
       },
       "data": [
        {
         "customdata": [
          [
           7244.584837545126
          ],
          [
           7107.310215557638
          ],
          [
           780.2844324049776
          ],
          [
           7729.783393501805
          ],
          [
           4380.246913580248
          ],
          [
           4957.50350631136
          ],
          [
           4778.136200716846
          ],
          [
           19678.75647668394
          ],
          [
           6119.942816297355
          ],
          [
           2214.7368421052633
          ],
          [
           1453.0437590828355
          ],
          [
           4401.320528211285
          ],
          [
           13697.887323943663
          ],
          [
           6665.833333333334
          ],
          [
           11481.169590643274
          ],
          [
           9806.310679611652
          ],
          [
           5568.0638722554895
          ],
          [
           10711.570247933885
          ],
          [
           3435.1424694708276
          ],
          [
           8196.901172529313
          ],
          [
           1533.9299030574198
          ],
          [
           6830.510375771173
          ],
          [
           4327.0164666480605
          ],
          [
           4783.016476552599
          ],
          [
           7674.471830985916
          ],
          [
           13138.68263473054
          ],
          [
           5638.050185109009
          ],
          [
           7630.439442658092
          ],
          [
           10263.463203463203
          ],
          [
           4678.486782133091
          ],
          [
           7099.6336996336995
          ],
          [
           3503.029148409221
          ],
          [
           6882.06312548114
          ],
          [
           5194.341216216217
          ],
          [
           5364.636467453369
          ],
          [
           4524.103260869566
          ],
          [
           9010.799438990183
          ],
          [
           5174.977127172919
          ],
          [
           6396.022275258552
          ],
          [
           4322.941970310391
          ],
          [
           4301.576182136602
          ],
          [
           4734.491259524877
          ],
          [
           3659.314857582756
          ],
          [
           3452.7382645803696
          ],
          [
           5283.444047010731
          ],
          [
           1916.4423163790768
          ],
          [
           4536.562001064396
          ],
          [
           1588.7295898048587
          ],
          [
           4037.768379960963
          ],
          [
           2880.4028776978416
          ]
         ],
         "hovertemplate": "<b>%{hovertext}</b><br><br>Area (sq. km)=%{marker.size}<br>lat=%{lat}<br>long=%{lon}<br>People per sq. km=%{marker.color}<extra></extra>",
         "hovertext": [
          "พระนคร",
          "ดุสิต",
          "หนองจอก",
          "บางรัก",
          "บางเขน",
          "บางกะปิ",
          "ปทุมวัน",
          "ป้อมปราบศัตรูพ่าย",
          "พระโขนง",
          "มีนบุรี",
          "ลาดกระบัง",
          "ยานนาวา",
          "สัมพันธวงศ์",
          "พญาไท",
          "ธนบุรี",
          "บางกอกใหญ่",
          "ห้วยขวาง",
          "คลองสาน",
          "ตลิ่งชัน",
          "บางกอกน้อย",
          "บางขุนเทียน",
          "ภาษีเจริญ",
          "หนองแขม",
          "ราษฎร์บูรณะ",
          "บางพลัด",
          "ดินแดง",
          "บึงกุ่ม",
          "สาทร",
          "บางซื่อ",
          "จตุจักร",
          "บางคอแหลม",
          "ประเวศ",
          "คลองเตย",
          "สวนหลวง",
          "จอมทอง",
          "ดอนเมือง",
          "ราชเทวี",
          "ลาดพร้าว",
          "วัฒนา",
          "บางแค",
          "หลักสี่",
          "สายไหม",
          "คันนายาว",
          "สะพานสูง",
          "วังทองหลาง",
          "คลองสามวา",
          "บางนา",
          "ทวีวัฒนา",
          "ทุ่งครุ",
          "บางบอน"
         ],
         "lat": [
          13.756416666666667,
          13.7728,
          13.85125,
          13.728,
          13.867,
          13.771,
          13.7405,
          13.7512,
          13.692,
          13.808,
          13.743,
          13.689499999999999,
          13.738,
          13.782,
          13.722,
          13.738,
          13.772333333333334,
          13.7265,
          13.7675,
          13.7634,
          13.58,
          13.726714285714285,
          13.697,
          13.6725,
          13.786999999999999,
          13.778,
          13.808,
          13.714,
          13.82,
          13.826,
          13.698666666666668,
          13.695333333333332,
          13.713333333333333,
          13.726,
          13.69025,
          13.925,
          13.756,
          13.8255,
          13.732666666666667,
          13.7105,
          13.876999999999999,
          13.905000000000001,
          13.821,
          13.761,
          13.779,
          13.867799999999999,
          13.672,
          13.770499999999998,
          13.6325,
          13.646
         ],
         "legendgroup": "",
         "lon": [
          100.49925,
          100.5154,
          100.85612499999999,
          100.5232,
          100.628,
          100.64750000000001,
          100.53175,
          100.51140000000001,
          100.626,
          100.7485,
          100.78916666666667,
          100.5385,
          100.50933333333334,
          100.545,
          100.48479999999999,
          100.4805,
          100.58066666666666,
          100.5025,
          100.43983333333334,
          100.47279999999999,
          100.4145,
          100.44557142857143,
          100.3545,
          100.5005,
          100.49325,
          100.567,
          100.65,
          100.529,
          100.529,
          100.565,
          100.50600000000001,
          100.66966666666667,
          100.57866666666666,
          100.628,
          100.4655,
          100.593,
          100.53875,
          100.606,
          100.57733333333333,
          100.39750000000001,
          100.572,
          100.652,
          100.677,
          100.688,
          100.609,
          100.7398,
          100.616,
          100.369,
          100.5035,
          100.37
         ],
         "marker": {
          "color": [
           7244.584837545126,
           7107.310215557638,
           780.2844324049776,
           7729.783393501805,
           4380.246913580248,
           4957.50350631136,
           4778.136200716846,
           19678.75647668394,
           6119.942816297355,
           2214.7368421052633,
           1453.0437590828355,
           4401.320528211285,
           13697.887323943663,
           6665.833333333334,
           11481.169590643274,
           9806.310679611652,
           5568.0638722554895,
           10711.570247933885,
           3435.1424694708276,
           8196.901172529313,
           1533.9299030574198,
           6830.510375771173,
           4327.0164666480605,
           4783.016476552599,
           7674.471830985916,
           13138.68263473054,
           5638.050185109009,
           7630.439442658092,
           10263.463203463203,
           4678.486782133091,
           7099.6336996336995,
           3503.029148409221,
           6882.06312548114,
           5194.341216216217,
           5364.636467453369,
           4524.103260869566,
           9010.799438990183,
           5174.977127172919,
           6396.022275258552,
           4322.941970310391,
           4301.576182136602,
           4734.491259524877,
           3659.314857582756,
           3452.7382645803696,
           5283.444047010731,
           1916.4423163790768,
           4536.562001064396,
           1588.7295898048587,
           4037.768379960963,
           2880.4028776978416
          ],
          "coloraxis": "coloraxis",
          "size": [
           5.54,
           10.67,
           236.26,
           5.54,
           42.12,
           28.52,
           8.37,
           1.93,
           13.99,
           63.65,
           123.86,
           16.66,
           1.42,
           9.6,
           8.55,
           6.18,
           15.03,
           6.05,
           29.48,
           11.94,
           120.69,
           17.83,
           35.83,
           15.78,
           11.36,
           8.35,
           24.31,
           9.33,
           11.55,
           32.91,
           10.92,
           52.49,
           12.99,
           23.68,
           26.27,
           36.8,
           7.13,
           21.86,
           12.57,
           44.46,
           22.84,
           44.62,
           25.98,
           28.12,
           19.57,
           110.69,
           18.79,
           50.22,
           30.74,
           34.75
          ],
          "sizemode": "area",
          "sizeref": 0.036915625
         },
         "mode": "markers",
         "name": "",
         "showlegend": false,
         "subplot": "mapbox",
         "type": "scattermapbox"
        }
       ],
       "layout": {
        "coloraxis": {
         "colorbar": {
          "title": {
           "text": "People per sq. km"
          }
         },
         "colorscale": [
          [
           0,
           "rgb(23, 28, 66)"
          ],
          [
           0.09090909090909091,
           "rgb(41, 58, 143)"
          ],
          [
           0.18181818181818182,
           "rgb(11, 102, 189)"
          ],
          [
           0.2727272727272727,
           "rgb(69, 144, 185)"
          ],
          [
           0.36363636363636365,
           "rgb(142, 181, 194)"
          ],
          [
           0.45454545454545453,
           "rgb(210, 216, 219)"
          ],
          [
           0.5454545454545454,
           "rgb(230, 210, 204)"
          ],
          [
           0.6363636363636364,
           "rgb(213, 157, 137)"
          ],
          [
           0.7272727272727273,
           "rgb(196, 101, 72)"
          ],
          [
           0.8181818181818182,
           "rgb(172, 43, 36)"
          ],
          [
           0.9090909090909091,
           "rgb(120, 14, 40)"
          ],
          [
           1,
           "rgb(60, 9, 17)"
          ]
         ]
        },
        "height": 500,
        "legend": {
         "itemsizing": "constant",
         "tracegroupgap": 0
        },
        "mapbox": {
         "center": {
          "lat": 13.755893285714285,
          "lon": 100.55670526190475
         },
         "domain": {
          "x": [
           0,
           1
          ],
          "y": [
           0,
           1
          ]
         },
         "style": "open-street-map",
         "zoom": 8
        },
        "margin": {
         "b": 20,
         "l": 20,
         "r": 20,
         "t": 40
        },
        "template": {
         "data": {
          "bar": [
           {
            "error_x": {
             "color": "#2a3f5f"
            },
            "error_y": {
             "color": "#2a3f5f"
            },
            "marker": {
             "line": {
              "color": "#E5ECF6",
              "width": 0.5
             },
             "pattern": {
              "fillmode": "overlay",
              "size": 10,
              "solidity": 0.2
             }
            },
            "type": "bar"
           }
          ],
          "barpolar": [
           {
            "marker": {
             "line": {
              "color": "#E5ECF6",
              "width": 0.5
             },
             "pattern": {
              "fillmode": "overlay",
              "size": 10,
              "solidity": 0.2
             }
            },
            "type": "barpolar"
           }
          ],
          "carpet": [
           {
            "aaxis": {
             "endlinecolor": "#2a3f5f",
             "gridcolor": "white",
             "linecolor": "white",
             "minorgridcolor": "white",
             "startlinecolor": "#2a3f5f"
            },
            "baxis": {
             "endlinecolor": "#2a3f5f",
             "gridcolor": "white",
             "linecolor": "white",
             "minorgridcolor": "white",
             "startlinecolor": "#2a3f5f"
            },
            "type": "carpet"
           }
          ],
          "choropleth": [
           {
            "colorbar": {
             "outlinewidth": 0,
             "ticks": ""
            },
            "type": "choropleth"
           }
          ],
          "contour": [
           {
            "colorbar": {
             "outlinewidth": 0,
             "ticks": ""
            },
            "colorscale": [
             [
              0,
              "#0d0887"
             ],
             [
              0.1111111111111111,
              "#46039f"
             ],
             [
              0.2222222222222222,
              "#7201a8"
             ],
             [
              0.3333333333333333,
              "#9c179e"
             ],
             [
              0.4444444444444444,
              "#bd3786"
             ],
             [
              0.5555555555555556,
              "#d8576b"
             ],
             [
              0.6666666666666666,
              "#ed7953"
             ],
             [
              0.7777777777777778,
              "#fb9f3a"
             ],
             [
              0.8888888888888888,
              "#fdca26"
             ],
             [
              1,
              "#f0f921"
             ]
            ],
            "type": "contour"
           }
          ],
          "contourcarpet": [
           {
            "colorbar": {
             "outlinewidth": 0,
             "ticks": ""
            },
            "type": "contourcarpet"
           }
          ],
          "heatmap": [
           {
            "colorbar": {
             "outlinewidth": 0,
             "ticks": ""
            },
            "colorscale": [
             [
              0,
              "#0d0887"
             ],
             [
              0.1111111111111111,
              "#46039f"
             ],
             [
              0.2222222222222222,
              "#7201a8"
             ],
             [
              0.3333333333333333,
              "#9c179e"
             ],
             [
              0.4444444444444444,
              "#bd3786"
             ],
             [
              0.5555555555555556,
              "#d8576b"
             ],
             [
              0.6666666666666666,
              "#ed7953"
             ],
             [
              0.7777777777777778,
              "#fb9f3a"
             ],
             [
              0.8888888888888888,
              "#fdca26"
             ],
             [
              1,
              "#f0f921"
             ]
            ],
            "type": "heatmap"
           }
          ],
          "heatmapgl": [
           {
            "colorbar": {
             "outlinewidth": 0,
             "ticks": ""
            },
            "colorscale": [
             [
              0,
              "#0d0887"
             ],
             [
              0.1111111111111111,
              "#46039f"
             ],
             [
              0.2222222222222222,
              "#7201a8"
             ],
             [
              0.3333333333333333,
              "#9c179e"
             ],
             [
              0.4444444444444444,
              "#bd3786"
             ],
             [
              0.5555555555555556,
              "#d8576b"
             ],
             [
              0.6666666666666666,
              "#ed7953"
             ],
             [
              0.7777777777777778,
              "#fb9f3a"
             ],
             [
              0.8888888888888888,
              "#fdca26"
             ],
             [
              1,
              "#f0f921"
             ]
            ],
            "type": "heatmapgl"
           }
          ],
          "histogram": [
           {
            "marker": {
             "pattern": {
              "fillmode": "overlay",
              "size": 10,
              "solidity": 0.2
             }
            },
            "type": "histogram"
           }
          ],
          "histogram2d": [
           {
            "colorbar": {
             "outlinewidth": 0,
             "ticks": ""
            },
            "colorscale": [
             [
              0,
              "#0d0887"
             ],
             [
              0.1111111111111111,
              "#46039f"
             ],
             [
              0.2222222222222222,
              "#7201a8"
             ],
             [
              0.3333333333333333,
              "#9c179e"
             ],
             [
              0.4444444444444444,
              "#bd3786"
             ],
             [
              0.5555555555555556,
              "#d8576b"
             ],
             [
              0.6666666666666666,
              "#ed7953"
             ],
             [
              0.7777777777777778,
              "#fb9f3a"
             ],
             [
              0.8888888888888888,
              "#fdca26"
             ],
             [
              1,
              "#f0f921"
             ]
            ],
            "type": "histogram2d"
           }
          ],
          "histogram2dcontour": [
           {
            "colorbar": {
             "outlinewidth": 0,
             "ticks": ""
            },
            "colorscale": [
             [
              0,
              "#0d0887"
             ],
             [
              0.1111111111111111,
              "#46039f"
             ],
             [
              0.2222222222222222,
              "#7201a8"
             ],
             [
              0.3333333333333333,
              "#9c179e"
             ],
             [
              0.4444444444444444,
              "#bd3786"
             ],
             [
              0.5555555555555556,
              "#d8576b"
             ],
             [
              0.6666666666666666,
              "#ed7953"
             ],
             [
              0.7777777777777778,
              "#fb9f3a"
             ],
             [
              0.8888888888888888,
              "#fdca26"
             ],
             [
              1,
              "#f0f921"
             ]
            ],
            "type": "histogram2dcontour"
           }
          ],
          "mesh3d": [
           {
            "colorbar": {
             "outlinewidth": 0,
             "ticks": ""
            },
            "type": "mesh3d"
           }
          ],
          "parcoords": [
           {
            "line": {
             "colorbar": {
              "outlinewidth": 0,
              "ticks": ""
             }
            },
            "type": "parcoords"
           }
          ],
          "pie": [
           {
            "automargin": true,
            "type": "pie"
           }
          ],
          "scatter": [
           {
            "marker": {
             "colorbar": {
              "outlinewidth": 0,
              "ticks": ""
             }
            },
            "type": "scatter"
           }
          ],
          "scatter3d": [
           {
            "line": {
             "colorbar": {
              "outlinewidth": 0,
              "ticks": ""
             }
            },
            "marker": {
             "colorbar": {
              "outlinewidth": 0,
              "ticks": ""
             }
            },
            "type": "scatter3d"
           }
          ],
          "scattercarpet": [
           {
            "marker": {
             "colorbar": {
              "outlinewidth": 0,
              "ticks": ""
             }
            },
            "type": "scattercarpet"
           }
          ],
          "scattergeo": [
           {
            "marker": {
             "colorbar": {
              "outlinewidth": 0,
              "ticks": ""
             }
            },
            "type": "scattergeo"
           }
          ],
          "scattergl": [
           {
            "marker": {
             "colorbar": {
              "outlinewidth": 0,
              "ticks": ""
             }
            },
            "type": "scattergl"
           }
          ],
          "scattermapbox": [
           {
            "marker": {
             "colorbar": {
              "outlinewidth": 0,
              "ticks": ""
             }
            },
            "type": "scattermapbox"
           }
          ],
          "scatterpolar": [
           {
            "marker": {
             "colorbar": {
              "outlinewidth": 0,
              "ticks": ""
             }
            },
            "type": "scatterpolar"
           }
          ],
          "scatterpolargl": [
           {
            "marker": {
             "colorbar": {
              "outlinewidth": 0,
              "ticks": ""
             }
            },
            "type": "scatterpolargl"
           }
          ],
          "scatterternary": [
           {
            "marker": {
             "colorbar": {
              "outlinewidth": 0,
              "ticks": ""
             }
            },
            "type": "scatterternary"
           }
          ],
          "surface": [
           {
            "colorbar": {
             "outlinewidth": 0,
             "ticks": ""
            },
            "colorscale": [
             [
              0,
              "#0d0887"
             ],
             [
              0.1111111111111111,
              "#46039f"
             ],
             [
              0.2222222222222222,
              "#7201a8"
             ],
             [
              0.3333333333333333,
              "#9c179e"
             ],
             [
              0.4444444444444444,
              "#bd3786"
             ],
             [
              0.5555555555555556,
              "#d8576b"
             ],
             [
              0.6666666666666666,
              "#ed7953"
             ],
             [
              0.7777777777777778,
              "#fb9f3a"
             ],
             [
              0.8888888888888888,
              "#fdca26"
             ],
             [
              1,
              "#f0f921"
             ]
            ],
            "type": "surface"
           }
          ],
          "table": [
           {
            "cells": {
             "fill": {
              "color": "#EBF0F8"
             },
             "line": {
              "color": "white"
             }
            },
            "header": {
             "fill": {
              "color": "#C8D4E3"
             },
             "line": {
              "color": "white"
             }
            },
            "type": "table"
           }
          ]
         },
         "layout": {
          "annotationdefaults": {
           "arrowcolor": "#2a3f5f",
           "arrowhead": 0,
           "arrowwidth": 1
          },
          "autotypenumbers": "strict",
          "coloraxis": {
           "colorbar": {
            "outlinewidth": 0,
            "ticks": ""
           }
          },
          "colorscale": {
           "diverging": [
            [
             0,
             "#8e0152"
            ],
            [
             0.1,
             "#c51b7d"
            ],
            [
             0.2,
             "#de77ae"
            ],
            [
             0.3,
             "#f1b6da"
            ],
            [
             0.4,
             "#fde0ef"
            ],
            [
             0.5,
             "#f7f7f7"
            ],
            [
             0.6,
             "#e6f5d0"
            ],
            [
             0.7,
             "#b8e186"
            ],
            [
             0.8,
             "#7fbc41"
            ],
            [
             0.9,
             "#4d9221"
            ],
            [
             1,
             "#276419"
            ]
           ],
           "sequential": [
            [
             0,
             "#0d0887"
            ],
            [
             0.1111111111111111,
             "#46039f"
            ],
            [
             0.2222222222222222,
             "#7201a8"
            ],
            [
             0.3333333333333333,
             "#9c179e"
            ],
            [
             0.4444444444444444,
             "#bd3786"
            ],
            [
             0.5555555555555556,
             "#d8576b"
            ],
            [
             0.6666666666666666,
             "#ed7953"
            ],
            [
             0.7777777777777778,
             "#fb9f3a"
            ],
            [
             0.8888888888888888,
             "#fdca26"
            ],
            [
             1,
             "#f0f921"
            ]
           ],
           "sequentialminus": [
            [
             0,
             "#0d0887"
            ],
            [
             0.1111111111111111,
             "#46039f"
            ],
            [
             0.2222222222222222,
             "#7201a8"
            ],
            [
             0.3333333333333333,
             "#9c179e"
            ],
            [
             0.4444444444444444,
             "#bd3786"
            ],
            [
             0.5555555555555556,
             "#d8576b"
            ],
            [
             0.6666666666666666,
             "#ed7953"
            ],
            [
             0.7777777777777778,
             "#fb9f3a"
            ],
            [
             0.8888888888888888,
             "#fdca26"
            ],
            [
             1,
             "#f0f921"
            ]
           ]
          },
          "colorway": [
           "#636efa",
           "#EF553B",
           "#00cc96",
           "#ab63fa",
           "#FFA15A",
           "#19d3f3",
           "#FF6692",
           "#B6E880",
           "#FF97FF",
           "#FECB52"
          ],
          "font": {
           "color": "#2a3f5f"
          },
          "geo": {
           "bgcolor": "white",
           "lakecolor": "white",
           "landcolor": "#E5ECF6",
           "showlakes": true,
           "showland": true,
           "subunitcolor": "white"
          },
          "hoverlabel": {
           "align": "left"
          },
          "hovermode": "closest",
          "mapbox": {
           "style": "light"
          },
          "paper_bgcolor": "white",
          "plot_bgcolor": "#E5ECF6",
          "polar": {
           "angularaxis": {
            "gridcolor": "white",
            "linecolor": "white",
            "ticks": ""
           },
           "bgcolor": "#E5ECF6",
           "radialaxis": {
            "gridcolor": "white",
            "linecolor": "white",
            "ticks": ""
           }
          },
          "scene": {
           "xaxis": {
            "backgroundcolor": "#E5ECF6",
            "gridcolor": "white",
            "gridwidth": 2,
            "linecolor": "white",
            "showbackground": true,
            "ticks": "",
            "zerolinecolor": "white"
           },
           "yaxis": {
            "backgroundcolor": "#E5ECF6",
            "gridcolor": "white",
            "gridwidth": 2,
            "linecolor": "white",
            "showbackground": true,
            "ticks": "",
            "zerolinecolor": "white"
           },
           "zaxis": {
            "backgroundcolor": "#E5ECF6",
            "gridcolor": "white",
            "gridwidth": 2,
            "linecolor": "white",
            "showbackground": true,
            "ticks": "",
            "zerolinecolor": "white"
           }
          },
          "shapedefaults": {
           "line": {
            "color": "#2a3f5f"
           }
          },
          "ternary": {
           "aaxis": {
            "gridcolor": "white",
            "linecolor": "white",
            "ticks": ""
           },
           "baxis": {
            "gridcolor": "white",
            "linecolor": "white",
            "ticks": ""
           },
           "bgcolor": "#E5ECF6",
           "caxis": {
            "gridcolor": "white",
            "linecolor": "white",
            "ticks": ""
           }
          },
          "title": {
           "x": 0.05
          },
          "xaxis": {
           "automargin": true,
           "gridcolor": "white",
           "linecolor": "white",
           "ticks": "",
           "title": {
            "standoff": 15
           },
           "zerolinecolor": "white",
           "zerolinewidth": 2
          },
          "yaxis": {
           "automargin": true,
           "gridcolor": "white",
           "linecolor": "white",
           "ticks": "",
           "title": {
            "standoff": 15
           },
           "zerolinecolor": "white",
           "zerolinewidth": 2
          }
         }
        },
        "title": {
         "font": {
          "size": 20
         },
         "text": "Population per sq. km in Bangkok by District",
         "x": 0.025,
         "y": 0.9675
        },
        "width": 800
       }
      }
     },
     "metadata": {},
     "output_type": "display_data"
    }
   ],
   "source": [
    "fig = px.scatter_mapbox(df_merge,\n",
    "                        lat = 'lat',\n",
    "                        lon = 'long',\n",
    "                        color = 'People per sq. km',\n",
    "                        size = 'Area (sq. km)',\n",
    "                        hover_name = 'District',\n",
    "                        hover_data = ['People per sq. km'],\n",
    "                        color_continuous_scale = px.colors.diverging.balance,\n",
    "                        size_max = 80,\n",
    "                        width = 800,\n",
    "                        height = 500)\n",
    "fig.update_layout(mapbox_style = 'open-street-map',\n",
    "                  margin = dict(l = 20, r = 20, t = 40, b = 20),\n",
    "                  title = {'text':'Population per sq. km in Bangkok by District',\n",
    "                           'font': {'size': 20},\n",
    "                           'x': 0.025,\n",
    "                           'y': 0.9675})\n",
    "fig.show()"
   ]
  },
  {
   "cell_type": "code",
   "execution_count": 202,
   "metadata": {},
   "outputs": [
    {
     "data": {
      "text/html": [
       "<div>\n",
       "<style scoped>\n",
       "    .dataframe tbody tr th:only-of-type {\n",
       "        vertical-align: middle;\n",
       "    }\n",
       "\n",
       "    .dataframe tbody tr th {\n",
       "        vertical-align: top;\n",
       "    }\n",
       "\n",
       "    .dataframe thead th {\n",
       "        text-align: right;\n",
       "    }\n",
       "</style>\n",
       "<table border=\"1\" class=\"dataframe\">\n",
       "  <thead>\n",
       "    <tr style=\"text-align: right;\">\n",
       "      <th></th>\n",
       "      <th>District</th>\n",
       "      <th>Male</th>\n",
       "      <th>Female</th>\n",
       "      <th>Population</th>\n",
       "      <th>Area (sq. km)</th>\n",
       "      <th>lat</th>\n",
       "      <th>long</th>\n",
       "      <th>Male Ratio</th>\n",
       "      <th>People per sq. km</th>\n",
       "    </tr>\n",
       "  </thead>\n",
       "  <tbody>\n",
       "    <tr>\n",
       "      <th>7</th>\n",
       "      <td>ป้อมปราบศัตรูพ่าย</td>\n",
       "      <td>18523</td>\n",
       "      <td>19457</td>\n",
       "      <td>37980</td>\n",
       "      <td>1.93</td>\n",
       "      <td>13.7512</td>\n",
       "      <td>100.511400</td>\n",
       "      <td>0.487704</td>\n",
       "      <td>19678.756477</td>\n",
       "    </tr>\n",
       "    <tr>\n",
       "      <th>12</th>\n",
       "      <td>สัมพันธวงศ์</td>\n",
       "      <td>9440</td>\n",
       "      <td>10011</td>\n",
       "      <td>19451</td>\n",
       "      <td>1.42</td>\n",
       "      <td>13.7380</td>\n",
       "      <td>100.509333</td>\n",
       "      <td>0.485322</td>\n",
       "      <td>13697.887324</td>\n",
       "    </tr>\n",
       "    <tr>\n",
       "      <th>25</th>\n",
       "      <td>ดินแดง</td>\n",
       "      <td>50057</td>\n",
       "      <td>59651</td>\n",
       "      <td>109708</td>\n",
       "      <td>8.35</td>\n",
       "      <td>13.7780</td>\n",
       "      <td>100.567000</td>\n",
       "      <td>0.456275</td>\n",
       "      <td>13138.682635</td>\n",
       "    </tr>\n",
       "  </tbody>\n",
       "</table>\n",
       "</div>"
      ],
      "text/plain": [
       "             District   Male  Female  Population  Area (sq. km)      lat  \\\n",
       "7   ป้อมปราบศัตรูพ่าย  18523   19457       37980           1.93  13.7512   \n",
       "12        สัมพันธวงศ์   9440   10011       19451           1.42  13.7380   \n",
       "25             ดินแดง  50057   59651      109708           8.35  13.7780   \n",
       "\n",
       "          long  Male Ratio  People per sq. km  \n",
       "7   100.511400    0.487704       19678.756477  \n",
       "12  100.509333    0.485322       13697.887324  \n",
       "25  100.567000    0.456275       13138.682635  "
      ]
     },
     "execution_count": 202,
     "metadata": {},
     "output_type": "execute_result"
    }
   ],
   "source": [
    "df_merge[df_merge['People per sq. km'] > (2.5 * np.quantile(df_merge['People per sq. km'], 0.75)) - (1.5 * np.quantile(df_merge['People per sq. km'], 0.25))]"
   ]
  },
  {
   "cell_type": "markdown",
   "metadata": {},
   "source": [
    "Pom Prap Sattruphai and Samphanthawong rank among the five districts with the lowest population counts. With their small geographical areas, only around 1 to 2 square kilometers each, these districts are characterized by high population density, making them among the most densely populated areas in the region."
   ]
  },
  {
   "cell_type": "markdown",
   "metadata": {},
   "source": []
  }
 ],
 "metadata": {
  "kernelspec": {
   "display_name": "base",
   "language": "python",
   "name": "python3"
  },
  "language_info": {
   "codemirror_mode": {
    "name": "ipython",
    "version": 3
   },
   "file_extension": ".py",
   "mimetype": "text/x-python",
   "name": "python",
   "nbconvert_exporter": "python",
   "pygments_lexer": "ipython3",
   "version": "3.9.12"
  }
 },
 "nbformat": 4,
 "nbformat_minor": 2
}
